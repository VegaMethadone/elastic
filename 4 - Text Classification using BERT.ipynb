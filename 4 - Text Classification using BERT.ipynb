{
 "cells": [
  {
   "cell_type": "markdown",
   "id": "PWMdzT8z9y0F",
   "metadata": {
    "id": "PWMdzT8z9y0F"
   },
   "source": [
    "![](https://jalammar.github.io/images/bert-transfer-learning.png)\n",
    "\n",
    "![](https://jalammar.github.io/images/bert-output-vector.png)"
   ]
  },
  {
   "cell_type": "code",
   "execution_count": null,
   "id": "djWVqWZyOXi4",
   "metadata": {
    "id": "djWVqWZyOXi4"
   },
   "outputs": [],
   "source": [
    "!pip install torch transformers datasets evaluate seqeval"
   ]
  },
  {
   "cell_type": "code",
   "execution_count": 2,
   "id": "2iQlpqK8o7LL",
   "metadata": {
    "executionInfo": {
     "elapsed": 17495,
     "status": "ok",
     "timestamp": 1734456373897,
     "user": {
      "displayName": "Pavel Efimov",
      "userId": "11310524505359177201"
     },
     "user_tz": -180
    },
    "id": "2iQlpqK8o7LL"
   },
   "outputs": [],
   "source": [
    "from evaluate import load"
   ]
  },
  {
   "cell_type": "code",
   "execution_count": 3,
   "id": "aP5gjDGuCmwu",
   "metadata": {
    "executionInfo": {
     "elapsed": 437,
     "status": "ok",
     "timestamp": 1734456380546,
     "user": {
      "displayName": "Pavel Efimov",
      "userId": "11310524505359177201"
     },
     "user_tz": -180
    },
    "id": "aP5gjDGuCmwu"
   },
   "outputs": [],
   "source": [
    "from transformers import AutoModel, AutoTokenizer"
   ]
  },
  {
   "cell_type": "code",
   "execution_count": 4,
   "id": "GaIBCrOICmt1",
   "metadata": {
    "colab": {
     "base_uri": "https://localhost:8080/",
     "height": 242,
     "referenced_widgets": [
      "3b92637986864c9c9d17ca3e34d8a58e",
      "c7ecf718368e4a37b3c58a5486721caf",
      "44592eb7649843dba509264e62139fcf",
      "fd92c232e9184c56a6ede96f71a4908a",
      "cc73cd1350f249568210f01d2f72fc63",
      "f7f97517d794436bb07c58fa01bb84be",
      "ec5855ff96e1415795a47754dc39fdb2",
      "a8163df26c564d8dbcf4d2e641690495",
      "16c6d4496692471a85aebaef79dd7c5b",
      "e3ed7ff90a414304bbe9805fb14cbfa7",
      "28cd0acb58a348f6b2a6df1584548246",
      "bf37e0fddbc74900bbbb38c5429e99e1",
      "bf38f496156448e5b791a71833c232a3",
      "7b77866202154c3c8c3d39112ba7315d",
      "789ad75cb9994e118a9044f7cea6d4ac",
      "0b307466e5004b8b9cf1b52b719d5caf",
      "d6c14c4527774fb881ab90d21e0c023a",
      "b7b7585333a147a7b9b2a12b669611bc",
      "861c6ad9d41746588c385ade00451802",
      "07710af7d8d842dbba54b148e6e0dc78",
      "5cae9017f93b4dda88cf3370e97ddfe6",
      "6bd8fac756604bcab82db7c8be06b331",
      "41b1a1a534cc450d88e1a5aa6f0083a8",
      "049fd247970e47a1a92f36bfd9dee541",
      "d94dd3f732934f4fb931527bc4da1308",
      "9c59c87e5540442fa27701d7b09fd67a",
      "9735b401334848b0b494ed8b7c5bed09",
      "8e9a8c7ce30a49fda7d7b905d2a46b43",
      "6e45d40048a247e99852380f279cbb1b",
      "51bfe409dafe40f08012a7b0155d1a71",
      "dff540d210a54011a65db01205602a09",
      "68f117a583c942d29e3d08e89e643339",
      "76eb7bc09bdb4a27b7e3b20445ddfb72"
     ]
    },
    "executionInfo": {
     "elapsed": 6632,
     "status": "ok",
     "timestamp": 1734456387614,
     "user": {
      "displayName": "Pavel Efimov",
      "userId": "11310524505359177201"
     },
     "user_tz": -180
    },
    "id": "GaIBCrOICmt1",
    "outputId": "e8b1155e-b9ff-4888-a379-e4ee6e247b52"
   },
   "outputs": [
    {
     "name": "stderr",
     "output_type": "stream",
     "text": [
      "/usr/local/lib/python3.10/dist-packages/huggingface_hub/utils/_auth.py:94: UserWarning: \n",
      "The secret `HF_TOKEN` does not exist in your Colab secrets.\n",
      "To authenticate with the Hugging Face Hub, create a token in your settings tab (https://huggingface.co/settings/tokens), set it as secret in your Google Colab and restart your session.\n",
      "You will be able to reuse this secret in all of your notebooks.\n",
      "Please note that authentication is recommended but still optional to access public models or datasets.\n",
      "  warnings.warn(\n"
     ]
    },
    {
     "data": {
      "application/vnd.jupyter.widget-view+json": {
       "model_id": "3b92637986864c9c9d17ca3e34d8a58e",
       "version_major": 2,
       "version_minor": 0
      },
      "text/plain": [
       "config.json:   0%|          | 0.00/285 [00:00<?, ?B/s]"
      ]
     },
     "metadata": {},
     "output_type": "display_data"
    },
    {
     "data": {
      "application/vnd.jupyter.widget-view+json": {
       "model_id": "bf37e0fddbc74900bbbb38c5429e99e1",
       "version_major": 2,
       "version_minor": 0
      },
      "text/plain": [
       "pytorch_model.bin:   0%|          | 0.00/17.8M [00:00<?, ?B/s]"
      ]
     },
     "metadata": {},
     "output_type": "display_data"
    },
    {
     "data": {
      "application/vnd.jupyter.widget-view+json": {
       "model_id": "41b1a1a534cc450d88e1a5aa6f0083a8",
       "version_major": 2,
       "version_minor": 0
      },
      "text/plain": [
       "vocab.txt:   0%|          | 0.00/232k [00:00<?, ?B/s]"
      ]
     },
     "metadata": {},
     "output_type": "display_data"
    }
   ],
   "source": [
    "bert = AutoModel.from_pretrained(\"prajjwal1/bert-tiny\")\n",
    "tokenizer = AutoTokenizer.from_pretrained(\"prajjwal1/bert-tiny\")"
   ]
  },
  {
   "cell_type": "code",
   "execution_count": 5,
   "id": "YfyNRc5XCmq7",
   "metadata": {
    "colab": {
     "base_uri": "https://localhost:8080/"
    },
    "executionInfo": {
     "elapsed": 6,
     "status": "ok",
     "timestamp": 1734456387615,
     "user": {
      "displayName": "Pavel Efimov",
      "userId": "11310524505359177201"
     },
     "user_tz": -180
    },
    "id": "YfyNRc5XCmq7",
    "outputId": "75fc1ca7-cf58-4b26-896b-9c3f9b8729a4"
   },
   "outputs": [
    {
     "data": {
      "text/plain": [
       "BertModel(\n",
       "  (embeddings): BertEmbeddings(\n",
       "    (word_embeddings): Embedding(30522, 128, padding_idx=0)\n",
       "    (position_embeddings): Embedding(512, 128)\n",
       "    (token_type_embeddings): Embedding(2, 128)\n",
       "    (LayerNorm): LayerNorm((128,), eps=1e-12, elementwise_affine=True)\n",
       "    (dropout): Dropout(p=0.1, inplace=False)\n",
       "  )\n",
       "  (encoder): BertEncoder(\n",
       "    (layer): ModuleList(\n",
       "      (0-1): 2 x BertLayer(\n",
       "        (attention): BertAttention(\n",
       "          (self): BertSdpaSelfAttention(\n",
       "            (query): Linear(in_features=128, out_features=128, bias=True)\n",
       "            (key): Linear(in_features=128, out_features=128, bias=True)\n",
       "            (value): Linear(in_features=128, out_features=128, bias=True)\n",
       "            (dropout): Dropout(p=0.1, inplace=False)\n",
       "          )\n",
       "          (output): BertSelfOutput(\n",
       "            (dense): Linear(in_features=128, out_features=128, bias=True)\n",
       "            (LayerNorm): LayerNorm((128,), eps=1e-12, elementwise_affine=True)\n",
       "            (dropout): Dropout(p=0.1, inplace=False)\n",
       "          )\n",
       "        )\n",
       "        (intermediate): BertIntermediate(\n",
       "          (dense): Linear(in_features=128, out_features=512, bias=True)\n",
       "          (intermediate_act_fn): GELUActivation()\n",
       "        )\n",
       "        (output): BertOutput(\n",
       "          (dense): Linear(in_features=512, out_features=128, bias=True)\n",
       "          (LayerNorm): LayerNorm((128,), eps=1e-12, elementwise_affine=True)\n",
       "          (dropout): Dropout(p=0.1, inplace=False)\n",
       "        )\n",
       "      )\n",
       "    )\n",
       "  )\n",
       "  (pooler): BertPooler(\n",
       "    (dense): Linear(in_features=128, out_features=128, bias=True)\n",
       "    (activation): Tanh()\n",
       "  )\n",
       ")"
      ]
     },
     "execution_count": 5,
     "metadata": {},
     "output_type": "execute_result"
    }
   ],
   "source": [
    "bert"
   ]
  },
  {
   "cell_type": "code",
   "execution_count": 6,
   "id": "UC4SrCFECmf3",
   "metadata": {
    "colab": {
     "base_uri": "https://localhost:8080/"
    },
    "executionInfo": {
     "elapsed": 4,
     "status": "ok",
     "timestamp": 1734456387615,
     "user": {
      "displayName": "Pavel Efimov",
      "userId": "11310524505359177201"
     },
     "user_tz": -180
    },
    "id": "UC4SrCFECmf3",
    "outputId": "fd6486a7-c98d-47b3-fa14-6f01d81a2cef"
   },
   "outputs": [
    {
     "data": {
      "text/plain": [
       "BertTokenizerFast(name_or_path='prajjwal1/bert-tiny', vocab_size=30522, model_max_length=1000000000000000019884624838656, is_fast=True, padding_side='right', truncation_side='right', special_tokens={'unk_token': '[UNK]', 'sep_token': '[SEP]', 'pad_token': '[PAD]', 'cls_token': '[CLS]', 'mask_token': '[MASK]'}, clean_up_tokenization_spaces=True),  added_tokens_decoder={\n",
       "\t0: AddedToken(\"[PAD]\", rstrip=False, lstrip=False, single_word=False, normalized=False, special=True),\n",
       "\t100: AddedToken(\"[UNK]\", rstrip=False, lstrip=False, single_word=False, normalized=False, special=True),\n",
       "\t101: AddedToken(\"[CLS]\", rstrip=False, lstrip=False, single_word=False, normalized=False, special=True),\n",
       "\t102: AddedToken(\"[SEP]\", rstrip=False, lstrip=False, single_word=False, normalized=False, special=True),\n",
       "\t103: AddedToken(\"[MASK]\", rstrip=False, lstrip=False, single_word=False, normalized=False, special=True),\n",
       "}"
      ]
     },
     "execution_count": 6,
     "metadata": {},
     "output_type": "execute_result"
    }
   ],
   "source": [
    "tokenizer"
   ]
  },
  {
   "cell_type": "code",
   "execution_count": 7,
   "id": "8cYOIqDqEVkj",
   "metadata": {
    "colab": {
     "base_uri": "https://localhost:8080/"
    },
    "executionInfo": {
     "elapsed": 471,
     "status": "ok",
     "timestamp": 1734456391424,
     "user": {
      "displayName": "Pavel Efimov",
      "userId": "11310524505359177201"
     },
     "user_tz": -180
    },
    "id": "8cYOIqDqEVkj",
    "outputId": "bdb7bd7c-daf7-4b32-b8ea-2d1dc3b4fb91"
   },
   "outputs": [
    {
     "data": {
      "text/plain": [
       "{'appearances': 3922,\n",
       " 'bob': 3960,\n",
       " 'conferences': 9281,\n",
       " 'encryption': 21999,\n",
       " '660': 20982,\n",
       " '##ouk': 27967,\n",
       " 'staggered': 14648,\n",
       " 'seventeenth': 15425,\n",
       " 'athletics': 6482,\n",
       " 'drinking': 5948,\n",
       " 'availability': 11343,\n",
       " 'mornings': 16956,\n",
       " 'aggravated': 25817,\n",
       " 'stockport': 26284,\n",
       " 'pirate': 11304,\n",
       " '##yat': 26139,\n",
       " 'prayed': 14283,\n",
       " '##ᄉ': 29997,\n",
       " 'betrayed': 12056,\n",
       " 'population': 2313,\n",
       " 'jr': 3781,\n",
       " 'doom': 12677,\n",
       " 'called': 2170,\n",
       " '[unused911]': 916,\n",
       " 'shanghai': 8344,\n",
       " 'hosted': 4354,\n",
       " 'naturalist': 19176,\n",
       " '##quette': 29416,\n",
       " 'indications': 24936,\n",
       " 'parker': 6262,\n",
       " 'transitional': 17459,\n",
       " 'attached': 4987,\n",
       " 'nominated': 4222,\n",
       " '日': 1864,\n",
       " 'discussing': 10537,\n",
       " 'protected': 5123,\n",
       " 'noting': 9073,\n",
       " '##mun': 23041,\n",
       " 'paranoid': 19810,\n",
       " '[unused795]': 800,\n",
       " 'logistical': 28961,\n",
       " 'vassal': 24351,\n",
       " 'sounding': 9391,\n",
       " 'scroll': 17186,\n",
       " 'exceeded': 14872,\n",
       " 'mir': 14719,\n",
       " '##reen': 28029,\n",
       " 'listeners': 13810,\n",
       " 'kari': 27356,\n",
       " 'catalog': 12105,\n",
       " 'gregg': 18281,\n",
       " 'sociology': 11507,\n",
       " 'sesame': 23605,\n",
       " 'intimidated': 28028,\n",
       " '4': 1018,\n",
       " '##ioned': 19798,\n",
       " '25': 2423,\n",
       " 'web': 4773,\n",
       " '##sm': 6491,\n",
       " '[unused416]': 421,\n",
       " '1958': 3845,\n",
       " '##asia': 15396,\n",
       " 'officials': 4584,\n",
       " '##mark': 10665,\n",
       " 'chestnut': 15655,\n",
       " 'demos': 18267,\n",
       " 'augmented': 19335,\n",
       " 'fluttered': 18360,\n",
       " '##apa': 22068,\n",
       " '．': 1991,\n",
       " 'fries': 22201,\n",
       " '##ζ': 29724,\n",
       " 'exceeds': 23651,\n",
       " 'bobby': 6173,\n",
       " 'equality': 9945,\n",
       " 'scanned': 11728,\n",
       " 'criticizing': 21289,\n",
       " 'taped': 19374,\n",
       " 'recovery': 7233,\n",
       " 'wounds': 8710,\n",
       " 'martina': 23508,\n",
       " '##logram': 24915,\n",
       " 'exemplified': 28593,\n",
       " 'formal': 5337,\n",
       " '1980s': 3865,\n",
       " 'portraits': 9668,\n",
       " 'dental': 11394,\n",
       " '##centric': 22461,\n",
       " 'cum': 13988,\n",
       " 'gibson': 9406,\n",
       " 'drowned': 12805,\n",
       " 'derek': 7256,\n",
       " 'ᴬ': 1490,\n",
       " '社': 1924,\n",
       " 'realised': 11323,\n",
       " '50th': 12951,\n",
       " 'contestants': 10584,\n",
       " 'maud': 21696,\n",
       " '##wine': 21924,\n",
       " 'weekend': 5353,\n",
       " 'bird': 4743,\n",
       " '[unused424]': 429,\n",
       " 'sawyer': 13975,\n",
       " 'calais': 23116,\n",
       " 'notably': 5546,\n",
       " 'confirmed': 4484,\n",
       " '##kovic': 14733,\n",
       " '##heard': 26362,\n",
       " 'racks': 27259,\n",
       " 'chuckled': 10252,\n",
       " 'descriptive': 22726,\n",
       " 'bucks': 14189,\n",
       " 'unexpected': 9223,\n",
       " 'pigs': 14695,\n",
       " 'powell': 8997,\n",
       " 'redesign': 25136,\n",
       " 'reclaimed': 23119,\n",
       " 'niche': 18111,\n",
       " 'cyclist': 14199,\n",
       " 'marketing': 5821,\n",
       " 'sequels': 25815,\n",
       " 'entertainer': 21751,\n",
       " 'otherwise': 4728,\n",
       " 'victoria': 3848,\n",
       " 'iowa': 5947,\n",
       " '##tate': 12259,\n",
       " 'closest': 7541,\n",
       " 'motive': 15793,\n",
       " 'ahl': 18347,\n",
       " 'そ': 1660,\n",
       " 'securities': 12012,\n",
       " 'thicker': 19638,\n",
       " 'kei': 26679,\n",
       " 'swelling': 18348,\n",
       " 'heir': 8215,\n",
       " '##thic': 23048,\n",
       " 'chant': 16883,\n",
       " 'classmates': 19846,\n",
       " 'autopsy': 24534,\n",
       " 'contradiction': 26917,\n",
       " 'amphibious': 16182,\n",
       " 'newspapers': 6399,\n",
       " 'kim': 5035,\n",
       " '##long': 10052,\n",
       " 'rangers': 7181,\n",
       " 'sioux': 16615,\n",
       " '##tf': 24475,\n",
       " 'additions': 13134,\n",
       " '[unused343]': 348,\n",
       " 'reese': 15883,\n",
       " 'zoe': 11199,\n",
       " 'mitchell': 6395,\n",
       " '##ouse': 15441,\n",
       " 'collier': 20466,\n",
       " '255': 20637,\n",
       " 'broughton': 29187,\n",
       " 'leonard': 7723,\n",
       " 'レ': 1734,\n",
       " '##ᄇ': 29996,\n",
       " 'composure': 23619,\n",
       " 'examined': 8920,\n",
       " 'dax': 27116,\n",
       " 'landslide': 20148,\n",
       " 'slope': 9663,\n",
       " 'brushes': 22569,\n",
       " 'survey': 5002,\n",
       " 'falling': 4634,\n",
       " 'collingwood': 20044,\n",
       " '##tlan': 28922,\n",
       " '##rton': 11715,\n",
       " '##mei': 26432,\n",
       " 'mason': 6701,\n",
       " '##uke': 15851,\n",
       " '##uil': 19231,\n",
       " 'reassured': 26350,\n",
       " 'delightful': 26380,\n",
       " 'sousa': 28535,\n",
       " 'deutschland': 28668,\n",
       " 'switching': 11991,\n",
       " 'handkerchief': 23975,\n",
       " 'increasingly': 6233,\n",
       " 'eve': 6574,\n",
       " 'landmark': 8637,\n",
       " '[unused928]': 933,\n",
       " 'assembled': 9240,\n",
       " 'musica': 21137,\n",
       " 'chilled': 23362,\n",
       " 'elvis': 12280,\n",
       " 'pilots': 8221,\n",
       " '##itz': 8838,\n",
       " 'tempest': 22553,\n",
       " '1683': 27414,\n",
       " 'salvation': 12611,\n",
       " '##awa': 10830,\n",
       " 'lineman': 24062,\n",
       " 'blessings': 24618,\n",
       " '##aar': 26526,\n",
       " 'occult': 27906,\n",
       " 'check': 4638,\n",
       " 'ne': 11265,\n",
       " 'cows': 17188,\n",
       " 'paz': 18183,\n",
       " 'judicial': 8268,\n",
       " 'guys': 4364,\n",
       " '[unused861]': 866,\n",
       " 'gazette': 11391,\n",
       " '##sko': 21590,\n",
       " 'cursed': 10678,\n",
       " '1865': 6725,\n",
       " '##port': 6442,\n",
       " 'knight': 5000,\n",
       " 'tremble': 20627,\n",
       " 'chopin': 25479,\n",
       " 'mighty': 10478,\n",
       " '[unused915]': 920,\n",
       " '1560': 29185,\n",
       " '##ible': 7028,\n",
       " 'pointing': 7302,\n",
       " '##ias': 7951,\n",
       " 'priory': 14284,\n",
       " 'attend': 5463,\n",
       " 'violated': 14424,\n",
       " 'assassinated': 16370,\n",
       " 'boyer': 23456,\n",
       " '##uating': 24133,\n",
       " 'gained': 4227,\n",
       " 'crambidae': 21585,\n",
       " 'showcases': 27397,\n",
       " '##lland': 26087,\n",
       " '##ghan': 22218,\n",
       " 'redesigned': 17051,\n",
       " 'names': 3415,\n",
       " 'colts': 14390,\n",
       " 'lots': 7167,\n",
       " 'still': 2145,\n",
       " 'numerical': 15973,\n",
       " '##uca': 18100,\n",
       " 'ョ': 1730,\n",
       " 'exercising': 28428,\n",
       " 'mk': 12395,\n",
       " 'publicized': 24928,\n",
       " 'tonight': 3892,\n",
       " '•': 1528,\n",
       " 'yale': 7996,\n",
       " 'obeyed': 22665,\n",
       " '##ym': 24335,\n",
       " 'staring': 4582,\n",
       " '##udes': 22087,\n",
       " '[unused312]': 317,\n",
       " '¿': 1094,\n",
       " 'turn': 2735,\n",
       " 'richer': 26108,\n",
       " 'grammar': 8035,\n",
       " '##van': 6212,\n",
       " 'spans': 14798,\n",
       " 'disdain': 25134,\n",
       " 'boredom': 29556,\n",
       " '[unused707]': 712,\n",
       " 'numbered': 8597,\n",
       " 'tigers': 7600,\n",
       " 'army': 2390,\n",
       " 'downloadable': 26720,\n",
       " '##asco': 28187,\n",
       " '##lled': 11001,\n",
       " 'salazar': 25315,\n",
       " 'illnesses': 24757,\n",
       " '##oning': 13369,\n",
       " '##տ': 29783,\n",
       " 'shrugged': 6345,\n",
       " 'conspiracy': 9714,\n",
       " 'ser': 14262,\n",
       " '[unused94]': 95,\n",
       " '·': 1087,\n",
       " 'maia': 23478,\n",
       " 'six': 2416,\n",
       " 'victorian': 6652,\n",
       " 'harriet': 14207,\n",
       " 'stanisław': 26133,\n",
       " 'penis': 19085,\n",
       " '##arth': 22425,\n",
       " 'kellan': 19697,\n",
       " 'nationalists': 17934,\n",
       " 'indigenous': 6284,\n",
       " 'waits': 18074,\n",
       " '##clave': 23650,\n",
       " '[unused815]': 820,\n",
       " '##horn': 9769,\n",
       " 'backyard': 16125,\n",
       " 'burns': 7641,\n",
       " 'aliens': 12114,\n",
       " '##dah': 18417,\n",
       " 'horton': 18469,\n",
       " '1680': 24621,\n",
       " 'saliva': 26308,\n",
       " 'strive': 29453,\n",
       " 'aluminum': 13061,\n",
       " 'royale': 24483,\n",
       " 'configuration': 9563,\n",
       " 'california': 2662,\n",
       " 'livestock': 11468,\n",
       " 'madonna': 11284,\n",
       " 'introductions': 25795,\n",
       " '[unused355]': 360,\n",
       " 'contracts': 8311,\n",
       " 'taxonomy': 25274,\n",
       " 'haley': 16624,\n",
       " 'december': 2285,\n",
       " '##brick': 25646,\n",
       " 'infancy': 22813,\n",
       " \"'\": 1005,\n",
       " 'ensures': 21312,\n",
       " 'investigator': 14064,\n",
       " 'throttle': 24420,\n",
       " 'exchanged': 10573,\n",
       " 'kappa': 16000,\n",
       " '[unused571]': 576,\n",
       " 'superhero': 16251,\n",
       " 'sentiment': 15792,\n",
       " '227': 21489,\n",
       " 'presiding': 18131,\n",
       " 'encore': 19493,\n",
       " '##pone': 29513,\n",
       " 'internally': 16058,\n",
       " '##dding': 27027,\n",
       " 'dipping': 23427,\n",
       " '##將': 30354,\n",
       " 'succeed': 9510,\n",
       " 'juniors': 16651,\n",
       " 'libraries': 8860,\n",
       " 'archipelago': 13888,\n",
       " 'rebellious': 22614,\n",
       " 'millions': 8817,\n",
       " 'lancaster': 10237,\n",
       " '##†': 30061,\n",
       " 'reserve': 3914,\n",
       " 'ァ': 1692,\n",
       " 'gardens': 5822,\n",
       " 'demands': 7670,\n",
       " 'whipped': 12428,\n",
       " 'specials': 19247,\n",
       " 'ph': 6887,\n",
       " 'drafts': 28967,\n",
       " 'efficiency': 8122,\n",
       " 'ka': 10556,\n",
       " 'exiting': 22371,\n",
       " '##genic': 16505,\n",
       " 'lehigh': 23241,\n",
       " 'fighter': 4959,\n",
       " 'saxophone': 8283,\n",
       " 'reindeer': 29495,\n",
       " 'awesome': 12476,\n",
       " '##reus': 23446,\n",
       " 'seem': 4025,\n",
       " 'principle': 6958,\n",
       " 'congressional': 7740,\n",
       " 'corsica': 27047,\n",
       " 'sega': 16562,\n",
       " 'duo': 6829,\n",
       " 'vomiting': 24780,\n",
       " '[unused575]': 580,\n",
       " '[unused987]': 992,\n",
       " 'patrick': 4754,\n",
       " 'cfa': 28125,\n",
       " 'sting': 12072,\n",
       " 'baffled': 29088,\n",
       " 'held': 2218,\n",
       " '##45': 19961,\n",
       " 'recognizable': 20123,\n",
       " '[unused381]': 386,\n",
       " '##mana': 24805,\n",
       " 'entirely': 4498,\n",
       " 'blu': 14154,\n",
       " 'various': 2536,\n",
       " '##relli': 22948,\n",
       " '##more': 5974,\n",
       " 'pillow': 10005,\n",
       " 'bankruptcy': 10528,\n",
       " '##sel': 11246,\n",
       " 'honoured': 15546,\n",
       " 'robe': 11111,\n",
       " '##liche': 27412,\n",
       " 'void': 11675,\n",
       " 'floats': 24885,\n",
       " 'solitude': 22560,\n",
       " 'posts': 8466,\n",
       " '##51': 22203,\n",
       " '##wise': 14244,\n",
       " 'zealand': 3414,\n",
       " 'peak': 4672,\n",
       " 'scholastic': 24105,\n",
       " '[unused384]': 389,\n",
       " '##vale': 17479,\n",
       " 'clothing': 5929,\n",
       " 'ledger': 27106,\n",
       " 'casa': 14124,\n",
       " 'lego': 23853,\n",
       " '1912': 4878,\n",
       " 'laboratories': 12030,\n",
       " '##bilis': 27965,\n",
       " 'assert': 20865,\n",
       " 'anhalt': 27088,\n",
       " '##gnan': 28207,\n",
       " 'ye': 6300,\n",
       " 'doi': 9193,\n",
       " 'appearance': 3311,\n",
       " '##”': 30059,\n",
       " 'prior': 3188,\n",
       " 'trouble': 4390,\n",
       " 'reducing': 8161,\n",
       " '##sk': 6711,\n",
       " 'parties': 4243,\n",
       " 'dangers': 16796,\n",
       " 'however': 2174,\n",
       " 'moaning': 22653,\n",
       " 'や': 1682,\n",
       " 'qaeda': 18659,\n",
       " 'suits': 11072,\n",
       " 'bancroft': 29351,\n",
       " 'brick': 5318,\n",
       " 'storyline': 9994,\n",
       " '[unused636]': 641,\n",
       " 'prodigy': 28334,\n",
       " 'intervene': 18793,\n",
       " 'allah': 16455,\n",
       " 'gardner': 11764,\n",
       " 'mixture': 8150,\n",
       " '##skaya': 23070,\n",
       " 'imperial': 4461,\n",
       " '##街': 30472,\n",
       " '##hyl': 29598,\n",
       " '##trick': 22881,\n",
       " '##<': 29629,\n",
       " 'unicef': 29073,\n",
       " 'tips': 10247,\n",
       " 'hewitt': 19482,\n",
       " '##rut': 22134,\n",
       " 'loud': 5189,\n",
       " '[unused622]': 627,\n",
       " 'stone': 2962,\n",
       " 'litres': 25783,\n",
       " 'integer': 16109,\n",
       " 'scala': 26743,\n",
       " '##)': 29620,\n",
       " 'rural': 3541,\n",
       " 'wears': 11651,\n",
       " '##erence': 20935,\n",
       " 'harvey': 7702,\n",
       " 'salvage': 18340,\n",
       " 'chairs': 8397,\n",
       " '[unused368]': 373,\n",
       " '##oper': 25918,\n",
       " 'hug': 8549,\n",
       " 'studios': 4835,\n",
       " 'lexie': 24123,\n",
       " 'ن': 1296,\n",
       " 'malone': 16321,\n",
       " 'cpc': 28569,\n",
       " '[unused768]': 773,\n",
       " 'fei': 24664,\n",
       " 'neighbors': 10638,\n",
       " 'oppression': 20489,\n",
       " 'stains': 27094,\n",
       " 'devout': 26092,\n",
       " 'gracefully': 28266,\n",
       " 'danny': 6266,\n",
       " 'britney': 29168,\n",
       " 'accents': 24947,\n",
       " '##tive': 6024,\n",
       " '##м': 29745,\n",
       " 'brno': 28634,\n",
       " 'events': 2824,\n",
       " 'conductors': 23396,\n",
       " 'detecting': 25952,\n",
       " '##anal': 27953,\n",
       " 'acceptable': 11701,\n",
       " 'eyeing': 19285,\n",
       " '##ffy': 16329,\n",
       " 'advocating': 20324,\n",
       " '##holz': 28094,\n",
       " 'habitat': 6552,\n",
       " 'forehead': 6130,\n",
       " 'morally': 28980,\n",
       " 'stars': 3340,\n",
       " 'control': 2491,\n",
       " '##let': 7485,\n",
       " 'gonna': 6069,\n",
       " '00pm': 27995,\n",
       " 'effective': 4621,\n",
       " 'troopers': 26246,\n",
       " 'simplicity': 17839,\n",
       " 'dynamite': 21719,\n",
       " 'donovan': 12729,\n",
       " 'ashamed': 14984,\n",
       " '##tase': 18260,\n",
       " 'sumatra': 18262,\n",
       " '##abas': 27537,\n",
       " 'meridian': 17984,\n",
       " 'gymnast': 25055,\n",
       " 'dragoons': 28069,\n",
       " 'fleets': 25515,\n",
       " 'managers': 10489,\n",
       " '##bie': 11283,\n",
       " 'resolutions': 18853,\n",
       " 'chained': 22075,\n",
       " '##nir': 29339,\n",
       " '##word': 18351,\n",
       " 'housekeeper': 22583,\n",
       " '[unused17]': 18,\n",
       " 'paige': 17031,\n",
       " 'straits': 18849,\n",
       " '##den': 4181,\n",
       " 'hedge': 17834,\n",
       " '##ci': 6895,\n",
       " 'sheds': 25999,\n",
       " 'personnel': 5073,\n",
       " 'aqueduct': 24016,\n",
       " '##楊': 30409,\n",
       " 'dementia': 28767,\n",
       " '.': 1012,\n",
       " 'anchors': 24674,\n",
       " 'edouard': 21627,\n",
       " 'vertically': 20018,\n",
       " '##igo': 14031,\n",
       " '##ure': 5397,\n",
       " '##kel': 11705,\n",
       " 'ant': 14405,\n",
       " 'demographics': 28321,\n",
       " '[unused180]': 185,\n",
       " 'croatian': 7963,\n",
       " 'stake': 8406,\n",
       " 'webster': 11635,\n",
       " 'subdivision': 12572,\n",
       " 'muscular': 13472,\n",
       " 'cooke': 16546,\n",
       " 'conceal': 19819,\n",
       " '##ncia': 22750,\n",
       " '##iol': 20282,\n",
       " 'commentators': 15957,\n",
       " 'attack': 2886,\n",
       " 'blasts': 25829,\n",
       " '##弘': 30369,\n",
       " 'cinemas': 19039,\n",
       " 'walkway': 19467,\n",
       " 'supports': 6753,\n",
       " '[unused228]': 233,\n",
       " '##」': 30168,\n",
       " '##va': 3567,\n",
       " 'trap': 8132,\n",
       " 'skating': 10080,\n",
       " 'expansive': 25145,\n",
       " 'pronounced': 8793,\n",
       " '##nstein': 15493,\n",
       " 'linden': 22066,\n",
       " 'macon': 20025,\n",
       " '##km': 22287,\n",
       " '##missive': 27876,\n",
       " 'linebacker': 15674,\n",
       " '##ttal': 28200,\n",
       " '##mbling': 29256,\n",
       " '##lda': 15150,\n",
       " 'wheeler': 12819,\n",
       " 'thrust': 7400,\n",
       " 'migration': 9230,\n",
       " '[unused417]': 422,\n",
       " '##¼': 29664,\n",
       " 'hinted': 21795,\n",
       " '##ith': 8939,\n",
       " 'requested': 7303,\n",
       " 'slapped': 11159,\n",
       " '##nin': 11483,\n",
       " '##ope': 17635,\n",
       " 'cent': 9358,\n",
       " '##27': 22907,\n",
       " 'ballads': 18456,\n",
       " 'deadline': 15117,\n",
       " 'modern': 2715,\n",
       " 'emir': 23434,\n",
       " '##valent': 24879,\n",
       " 'business': 2449,\n",
       " 'equation': 8522,\n",
       " 'capitalism': 16498,\n",
       " '[unused182]': 187,\n",
       " '##cup': 15569,\n",
       " 'ტ': 1453,\n",
       " 'shaping': 20300,\n",
       " '食': 1978,\n",
       " 'documentaries': 15693,\n",
       " '##dies': 18389,\n",
       " 'fontana': 27182,\n",
       " 'warehouse': 9746,\n",
       " '##osi': 20049,\n",
       " 'baccalaureate': 27802,\n",
       " 'labels': 10873,\n",
       " '##bee': 11306,\n",
       " '##ising': 9355,\n",
       " 'judgement': 16646,\n",
       " 'an': 2019,\n",
       " '##⁄₄': 27392,\n",
       " 'klein': 12555,\n",
       " '[unused548]': 553,\n",
       " 'sahara': 19604,\n",
       " 'landscape': 5957,\n",
       " 'convection': 23849,\n",
       " '##sco': 9363,\n",
       " 'ச': 1383,\n",
       " '##dad': 14697,\n",
       " 'complexes': 15420,\n",
       " 'liege': 17766,\n",
       " '235': 17825,\n",
       " 'roared': 14242,\n",
       " 'remains': 3464,\n",
       " 'barber': 13362,\n",
       " 'frame': 4853,\n",
       " 'ˈ': 1149,\n",
       " 'spa': 12403,\n",
       " '##cci': 14693,\n",
       " 'panda': 25462,\n",
       " 'rough': 5931,\n",
       " 'dated': 6052,\n",
       " 'sutton': 11175,\n",
       " 'kidnapped': 11364,\n",
       " 'reilly': 13875,\n",
       " 'dammit': 20878,\n",
       " '##ind': 22254,\n",
       " '##mple': 23344,\n",
       " 'complied': 26946,\n",
       " '1757': 22621,\n",
       " 'charred': 29030,\n",
       " 'panchayat': 20079,\n",
       " '##ran': 5521,\n",
       " 'hallways': 28274,\n",
       " 'peers': 12746,\n",
       " 'boiling': 16018,\n",
       " 'structures': 5090,\n",
       " 'found': 2179,\n",
       " 'seekers': 24071,\n",
       " '##ested': 17944,\n",
       " 'craved': 25155,\n",
       " 'seeds': 8079,\n",
       " '##ɛ': 29275,\n",
       " 'puck': 22900,\n",
       " '##′': 30066,\n",
       " 'korean': 4759,\n",
       " '1960': 3624,\n",
       " 'deposited': 14140,\n",
       " 'nutrient': 26780,\n",
       " 'zoning': 27462,\n",
       " 'gt': 14181,\n",
       " 'contacts': 10402,\n",
       " 'spirited': 24462,\n",
       " '朝': 1874,\n",
       " 'writer': 3213,\n",
       " '##ard': 4232,\n",
       " '##urs': 9236,\n",
       " '##bly': 6321,\n",
       " 'lived': 2973,\n",
       " 'emitted': 22627,\n",
       " 'echoes': 17659,\n",
       " '##25': 17788,\n",
       " 'vector': 9207,\n",
       " '[unused673]': 678,\n",
       " 'muir': 23110,\n",
       " 'anton': 9865,\n",
       " '##inations': 22045,\n",
       " '##inatory': 28230,\n",
       " '[unused375]': 380,\n",
       " '##ge': 3351,\n",
       " 'demonstrating': 14313,\n",
       " '##strel': 26877,\n",
       " 'hierarchical': 25835,\n",
       " '##eg': 13910,\n",
       " 'tripped': 21129,\n",
       " '##ien': 9013,\n",
       " '##9': 2683,\n",
       " 'uneven': 17837,\n",
       " '##ω': 29739,\n",
       " 'reluctant': 11542,\n",
       " 'elevated': 8319,\n",
       " 'dudley': 12648,\n",
       " 'louisville': 11577,\n",
       " 'breton': 16659,\n",
       " 'catholics': 10774,\n",
       " 'habit': 10427,\n",
       " 'ok': 7929,\n",
       " '##mont': 9629,\n",
       " 'displaying': 14962,\n",
       " '[unused412]': 417,\n",
       " 'values': 5300,\n",
       " 'xii': 14371,\n",
       " '##cous': 27199,\n",
       " 'huey': 29503,\n",
       " '##vance': 21789,\n",
       " 'firstly': 15847,\n",
       " 'tends': 12102,\n",
       " 'hack': 20578,\n",
       " 'macintosh': 22228,\n",
       " '##pps': 28281,\n",
       " 'beginning': 2927,\n",
       " 'til': 18681,\n",
       " 'humboldt': 19249,\n",
       " '##lts': 21593,\n",
       " 'cottage': 9151,\n",
       " 'lagos': 16738,\n",
       " 'pitted': 25895,\n",
       " 'ト': 1714,\n",
       " 'stacey': 19997,\n",
       " 'stills': 26105,\n",
       " '##金': 30490,\n",
       " '##青': 30501,\n",
       " '##sle': 25016,\n",
       " 'margarita': 24570,\n",
       " '##osh': 17369,\n",
       " '81': 6282,\n",
       " '##bo': 5092,\n",
       " 'contestant': 10832,\n",
       " 'salamanca': 29608,\n",
       " 'party': 2283,\n",
       " 'amanda': 8282,\n",
       " 'romance': 7472,\n",
       " '1940': 3878,\n",
       " 'lifelong': 13506,\n",
       " 'diagonal': 19754,\n",
       " 'neoclassical': 22657,\n",
       " 'demon': 5698,\n",
       " '##ₕ': 30093,\n",
       " 'successes': 14152,\n",
       " '##ayo': 28852,\n",
       " '[unused782]': 787,\n",
       " 'parish': 3583,\n",
       " 'governance': 10615,\n",
       " '##titled': 21309,\n",
       " 'lopez': 8685,\n",
       " 'lennox': 21060,\n",
       " 'গ': 1355,\n",
       " 'wingspan': 9635,\n",
       " 'outskirts': 12730,\n",
       " 'admire': 19837,\n",
       " 'conversions': 25834,\n",
       " '##asse': 27241,\n",
       " 'tidal': 15065,\n",
       " 'nineteen': 11977,\n",
       " '##ino': 5740,\n",
       " 'boosted': 28043,\n",
       " '##ல': 29928,\n",
       " 'rap': 9680,\n",
       " 'unmarried': 17204,\n",
       " 'expelled': 10016,\n",
       " 'smooth': 5744,\n",
       " 'utc': 11396,\n",
       " '##rds': 17811,\n",
       " 'equatorial': 21333,\n",
       " 'princeton': 9173,\n",
       " 'revelations': 22191,\n",
       " 'tore': 9538,\n",
       " '[unused163]': 168,\n",
       " 'back': 2067,\n",
       " 'sob': 17540,\n",
       " 'forbid': 27206,\n",
       " '1815': 10679,\n",
       " 'economical': 21791,\n",
       " 'goat': 13555,\n",
       " '##ens': 6132,\n",
       " 'decent': 11519,\n",
       " 'antenna': 13438,\n",
       " 'psychology': 6825,\n",
       " 'font': 15489,\n",
       " '##歌': 30412,\n",
       " '[unused380]': 385,\n",
       " 'illustrating': 28252,\n",
       " 'gears': 19456,\n",
       " '##ව': 29943,\n",
       " '##wt': 26677,\n",
       " 'marines': 9622,\n",
       " 'imperfect': 29238,\n",
       " '##ddling': 21814,\n",
       " 'loomed': 24358,\n",
       " 'ल': 1334,\n",
       " 'archaic': 19261,\n",
       " 'folded': 6999,\n",
       " 'as': 2004,\n",
       " '##ius': 4173,\n",
       " 'su': 10514,\n",
       " 'mage': 17454,\n",
       " 'fail': 8246,\n",
       " '[unused730]': 735,\n",
       " 'wing': 3358,\n",
       " 'rita': 11620,\n",
       " 'conditions': 3785,\n",
       " '[unused568]': 573,\n",
       " 'indicated': 5393,\n",
       " '##isation': 6648,\n",
       " 'olivia': 7710,\n",
       " 'gilmore': 22999,\n",
       " 'zhang': 9327,\n",
       " 'dutton': 28784,\n",
       " 'accessibility': 23661,\n",
       " 'taught': 4036,\n",
       " 'glamorgan': 23861,\n",
       " '[unused579]': 584,\n",
       " '##ning': 5582,\n",
       " 'answering': 10739,\n",
       " 'matrix': 8185,\n",
       " 'atomic': 9593,\n",
       " 'bop': 29432,\n",
       " '##tery': 20902,\n",
       " 'tractor': 16358,\n",
       " 'º': 1089,\n",
       " 'surface': 3302,\n",
       " 'banging': 22255,\n",
       " '夏': 1808,\n",
       " '##nst': 23808,\n",
       " '##eras': 24140,\n",
       " 'slides': 14816,\n",
       " '[unused660]': 665,\n",
       " 'scrolling': 28903,\n",
       " 'migrating': 28636,\n",
       " '##achi': 21046,\n",
       " 'colleagues': 8628,\n",
       " 'superiority': 19113,\n",
       " 'luftwaffe': 17740,\n",
       " 'beautifully': 17950,\n",
       " '##ecure': 29150,\n",
       " '##川': 30361,\n",
       " 'celeste': 21113,\n",
       " 'parades': 26635,\n",
       " 'ounce': 19471,\n",
       " '[unused616]': 621,\n",
       " 'dinner': 4596,\n",
       " 'database': 7809,\n",
       " 'huts': 23326,\n",
       " '##pen': 11837,\n",
       " 'peas': 26072,\n",
       " '##nko': 16107,\n",
       " 'wiring': 27930,\n",
       " 'franz': 8965,\n",
       " '##ʸ': 29710,\n",
       " 'wavy': 23098,\n",
       " 'bobbed': 29579,\n",
       " 'dazzling': 28190,\n",
       " 'spun': 7455,\n",
       " 'obscene': 27744,\n",
       " 'infectious': 16514,\n",
       " 'competence': 22219,\n",
       " 'touchdown': 7921,\n",
       " 'permitting': 24523,\n",
       " 'privileged': 21598,\n",
       " '##fa': 7011,\n",
       " 'quietly': 5168,\n",
       " 'accompany': 12673,\n",
       " 'bathurst': 21897,\n",
       " 'gunnar': 26138,\n",
       " 'revealing': 8669,\n",
       " '[unused893]': 898,\n",
       " 'kata': 29354,\n",
       " 'tornado': 11352,\n",
       " '##evich': 16277,\n",
       " '##gus': 12349,\n",
       " 'bolton': 12118,\n",
       " 'force': 2486,\n",
       " '##hora': 16977,\n",
       " 'python': 18750,\n",
       " '224': 19711,\n",
       " 'steven': 7112,\n",
       " 'blond': 8855,\n",
       " '##lase': 25002,\n",
       " 'bates': 11205,\n",
       " 'eerie': 18823,\n",
       " '##comb': 18274,\n",
       " 'aspirations': 22877,\n",
       " '1789': 13739,\n",
       " 'bulky': 27446,\n",
       " 'add': 5587,\n",
       " 'physicians': 11572,\n",
       " 'clawed': 22544,\n",
       " 'inmates': 13187,\n",
       " '##time': 7292,\n",
       " 'cumulative': 23260,\n",
       " '1841': 9840,\n",
       " '##tched': 28265,\n",
       " 'digital': 3617,\n",
       " '##elt': 20042,\n",
       " 'burkina': 23089,\n",
       " 'forrest': 16319,\n",
       " 'flash': 5956,\n",
       " 'apps': 18726,\n",
       " 'reyes': 12576,\n",
       " 'filming': 7467,\n",
       " 'landings': 16805,\n",
       " 'cheryl': 19431,\n",
       " 'wrestle': 25579,\n",
       " 'sync': 26351,\n",
       " 'creation': 4325,\n",
       " 'butch': 17520,\n",
       " 'flicking': 26259,\n",
       " 'oakley': 28876,\n",
       " 'coward': 16592,\n",
       " 'rectory': 24606,\n",
       " '[unused843]': 848,\n",
       " 'endure': 18094,\n",
       " '##ange': 22043,\n",
       " '##風': 30503,\n",
       " 'frontman': 21597,\n",
       " 'paolo': 14174,\n",
       " 'neutral': 8699,\n",
       " 'systematically': 23087,\n",
       " '##rika': 23778,\n",
       " 'ballot': 10428,\n",
       " 'slaves': 7179,\n",
       " 'corp': 13058,\n",
       " '1768': 19793,\n",
       " 'story': 2466,\n",
       " 'piles': 18526,\n",
       " '208': 18512,\n",
       " 'hailey': 21664,\n",
       " '##面': 30502,\n",
       " '内': 1773,\n",
       " 'injuries': 6441,\n",
       " '64': 4185,\n",
       " 'foil': 17910,\n",
       " 'curry': 15478,\n",
       " 'heidi': 21372,\n",
       " 'documented': 8832,\n",
       " '##oft': 15794,\n",
       " 'prefix': 17576,\n",
       " 'condor': 29260,\n",
       " 'unknown': 4242,\n",
       " '##finger': 20349,\n",
       " 'opens': 7480,\n",
       " 'stained': 9702,\n",
       " '##with': 24415,\n",
       " '##ieving': 25587,\n",
       " 'degree': 3014,\n",
       " 'rate': 3446,\n",
       " 'ч': 1202,\n",
       " 'bordered': 11356,\n",
       " 'croft': 28983,\n",
       " '##∧': 30129,\n",
       " 'fifteenth': 16249,\n",
       " '##rac': 22648,\n",
       " 'bug': 11829,\n",
       " 'miners': 11257,\n",
       " 'cascade': 16690,\n",
       " 'hodges': 19772,\n",
       " '##56': 26976,\n",
       " 'buddha': 11903,\n",
       " '##vita': 28403,\n",
       " '##テ': 30239,\n",
       " 'builder': 12508,\n",
       " 'secretary': 3187,\n",
       " 'fading': 14059,\n",
       " 'porsche': 16099,\n",
       " '##idal': 16975,\n",
       " 'relieve': 15804,\n",
       " 'tna': 20108,\n",
       " '##anian': 26032,\n",
       " 'cosmetic': 25536,\n",
       " 'nikita': 29106,\n",
       " '##→': 30113,\n",
       " 'vp': 21210,\n",
       " 'lb': 6053,\n",
       " '680': 23944,\n",
       " '##id': 3593,\n",
       " 'awake': 8300,\n",
       " 'measurements': 11702,\n",
       " 'anthology': 9637,\n",
       " 'kimberly': 23729,\n",
       " 'ropes': 14607,\n",
       " 'ᄒ': 1469,\n",
       " '##ვ': 29979,\n",
       " '1630': 24994,\n",
       " '600': 5174,\n",
       " 'baths': 19692,\n",
       " 'accepting': 10564,\n",
       " '##escu': 19434,\n",
       " 'registered': 5068,\n",
       " 'neural': 15756,\n",
       " 'ives': 23945,\n",
       " 'margaret': 5545,\n",
       " 'newt': 25597,\n",
       " 'panel': 5997,\n",
       " 'northernmost': 22037,\n",
       " 'jamal': 24132,\n",
       " 'proficiency': 26293,\n",
       " 'viewed': 7021,\n",
       " 'necessitated': 29611,\n",
       " 'affiliation': 12912,\n",
       " 'else': 2842,\n",
       " 'reigns': 23481,\n",
       " 'meaning': 3574,\n",
       " '##lding': 24573,\n",
       " 'newcastle': 8142,\n",
       " 'qualifier': 10981,\n",
       " 'zach': 12397,\n",
       " 'sailing': 8354,\n",
       " 'phenomenon': 9575,\n",
       " 'talbot': 14838,\n",
       " 'inlet': 15824,\n",
       " '民': 1892,\n",
       " 'ambrose': 15675,\n",
       " 'tablet': 13855,\n",
       " ...}"
      ]
     },
     "execution_count": 7,
     "metadata": {},
     "output_type": "execute_result"
    }
   ],
   "source": [
    "tokenizer.vocab"
   ]
  },
  {
   "cell_type": "code",
   "execution_count": 8,
   "id": "MbI0qQiWFTxS",
   "metadata": {
    "colab": {
     "base_uri": "https://localhost:8080/"
    },
    "executionInfo": {
     "elapsed": 448,
     "status": "ok",
     "timestamp": 1734456394266,
     "user": {
      "displayName": "Pavel Efimov",
      "userId": "11310524505359177201"
     },
     "user_tz": -180
    },
    "id": "MbI0qQiWFTxS",
    "outputId": "70c84197-b44e-43af-dd0c-35a52bf47bad"
   },
   "outputs": [
    {
     "data": {
      "text/plain": [
       "['i', 'would', 'like', 'to', 'buy', 'milk', 'and', 'bread']"
      ]
     },
     "execution_count": 8,
     "metadata": {},
     "output_type": "execute_result"
    }
   ],
   "source": [
    "tokenizer.tokenize(\"I would like to buy milk and bread\")"
   ]
  },
  {
   "cell_type": "code",
   "execution_count": 9,
   "id": "19yn34yhEVhm",
   "metadata": {
    "colab": {
     "base_uri": "https://localhost:8080/"
    },
    "executionInfo": {
     "elapsed": 7,
     "status": "ok",
     "timestamp": 1734456395911,
     "user": {
      "displayName": "Pavel Efimov",
      "userId": "11310524505359177201"
     },
     "user_tz": -180
    },
    "id": "19yn34yhEVhm",
    "outputId": "4a4ff1bd-9f05-48f7-aefa-7bf3df53e421"
   },
   "outputs": [
    {
     "data": {
      "text/plain": [
       "['research',\n",
       " 'priorities',\n",
       " 'of',\n",
       " 'it',\n",
       " '##mo',\n",
       " 'university',\n",
       " 'are',\n",
       " 'concentrated',\n",
       " 'in',\n",
       " 'information',\n",
       " 'and',\n",
       " 'photon',\n",
       " '##ic',\n",
       " 'technologies',\n",
       " '.']"
      ]
     },
     "execution_count": 9,
     "metadata": {},
     "output_type": "execute_result"
    }
   ],
   "source": [
    "tokenizer.tokenize(\"Research priorities of ITMO University are concentrated in information and photonic technologies.\")"
   ]
  },
  {
   "cell_type": "code",
   "execution_count": 10,
   "id": "bfs_RgUXEVVH",
   "metadata": {
    "colab": {
     "base_uri": "https://localhost:8080/"
    },
    "executionInfo": {
     "elapsed": 13,
     "status": "ok",
     "timestamp": 1734456396970,
     "user": {
      "displayName": "Pavel Efimov",
      "userId": "11310524505359177201"
     },
     "user_tz": -180
    },
    "id": "bfs_RgUXEVVH",
    "outputId": "742a3226-95fd-45f1-a7aa-6bb255e9c9ac"
   },
   "outputs": [
    {
     "data": {
      "text/plain": [
       "['add',\n",
       " 'slim',\n",
       " '##m',\n",
       " 'cut',\n",
       " '##ta',\n",
       " 'calhoun',\n",
       " 'to',\n",
       " 'my',\n",
       " 'this',\n",
       " 'is',\n",
       " 'prince',\n",
       " 'play',\n",
       " '##list']"
      ]
     },
     "execution_count": 10,
     "metadata": {},
     "output_type": "execute_result"
    }
   ],
   "source": [
    "tokenizer.tokenize(\"add slimm cutta calhoun to my this is prince playlist\")"
   ]
  },
  {
   "cell_type": "code",
   "execution_count": 11,
   "id": "pKPbwSKbGM5I",
   "metadata": {
    "colab": {
     "base_uri": "https://localhost:8080/"
    },
    "executionInfo": {
     "elapsed": 8,
     "status": "ok",
     "timestamp": 1734456398482,
     "user": {
      "displayName": "Pavel Efimov",
      "userId": "11310524505359177201"
     },
     "user_tz": -180
    },
    "id": "pKPbwSKbGM5I",
    "outputId": "3298abe9-778d-462a-994a-191df6352fcd"
   },
   "outputs": [
    {
     "data": {
      "text/plain": [
       "['[CLS]',\n",
       " 'add',\n",
       " 'slim',\n",
       " '##m',\n",
       " 'cut',\n",
       " '##ta',\n",
       " 'calhoun',\n",
       " 'to',\n",
       " 'my',\n",
       " 'this',\n",
       " 'is',\n",
       " 'prince',\n",
       " 'play',\n",
       " '##list',\n",
       " '[SEP]']"
      ]
     },
     "execution_count": 11,
     "metadata": {},
     "output_type": "execute_result"
    }
   ],
   "source": [
    "tokenizer.tokenize(\"add slimm cutta calhoun to my this is prince playlist\", add_special_tokens=True)\n",
    "# [CLS] -- токен, который хранит смысл предложения. Нужен для классификации всей последовательности"
   ]
  },
  {
   "cell_type": "code",
   "execution_count": 12,
   "id": "mCMFHl7bGFC0",
   "metadata": {
    "colab": {
     "base_uri": "https://localhost:8080/"
    },
    "executionInfo": {
     "elapsed": 516,
     "status": "ok",
     "timestamp": 1734456400729,
     "user": {
      "displayName": "Pavel Efimov",
      "userId": "11310524505359177201"
     },
     "user_tz": -180
    },
    "id": "mCMFHl7bGFC0",
    "outputId": "7a6d2b26-590e-45b1-ca52-16d49219d347"
   },
   "outputs": [
    {
     "data": {
      "text/plain": [
       "[101,\n",
       " 5587,\n",
       " 11754,\n",
       " 2213,\n",
       " 3013,\n",
       " 2696,\n",
       " 22982,\n",
       " 2000,\n",
       " 2026,\n",
       " 2023,\n",
       " 2003,\n",
       " 3159,\n",
       " 2377,\n",
       " 9863,\n",
       " 102]"
      ]
     },
     "execution_count": 12,
     "metadata": {},
     "output_type": "execute_result"
    }
   ],
   "source": [
    "tokenizer(\"add slimm cutta calhoun to my this is prince playlist\", add_special_tokens=True)['input_ids']"
   ]
  },
  {
   "cell_type": "code",
   "execution_count": 13,
   "id": "NUbRw4IiOdcM",
   "metadata": {
    "colab": {
     "base_uri": "https://localhost:8080/"
    },
    "executionInfo": {
     "elapsed": 1758,
     "status": "ok",
     "timestamp": 1734456406587,
     "user": {
      "displayName": "Pavel Efimov",
      "userId": "11310524505359177201"
     },
     "user_tz": -180
    },
    "id": "NUbRw4IiOdcM",
    "outputId": "2b74bc0a-3dd6-42cf-f6e7-f2bfdad00020"
   },
   "outputs": [
    {
     "name": "stdout",
     "output_type": "stream",
     "text": [
      "Cloning into 'SlotGated-SLU'...\n",
      "remote: Enumerating objects: 51, done.\u001b[K\n",
      "remote: Counting objects: 100% (7/7), done.\u001b[K\n",
      "remote: Compressing objects: 100% (5/5), done.\u001b[K\n",
      "remote: Total 51 (delta 4), reused 2 (delta 2), pack-reused 44 (from 1)\u001b[K\n",
      "Receiving objects: 100% (51/51), 426.21 KiB | 11.84 MiB/s, done.\n",
      "Resolving deltas: 100% (14/14), done.\n"
     ]
    }
   ],
   "source": [
    "!git clone https://github.com/MiuLab/SlotGated-SLU.git"
   ]
  },
  {
   "cell_type": "code",
   "execution_count": 14,
   "id": "MlJzAoqRRLzM",
   "metadata": {
    "executionInfo": {
     "elapsed": 546,
     "status": "ok",
     "timestamp": 1734456408694,
     "user": {
      "displayName": "Pavel Efimov",
      "userId": "11310524505359177201"
     },
     "user_tz": -180
    },
    "id": "MlJzAoqRRLzM"
   },
   "outputs": [],
   "source": [
    "import sys"
   ]
  },
  {
   "cell_type": "code",
   "execution_count": 16,
   "id": "f23a152d",
   "metadata": {
    "executionInfo": {
     "elapsed": 617,
     "status": "ok",
     "timestamp": 1734456419957,
     "user": {
      "displayName": "Pavel Efimov",
      "userId": "11310524505359177201"
     },
     "user_tz": -180
    },
    "id": "f23a152d"
   },
   "outputs": [],
   "source": [
    "from datasets import Dataset, DatasetDict\n",
    "import matplotlib.pyplot as plt\n",
    "import numpy as np\n",
    "import torch\n",
    "import torch.nn as nn\n",
    "import torch.optim as optim\n",
    "import tqdm"
   ]
  },
  {
   "cell_type": "code",
   "execution_count": 17,
   "id": "c661e3c4",
   "metadata": {
    "colab": {
     "base_uri": "https://localhost:8080/"
    },
    "executionInfo": {
     "elapsed": 461,
     "status": "ok",
     "timestamp": 1734456424058,
     "user": {
      "displayName": "Pavel Efimov",
      "userId": "11310524505359177201"
     },
     "user_tz": -180
    },
    "id": "c661e3c4",
    "outputId": "eb2d2436-8f22-4886-d2b9-1f6680510b6a"
   },
   "outputs": [
    {
     "data": {
      "text/plain": [
       "<torch._C.Generator at 0x7dff72d0a290>"
      ]
     },
     "execution_count": 17,
     "metadata": {},
     "output_type": "execute_result"
    }
   ],
   "source": [
    "seed = 0\n",
    "\n",
    "torch.manual_seed(seed)"
   ]
  },
  {
   "cell_type": "code",
   "execution_count": 18,
   "id": "0641e3aa",
   "metadata": {
    "executionInfo": {
     "elapsed": 474,
     "status": "ok",
     "timestamp": 1734456426196,
     "user": {
      "displayName": "Pavel Efimov",
      "userId": "11310524505359177201"
     },
     "user_tz": -180
    },
    "id": "0641e3aa"
   },
   "outputs": [],
   "source": [
    "import os\n",
    "\n",
    "def read_dataset(path):\n",
    "    with open(os.path.join(path, 'seq.in')) as f_words, \\\n",
    "        open(os.path.join(path, 'seq.out')) as f_tags, \\\n",
    "        open(os.path.join(path, 'label')) as f_intents:\n",
    "\n",
    "        texts, slot_labels, intent_labels = [], [], []\n",
    "        for words, tags, intent in zip(f_words, f_tags, f_intents):\n",
    "            texts.append(words.strip().split())\n",
    "            slot_labels.append(tags.strip().split())\n",
    "            intent_labels.append(intent.strip())\n",
    "        return Dataset.from_dict({\"words\": texts,\n",
    "                                  \"tags\": slot_labels,\n",
    "                                  \"intent\": intent_labels})"
   ]
  },
  {
   "cell_type": "code",
   "execution_count": 19,
   "id": "g689rHSQOyf9",
   "metadata": {
    "executionInfo": {
     "elapsed": 507,
     "status": "ok",
     "timestamp": 1734456431218,
     "user": {
      "displayName": "Pavel Efimov",
      "userId": "11310524505359177201"
     },
     "user_tz": -180
    },
    "id": "g689rHSQOyf9"
   },
   "outputs": [],
   "source": [
    "datasets = DatasetDict()\n",
    "for split_name in [\"train\", \"valid\", \"test\"]:\n",
    "    datasets[split_name] = read_dataset(f\"/content/SlotGated-SLU/data/snips/{split_name}\")"
   ]
  },
  {
   "cell_type": "code",
   "execution_count": 20,
   "id": "3d6e337d",
   "metadata": {
    "colab": {
     "base_uri": "https://localhost:8080/"
    },
    "executionInfo": {
     "elapsed": 8,
     "status": "ok",
     "timestamp": 1734456432794,
     "user": {
      "displayName": "Pavel Efimov",
      "userId": "11310524505359177201"
     },
     "user_tz": -180
    },
    "id": "3d6e337d",
    "outputId": "e20fb7c5-8646-4383-e954-4baef0c98412"
   },
   "outputs": [
    {
     "data": {
      "text/plain": [
       "{'words': ['listen',\n",
       "  'to',\n",
       "  'westbam',\n",
       "  'alumb',\n",
       "  'allergic',\n",
       "  'on',\n",
       "  'google',\n",
       "  'music'],\n",
       " 'tags': ['O', 'O', 'B-artist', 'O', 'B-album', 'O', 'B-service', 'I-service'],\n",
       " 'intent': 'PlayMusic'}"
      ]
     },
     "execution_count": 20,
     "metadata": {},
     "output_type": "execute_result"
    }
   ],
   "source": [
    "datasets[\"train\"][0]"
   ]
  },
  {
   "cell_type": "code",
   "execution_count": 21,
   "id": "f0d8776d",
   "metadata": {
    "colab": {
     "base_uri": "https://localhost:8080/"
    },
    "executionInfo": {
     "elapsed": 1755,
     "status": "ok",
     "timestamp": 1734456436127,
     "user": {
      "displayName": "Pavel Efimov",
      "userId": "11310524505359177201"
     },
     "user_tz": -180
    },
    "id": "f0d8776d",
    "outputId": "6645c519-598e-494e-8d86-0ca62fe01a8a"
   },
   "outputs": [
    {
     "name": "stdout",
     "output_type": "stream",
     "text": [
      "Intent:\t PlayMusic\n",
      "Words:\t play\tfunky\theavy\tbluesy\n",
      "Tags:\t O\tB-playlist\tI-playlist\tI-playlist\n",
      "\n",
      "Intent:\t AddToPlaylist\n",
      "Words:\t add\tgabrial\tmcnair\tto\tmy\tlove\tin\tparis\tlist\n",
      "Tags:\t O\tB-artist\tI-artist\tO\tB-playlist_owner\tB-playlist\tI-playlist\tI-playlist\tO\n",
      "\n",
      "Intent:\t RateBook\n",
      "Words:\t rate\trichard\tcarvel\t4\tout\tof\t6\n",
      "Tags:\t O\tB-object_name\tI-object_name\tB-rating_value\tO\tO\tB-best_rating\n",
      "\n",
      "Intent:\t SearchScreeningEvent\n",
      "Words:\t can\ti\tget\tthe\tmovie\tschedule\tfor\tloews\tcineplex\tentertainment\n",
      "Tags:\t O\tO\tO\tO\tB-object_type\tI-object_type\tO\tB-location_name\tI-location_name\tI-location_name\n",
      "\n",
      "Intent:\t BookRestaurant\n",
      "Words:\t i\twant\tto\teat\tchoucroute\tat\ta\tbrasserie\tfor\t8\n",
      "Tags:\t O\tO\tO\tO\tB-served_dish\tO\tO\tB-restaurant_type\tO\tB-party_size_number\n",
      "\n",
      "Intent:\t GetWeather\n",
      "Words:\t tell\tme\twhen\tit\tll\tbe\tchillier\tin\tcavalero\tcorner\tid\n",
      "Tags:\t O\tO\tO\tO\tO\tO\tB-condition_temperature\tO\tB-city\tI-city\tB-state\n",
      "\n",
      "Intent:\t SearchCreativeWork\n",
      "Words:\t go\tto\tthe\tphotograph\tthe\tinflated\ttear\n",
      "Tags:\t O\tO\tO\tB-object_type\tB-object_name\tI-object_name\tI-object_name\n",
      "\n"
     ]
    }
   ],
   "source": [
    "intent_to_example = {example[\"intent\"]: example for example in datasets[\"train\"]}\n",
    "for example in intent_to_example.values():\n",
    "    print('Intent:\\t', example[\"intent\"])\n",
    "    print('Words:\\t', '\\t'.join(example[\"words\"]))\n",
    "    print('Tags:\\t', '\\t'.join(example[\"tags\"]))\n",
    "    print()"
   ]
  },
  {
   "cell_type": "code",
   "execution_count": 22,
   "id": "RH3QiGJAveep",
   "metadata": {
    "executionInfo": {
     "elapsed": 6,
     "status": "ok",
     "timestamp": 1734456437776,
     "user": {
      "displayName": "Pavel Efimov",
      "userId": "11310524505359177201"
     },
     "user_tz": -180
    },
    "id": "RH3QiGJAveep"
   },
   "outputs": [],
   "source": [
    "idx_to_label = list(set(datasets['train']['intent']))\n",
    "label_to_idx = {label: idx for idx, label in enumerate(idx_to_label)}"
   ]
  },
  {
   "cell_type": "code",
   "execution_count": 23,
   "id": "a4283703",
   "metadata": {
    "colab": {
     "base_uri": "https://localhost:8080/"
    },
    "executionInfo": {
     "elapsed": 3,
     "status": "ok",
     "timestamp": 1734456439224,
     "user": {
      "displayName": "Pavel Efimov",
      "userId": "11310524505359177201"
     },
     "user_tz": -180
    },
    "id": "a4283703",
    "outputId": "ca1f0a8c-6176-4228-d405-9d7a5776ed46"
   },
   "outputs": [
    {
     "data": {
      "text/plain": [
       "['AddToPlaylist',\n",
       " 'PlayMusic',\n",
       " 'GetWeather',\n",
       " 'SearchCreativeWork',\n",
       " 'RateBook',\n",
       " 'SearchScreeningEvent',\n",
       " 'BookRestaurant']"
      ]
     },
     "execution_count": 23,
     "metadata": {},
     "output_type": "execute_result"
    }
   ],
   "source": [
    "idx_to_label"
   ]
  },
  {
   "cell_type": "code",
   "execution_count": 24,
   "id": "059ab898",
   "metadata": {
    "colab": {
     "base_uri": "https://localhost:8080/"
    },
    "executionInfo": {
     "elapsed": 3,
     "status": "ok",
     "timestamp": 1734456439876,
     "user": {
      "displayName": "Pavel Efimov",
      "userId": "11310524505359177201"
     },
     "user_tz": -180
    },
    "id": "059ab898",
    "outputId": "e90dffe4-1c4b-4702-cbf7-34b485804e12"
   },
   "outputs": [
    {
     "data": {
      "text/plain": [
       "{'AddToPlaylist': 0,\n",
       " 'PlayMusic': 1,\n",
       " 'GetWeather': 2,\n",
       " 'SearchCreativeWork': 3,\n",
       " 'RateBook': 4,\n",
       " 'SearchScreeningEvent': 5,\n",
       " 'BookRestaurant': 6}"
      ]
     },
     "execution_count": 24,
     "metadata": {},
     "output_type": "execute_result"
    }
   ],
   "source": [
    "label_to_idx"
   ]
  },
  {
   "cell_type": "code",
   "execution_count": 25,
   "id": "843282aa",
   "metadata": {
    "executionInfo": {
     "elapsed": 5,
     "status": "ok",
     "timestamp": 1734456440444,
     "user": {
      "displayName": "Pavel Efimov",
      "userId": "11310524505359177201"
     },
     "user_tz": -180
    },
    "id": "843282aa"
   },
   "outputs": [],
   "source": [
    "def numericalize_data(example, tokenizer, label_to_idx):\n",
    "#     print(example)\n",
    "    token_idxs = tokenizer(example[\"words\"], is_split_into_words=True, add_special_tokens=True)[\"input_ids\"]\n",
    "    label_idx = label_to_idx[example['intent']]\n",
    "    return {'input_ids': token_idxs, 'intent': label_idx}"
   ]
  },
  {
   "cell_type": "code",
   "execution_count": 26,
   "id": "885b504a",
   "metadata": {
    "colab": {
     "base_uri": "https://localhost:8080/",
     "height": 113,
     "referenced_widgets": [
      "0c6321c246cd4f37b91ec8bc0cae3b2c",
      "400752083ae84a6a839926fe53919e12",
      "ee7034ffb26444158b44d8928d451b61",
      "56336e6c20a94a21a5e38d9d445f8133",
      "35821aa0fdd240a1b0d2f0736a76ceb5",
      "0effe54eaa4f46e8974ede7d9769c446",
      "a0bd01d4dd16423f9ef3693931d73674",
      "0c564a81a76d4d2199e7a8c3f5062c4f",
      "16d6c8bdf16f4e79a6d78bc6c9af39cd",
      "4baccd5a4cac4bd2b2aa2b5e2b21da8f",
      "740c9d7017b74488813a33e98e84622f",
      "6a2abfb1c3ae4561978e08f6869eb50e",
      "7647dd46771e424784c02b7e4fe9acf6",
      "0c525cf31c2e4b86832492538e51e74e",
      "7a104d88c7b4480b9d6b9234b7f36b46",
      "0a4ff727a0dd4170945989d64901f25c",
      "bd5aeb2686df45d3ad427fbc00f3702b",
      "29db432423fd4ce8847e538fb1bba325",
      "6fa28c877b144ecd8487b57e78883403",
      "6cdb40a3ab7843bb87255efa2e0e4e61",
      "6dde32b36a904b35ac6cb50990fbf32f",
      "d44110389b604028b57fb7947539ef16",
      "51b83b5d6a21444485fb6be4f3b7c0f3",
      "75afdb10e8214805b623c3df84037af1",
      "145ae4aea5da444484b898bf7895bce2",
      "91dae9b967a9437cb12de1048056bdab",
      "579850109a9f47908adea4ba9c0b72c8",
      "80d08be73f554bccbc53effc644f3463",
      "25fd0903f3024814a2694f62a9ad6e98",
      "5706fef1840a4accb616ed5537a3d856",
      "ba0c55feb3b64398bdde035976413f44",
      "2a7438aa7b4941f2909cec55972bd981",
      "e801737423c7425785d6fcefd4a741ac"
     ]
    },
    "executionInfo": {
     "elapsed": 3881,
     "status": "ok",
     "timestamp": 1734456447185,
     "user": {
      "displayName": "Pavel Efimov",
      "userId": "11310524505359177201"
     },
     "user_tz": -180
    },
    "id": "885b504a",
    "outputId": "2a4b0cbb-7851-4d3c-c90c-20718875785c"
   },
   "outputs": [
    {
     "data": {
      "application/vnd.jupyter.widget-view+json": {
       "model_id": "0c6321c246cd4f37b91ec8bc0cae3b2c",
       "version_major": 2,
       "version_minor": 0
      },
      "text/plain": [
       "Map:   0%|          | 0/13084 [00:00<?, ? examples/s]"
      ]
     },
     "metadata": {},
     "output_type": "display_data"
    },
    {
     "data": {
      "application/vnd.jupyter.widget-view+json": {
       "model_id": "6a2abfb1c3ae4561978e08f6869eb50e",
       "version_major": 2,
       "version_minor": 0
      },
      "text/plain": [
       "Map:   0%|          | 0/700 [00:00<?, ? examples/s]"
      ]
     },
     "metadata": {},
     "output_type": "display_data"
    },
    {
     "data": {
      "application/vnd.jupyter.widget-view+json": {
       "model_id": "51b83b5d6a21444485fb6be4f3b7c0f3",
       "version_major": 2,
       "version_minor": 0
      },
      "text/plain": [
       "Map:   0%|          | 0/700 [00:00<?, ? examples/s]"
      ]
     },
     "metadata": {},
     "output_type": "display_data"
    }
   ],
   "source": [
    "transformed_data = datasets.map(numericalize_data, fn_kwargs={'tokenizer': tokenizer,\n",
    "                                                          'label_to_idx': label_to_idx},\n",
    "                                remove_columns=[\"words\", \"tags\"])"
   ]
  },
  {
   "cell_type": "code",
   "execution_count": 27,
   "id": "Cx8jZpqsJHdi",
   "metadata": {
    "colab": {
     "base_uri": "https://localhost:8080/"
    },
    "executionInfo": {
     "elapsed": 492,
     "status": "ok",
     "timestamp": 1734456450049,
     "user": {
      "displayName": "Pavel Efimov",
      "userId": "11310524505359177201"
     },
     "user_tz": -180
    },
    "id": "Cx8jZpqsJHdi",
    "outputId": "f398c381-5ad4-4c68-98fa-ed83b83a4d3f"
   },
   "outputs": [
    {
     "data": {
      "text/plain": [
       "DatasetDict({\n",
       "    train: Dataset({\n",
       "        features: ['intent', 'input_ids'],\n",
       "        num_rows: 13084\n",
       "    })\n",
       "    valid: Dataset({\n",
       "        features: ['intent', 'input_ids'],\n",
       "        num_rows: 700\n",
       "    })\n",
       "    test: Dataset({\n",
       "        features: ['intent', 'input_ids'],\n",
       "        num_rows: 700\n",
       "    })\n",
       "})"
      ]
     },
     "execution_count": 27,
     "metadata": {},
     "output_type": "execute_result"
    }
   ],
   "source": [
    "transformed_data"
   ]
  },
  {
   "cell_type": "code",
   "execution_count": 28,
   "id": "Nqe-vyagzK5L",
   "metadata": {
    "colab": {
     "base_uri": "https://localhost:8080/"
    },
    "executionInfo": {
     "elapsed": 476,
     "status": "ok",
     "timestamp": 1734456454464,
     "user": {
      "displayName": "Pavel Efimov",
      "userId": "11310524505359177201"
     },
     "user_tz": -180
    },
    "id": "Nqe-vyagzK5L",
    "outputId": "0894d79e-44b9-4d8b-f239-094b3570567f"
   },
   "outputs": [
    {
     "data": {
      "text/plain": [
       "{'intent': 1,\n",
       " 'input_ids': [101,\n",
       "  4952,\n",
       "  2000,\n",
       "  2225,\n",
       "  3676,\n",
       "  2213,\n",
       "  2632,\n",
       "  25438,\n",
       "  27395,\n",
       "  2006,\n",
       "  8224,\n",
       "  2189,\n",
       "  102]}"
      ]
     },
     "execution_count": 28,
     "metadata": {},
     "output_type": "execute_result"
    }
   ],
   "source": [
    "transformed_data[\"train\"][0]"
   ]
  },
  {
   "cell_type": "code",
   "execution_count": 29,
   "id": "2b956558",
   "metadata": {
    "executionInfo": {
     "elapsed": 600,
     "status": "ok",
     "timestamp": 1734456466221,
     "user": {
      "displayName": "Pavel Efimov",
      "userId": "11310524505359177201"
     },
     "user_tz": -180
    },
    "id": "2b956558"
   },
   "outputs": [],
   "source": [
    "transformed_data = transformed_data.with_format(type='torch')"
   ]
  },
  {
   "cell_type": "code",
   "execution_count": 30,
   "id": "53575424",
   "metadata": {
    "colab": {
     "base_uri": "https://localhost:8080/"
    },
    "executionInfo": {
     "elapsed": 1117,
     "status": "ok",
     "timestamp": 1734456469097,
     "user": {
      "displayName": "Pavel Efimov",
      "userId": "11310524505359177201"
     },
     "user_tz": -180
    },
    "id": "53575424",
    "outputId": "ce7eacf6-cfa3-493c-c3d3-c05a93d94e85"
   },
   "outputs": [
    {
     "data": {
      "text/plain": [
       "{'intent': tensor(1),\n",
       " 'input_ids': tensor([  101,  4952,  2000,  2225,  3676,  2213,  2632, 25438, 27395,  2006,\n",
       "          8224,  2189,   102])}"
      ]
     },
     "execution_count": 30,
     "metadata": {},
     "output_type": "execute_result"
    }
   ],
   "source": [
    "transformed_data['train'][0]"
   ]
  },
  {
   "cell_type": "code",
   "execution_count": 31,
   "id": "cea5b08b",
   "metadata": {
    "executionInfo": {
     "elapsed": 603,
     "status": "ok",
     "timestamp": 1734456472165,
     "user": {
      "displayName": "Pavel Efimov",
      "userId": "11310524505359177201"
     },
     "user_tz": -180
    },
    "id": "cea5b08b"
   },
   "outputs": [],
   "source": [
    "def collate_batch(batch):\n",
    "    # print(\"Original batch:\")\n",
    "    # print(batch)\n",
    "    batch_input = [example[\"input_ids\"] for example in batch]\n",
    "    batch_labels = torch.stack([example['intent'] for example in batch])\n",
    "    batch_input = nn.utils.rnn.pad_sequence(batch_input, padding_value=tokenizer.pad_token_id, batch_first=True)\n",
    "    batch = {'input_ids': batch_input,\n",
    "             'intent': batch_labels}\n",
    "    # print(\"New batch:\")\n",
    "    # print(batch)\n",
    "    return batch"
   ]
  },
  {
   "cell_type": "code",
   "execution_count": 33,
   "id": "ab77f51c",
   "metadata": {
    "executionInfo": {
     "elapsed": 420,
     "status": "ok",
     "timestamp": 1734456485598,
     "user": {
      "displayName": "Pavel Efimov",
      "userId": "11310524505359177201"
     },
     "user_tz": -180
    },
    "id": "ab77f51c"
   },
   "outputs": [],
   "source": [
    "BATCH_SIZE = 32\n",
    "\n",
    "train_dataloader = torch.utils.data.DataLoader(transformed_data['train'],\n",
    "                                               batch_size=BATCH_SIZE,\n",
    "                                               collate_fn=collate_batch,\n",
    "                                               shuffle=True)\n",
    "\n",
    "validation_dataloader = torch.utils.data.DataLoader(transformed_data['valid'],\n",
    "                                                    batch_size=BATCH_SIZE,\n",
    "                                                    collate_fn=collate_batch)\n",
    "\n",
    "test_dataloader = torch.utils.data.DataLoader(transformed_data['test'],\n",
    "                                              batch_size=BATCH_SIZE,\n",
    "                                              collate_fn=collate_batch)"
   ]
  },
  {
   "cell_type": "code",
   "execution_count": 34,
   "id": "7cbc749a",
   "metadata": {
    "executionInfo": {
     "elapsed": 4,
     "status": "ok",
     "timestamp": 1734456486715,
     "user": {
      "displayName": "Pavel Efimov",
      "userId": "11310524505359177201"
     },
     "user_tz": -180
    },
    "id": "7cbc749a"
   },
   "outputs": [],
   "source": [
    "for batch in train_dataloader:\n",
    "    break"
   ]
  },
  {
   "cell_type": "code",
   "execution_count": null,
   "id": "9ebad518",
   "metadata": {
    "id": "9ebad518"
   },
   "outputs": [],
   "source": [
    "batch"
   ]
  },
  {
   "cell_type": "code",
   "execution_count": 36,
   "id": "N8E22inXK4Dv",
   "metadata": {
    "colab": {
     "base_uri": "https://localhost:8080/"
    },
    "executionInfo": {
     "elapsed": 517,
     "status": "ok",
     "timestamp": 1734456496032,
     "user": {
      "displayName": "Pavel Efimov",
      "userId": "11310524505359177201"
     },
     "user_tz": -180
    },
    "id": "N8E22inXK4Dv",
    "outputId": "bbe2097e-d73c-4959-fa6f-43fa0f33583a"
   },
   "outputs": [
    {
     "data": {
      "text/plain": [
       "torch.Size([32, 23])"
      ]
     },
     "execution_count": 36,
     "metadata": {},
     "output_type": "execute_result"
    }
   ],
   "source": [
    "batch[\"input_ids\"].shape"
   ]
  },
  {
   "cell_type": "code",
   "execution_count": 39,
   "id": "9VG6LzGcLGpr",
   "metadata": {
    "colab": {
     "base_uri": "https://localhost:8080/"
    },
    "executionInfo": {
     "elapsed": 7,
     "status": "ok",
     "timestamp": 1734456518057,
     "user": {
      "displayName": "Pavel Efimov",
      "userId": "11310524505359177201"
     },
     "user_tz": -180
    },
    "id": "9VG6LzGcLGpr",
    "outputId": "3650d2cb-8bb9-4e49-a7cc-1d1258c0425a"
   },
   "outputs": [
    {
     "data": {
      "text/plain": [
       "BertConfig {\n",
       "  \"_attn_implementation_autoset\": true,\n",
       "  \"_name_or_path\": \"prajjwal1/bert-tiny\",\n",
       "  \"attention_probs_dropout_prob\": 0.1,\n",
       "  \"classifier_dropout\": null,\n",
       "  \"hidden_act\": \"gelu\",\n",
       "  \"hidden_dropout_prob\": 0.1,\n",
       "  \"hidden_size\": 128,\n",
       "  \"initializer_range\": 0.02,\n",
       "  \"intermediate_size\": 512,\n",
       "  \"layer_norm_eps\": 1e-12,\n",
       "  \"max_position_embeddings\": 512,\n",
       "  \"model_type\": \"bert\",\n",
       "  \"num_attention_heads\": 2,\n",
       "  \"num_hidden_layers\": 2,\n",
       "  \"pad_token_id\": 0,\n",
       "  \"position_embedding_type\": \"absolute\",\n",
       "  \"transformers_version\": \"4.46.3\",\n",
       "  \"type_vocab_size\": 2,\n",
       "  \"use_cache\": true,\n",
       "  \"vocab_size\": 30522\n",
       "}"
      ]
     },
     "execution_count": 39,
     "metadata": {},
     "output_type": "execute_result"
    }
   ],
   "source": [
    "bert.config"
   ]
  },
  {
   "cell_type": "code",
   "execution_count": 40,
   "id": "Jp6QXPucMe38",
   "metadata": {
    "colab": {
     "base_uri": "https://localhost:8080/"
    },
    "executionInfo": {
     "elapsed": 752,
     "status": "ok",
     "timestamp": 1734456525418,
     "user": {
      "displayName": "Pavel Efimov",
      "userId": "11310524505359177201"
     },
     "user_tz": -180
    },
    "id": "Jp6QXPucMe38",
    "outputId": "9fcb66d4-79d1-4383-cfd0-2ee7992a097c"
   },
   "outputs": [
    {
     "data": {
      "text/plain": [
       "128"
      ]
     },
     "execution_count": 40,
     "metadata": {},
     "output_type": "execute_result"
    }
   ],
   "source": [
    "bert.config.hidden_size"
   ]
  },
  {
   "cell_type": "code",
   "execution_count": 42,
   "id": "sQgfNgb2bPHX",
   "metadata": {
    "colab": {
     "base_uri": "https://localhost:8080/"
    },
    "executionInfo": {
     "elapsed": 504,
     "status": "ok",
     "timestamp": 1734456536474,
     "user": {
      "displayName": "Pavel Efimov",
      "userId": "11310524505359177201"
     },
     "user_tz": -180
    },
    "id": "sQgfNgb2bPHX",
    "outputId": "b9934f77-acb3-42d8-f1fa-928c4e3d1e6b"
   },
   "outputs": [
    {
     "name": "stderr",
     "output_type": "stream",
     "text": [
      "We strongly recommend passing in an `attention_mask` since your input_ids may be padded. See https://huggingface.co/docs/transformers/troubleshooting#incorrect-output-when-padding-tokens-arent-masked.\n"
     ]
    },
    {
     "data": {
      "text/plain": [
       "torch.Size([32, 23, 128])"
      ]
     },
     "execution_count": 42,
     "metadata": {},
     "output_type": "execute_result"
    }
   ],
   "source": [
    "bert_output = bert(batch[\"input_ids\"])[\"last_hidden_state\"]\n",
    "bert_output.shape"
   ]
  },
  {
   "cell_type": "code",
   "execution_count": 43,
   "id": "ARhDwoL-Lr8z",
   "metadata": {
    "colab": {
     "base_uri": "https://localhost:8080/"
    },
    "executionInfo": {
     "elapsed": 602,
     "status": "ok",
     "timestamp": 1734456543231,
     "user": {
      "displayName": "Pavel Efimov",
      "userId": "11310524505359177201"
     },
     "user_tz": -180
    },
    "id": "ARhDwoL-Lr8z",
    "outputId": "9c523f74-7767-4536-e28b-bf123cb4b397"
   },
   "outputs": [
    {
     "data": {
      "text/plain": [
       "torch.Size([32, 128])"
      ]
     },
     "execution_count": 43,
     "metadata": {},
     "output_type": "execute_result"
    }
   ],
   "source": [
    "cls_embeddings = bert_output[:, 0, :]\n",
    "cls_embeddings.shape"
   ]
  },
  {
   "cell_type": "code",
   "execution_count": 44,
   "id": "KdijOhZVMGmd",
   "metadata": {
    "colab": {
     "base_uri": "https://localhost:8080/"
    },
    "executionInfo": {
     "elapsed": 510,
     "status": "ok",
     "timestamp": 1734456545083,
     "user": {
      "displayName": "Pavel Efimov",
      "userId": "11310524505359177201"
     },
     "user_tz": -180
    },
    "id": "KdijOhZVMGmd",
    "outputId": "6bb1b529-0f97-4046-affb-8296b970f759"
   },
   "outputs": [
    {
     "data": {
      "text/plain": [
       "torch.Size([32, 21, 128])"
      ]
     },
     "execution_count": 44,
     "metadata": {},
     "output_type": "execute_result"
    }
   ],
   "source": [
    "tokens_embeddings = bert_output[:, 1:-1, :]\n",
    "tokens_embeddings.shape"
   ]
  },
  {
   "cell_type": "code",
   "execution_count": 46,
   "id": "53427b55",
   "metadata": {
    "executionInfo": {
     "elapsed": 503,
     "status": "ok",
     "timestamp": 1734456677583,
     "user": {
      "displayName": "Pavel Efimov",
      "userId": "11310524505359177201"
     },
     "user_tz": -180
    },
    "id": "53427b55"
   },
   "outputs": [],
   "source": [
    "class BertClassifier(nn.Module):\n",
    "    def __init__(self, bert_model, output_dim, dropout_rate):\n",
    "        super().__init__()\n",
    "        self.bert = bert_model\n",
    "        self.fc = nn.Linear(bert_model.config.hidden_size, output_dim)\n",
    "        self.dropout = nn.Dropout(dropout_rate)\n",
    "        self.tanh = nn.Tanh()\n",
    "\n",
    "    def forward(self, ids):\n",
    "        bert_output = self.bert(ids)[\"last_hidden_state\"]\n",
    "        cls_embeddings = bert_output[:, 0, :]\n",
    "        prediction = self.fc(self.dropout(self.tanh(cls_embeddings)))\n",
    "        prediction = self.fc(cls_embeddings)\n",
    "        return prediction"
   ]
  },
  {
   "cell_type": "code",
   "execution_count": 47,
   "id": "11206188",
   "metadata": {
    "executionInfo": {
     "elapsed": 502,
     "status": "ok",
     "timestamp": 1734456695402,
     "user": {
      "displayName": "Pavel Efimov",
      "userId": "11310524505359177201"
     },
     "user_tz": -180
    },
    "id": "11206188"
   },
   "outputs": [],
   "source": [
    "dropout_rate = 0.1\n",
    "\n",
    "model = BertClassifier(bert, len(label_to_idx), dropout_rate)"
   ]
  },
  {
   "cell_type": "code",
   "execution_count": 48,
   "id": "5feb9512",
   "metadata": {
    "colab": {
     "base_uri": "https://localhost:8080/"
    },
    "executionInfo": {
     "elapsed": 8,
     "status": "ok",
     "timestamp": 1734456696948,
     "user": {
      "displayName": "Pavel Efimov",
      "userId": "11310524505359177201"
     },
     "user_tz": -180
    },
    "id": "5feb9512",
    "outputId": "4fa0bc1f-3581-44dc-ff17-981eb97a23cf"
   },
   "outputs": [
    {
     "name": "stdout",
     "output_type": "stream",
     "text": [
      "The model has 4,386,823 trainable parameters\n"
     ]
    }
   ],
   "source": [
    "def count_parameters(model):\n",
    "    return sum(p.numel() for p in model.parameters() if p.requires_grad)\n",
    "\n",
    "print(f'The model has {count_parameters(model):,} trainable parameters')"
   ]
  },
  {
   "cell_type": "code",
   "execution_count": 49,
   "id": "e2d0b14e",
   "metadata": {
    "executionInfo": {
     "elapsed": 3,
     "status": "ok",
     "timestamp": 1734456698801,
     "user": {
      "displayName": "Pavel Efimov",
      "userId": "11310524505359177201"
     },
     "user_tz": -180
    },
    "id": "e2d0b14e"
   },
   "outputs": [],
   "source": [
    "lr = 5e-4\n",
    "\n",
    "optimizer = optim.Adam(model.parameters(), lr=lr)"
   ]
  },
  {
   "cell_type": "code",
   "execution_count": 50,
   "id": "d798a6bd",
   "metadata": {
    "executionInfo": {
     "elapsed": 428,
     "status": "ok",
     "timestamp": 1734456702183,
     "user": {
      "displayName": "Pavel Efimov",
      "userId": "11310524505359177201"
     },
     "user_tz": -180
    },
    "id": "d798a6bd"
   },
   "outputs": [],
   "source": [
    "criterion = nn.CrossEntropyLoss() # loss function, функция ошибки"
   ]
  },
  {
   "cell_type": "code",
   "execution_count": 51,
   "id": "4a780705",
   "metadata": {
    "colab": {
     "base_uri": "https://localhost:8080/"
    },
    "executionInfo": {
     "elapsed": 608,
     "status": "ok",
     "timestamp": 1734456704617,
     "user": {
      "displayName": "Pavel Efimov",
      "userId": "11310524505359177201"
     },
     "user_tz": -180
    },
    "id": "4a780705",
    "outputId": "9ecfe5fb-881c-49a9-a291-db901156c02f"
   },
   "outputs": [
    {
     "data": {
      "text/plain": [
       "device(type='cuda')"
      ]
     },
     "execution_count": 51,
     "metadata": {},
     "output_type": "execute_result"
    }
   ],
   "source": [
    "device = torch.device('cuda' if torch.cuda.is_available() else 'cpu')\n",
    "device"
   ]
  },
  {
   "cell_type": "code",
   "execution_count": 52,
   "id": "8a1e9b07",
   "metadata": {
    "executionInfo": {
     "elapsed": 496,
     "status": "ok",
     "timestamp": 1734456708505,
     "user": {
      "displayName": "Pavel Efimov",
      "userId": "11310524505359177201"
     },
     "user_tz": -180
    },
    "id": "8a1e9b07"
   },
   "outputs": [],
   "source": [
    "def train(dataloader, model, criterion, optimizer, device):\n",
    "\n",
    "    model.train()\n",
    "    epoch_losses = []\n",
    "    epoch_accs = []\n",
    "\n",
    "    for batch in tqdm.tqdm(dataloader, desc='training...', file=sys.stdout):\n",
    "        ids = batch['input_ids'].to(device)\n",
    "        label = batch['intent'].to(device)\n",
    "        prediction = model(ids)\n",
    "        loss = criterion(prediction, label)\n",
    "        accuracy = get_accuracy(prediction, label)\n",
    "        loss.backward()\n",
    "        optimizer.step()\n",
    "        epoch_losses.append(loss.item())\n",
    "        epoch_accs.append(accuracy.item())\n",
    "        optimizer.zero_grad()\n",
    "\n",
    "    return epoch_losses, epoch_accs"
   ]
  },
  {
   "cell_type": "code",
   "execution_count": 53,
   "id": "c7988786",
   "metadata": {
    "executionInfo": {
     "elapsed": 495,
     "status": "ok",
     "timestamp": 1734456717518,
     "user": {
      "displayName": "Pavel Efimov",
      "userId": "11310524505359177201"
     },
     "user_tz": -180
    },
    "id": "c7988786"
   },
   "outputs": [],
   "source": [
    "def evaluate(dataloader, model, criterion, device):\n",
    "\n",
    "    model.eval()\n",
    "    epoch_losses = []\n",
    "    epoch_accs = []\n",
    "\n",
    "    with torch.no_grad():\n",
    "        for batch in tqdm.tqdm(dataloader, desc='evaluating...', file=sys.stdout):\n",
    "            ids = batch['input_ids'].to(device)\n",
    "            label = batch['intent'].to(device)\n",
    "            prediction = model(ids)\n",
    "            loss = criterion(prediction, label)\n",
    "            accuracy = get_accuracy(prediction, label)\n",
    "            epoch_losses.append(loss.item())\n",
    "            epoch_accs.append(accuracy.item())\n",
    "\n",
    "    return epoch_losses, epoch_accs"
   ]
  },
  {
   "cell_type": "code",
   "execution_count": 54,
   "id": "d66535bd",
   "metadata": {
    "executionInfo": {
     "elapsed": 603,
     "status": "ok",
     "timestamp": 1734456719769,
     "user": {
      "displayName": "Pavel Efimov",
      "userId": "11310524505359177201"
     },
     "user_tz": -180
    },
    "id": "d66535bd"
   },
   "outputs": [],
   "source": [
    "def get_accuracy(prediction, label):\n",
    "    batch_size, _ = prediction.shape\n",
    "    predicted_classes = prediction.argmax(dim=-1)\n",
    "    correct_predictions = predicted_classes.eq(label).sum()\n",
    "    accuracy = correct_predictions / batch_size\n",
    "    return accuracy"
   ]
  },
  {
   "cell_type": "code",
   "execution_count": 55,
   "id": "5c8302f0",
   "metadata": {
    "executionInfo": {
     "elapsed": 447,
     "status": "ok",
     "timestamp": 1734456721517,
     "user": {
      "displayName": "Pavel Efimov",
      "userId": "11310524505359177201"
     },
     "user_tz": -180
    },
    "id": "5c8302f0"
   },
   "outputs": [],
   "source": [
    "model = model.to(device)\n",
    "criterion = criterion.to(device)"
   ]
  },
  {
   "cell_type": "code",
   "execution_count": 56,
   "id": "24c05b57",
   "metadata": {
    "colab": {
     "base_uri": "https://localhost:8080/"
    },
    "executionInfo": {
     "elapsed": 41944,
     "status": "ok",
     "timestamp": 1734456765137,
     "user": {
      "displayName": "Pavel Efimov",
      "userId": "11310524505359177201"
     },
     "user_tz": -180
    },
    "id": "24c05b57",
    "outputId": "ecc5cd88-ed0f-4070-9db9-18409853825f"
   },
   "outputs": [
    {
     "name": "stdout",
     "output_type": "stream",
     "text": [
      "training...: 100%|██████████| 409/409 [00:05<00:00, 81.09it/s] \n",
      "evaluating...: 100%|██████████| 22/22 [00:00<00:00, 237.40it/s]\n",
      "epoch: 1\n",
      "train_loss: 0.168, train_acc: 0.949\n",
      "valid_loss: 0.113, valid_acc: 0.970\n",
      "training...: 100%|██████████| 409/409 [00:03<00:00, 109.01it/s]\n",
      "evaluating...: 100%|██████████| 22/22 [00:00<00:00, 260.30it/s]\n",
      "epoch: 2\n",
      "train_loss: 0.043, train_acc: 0.987\n",
      "valid_loss: 0.097, valid_acc: 0.976\n",
      "training...: 100%|██████████| 409/409 [00:04<00:00, 88.74it/s] \n",
      "evaluating...: 100%|██████████| 22/22 [00:00<00:00, 228.69it/s]\n",
      "epoch: 3\n",
      "train_loss: 0.030, train_acc: 0.991\n",
      "valid_loss: 0.085, valid_acc: 0.980\n",
      "training...: 100%|██████████| 409/409 [00:03<00:00, 109.34it/s]\n",
      "evaluating...: 100%|██████████| 22/22 [00:00<00:00, 237.90it/s]\n",
      "epoch: 4\n",
      "train_loss: 0.019, train_acc: 0.994\n",
      "valid_loss: 0.125, valid_acc: 0.973\n",
      "training...: 100%|██████████| 409/409 [00:03<00:00, 108.48it/s]\n",
      "evaluating...: 100%|██████████| 22/22 [00:00<00:00, 270.81it/s]\n",
      "epoch: 5\n",
      "train_loss: 0.015, train_acc: 0.995\n",
      "valid_loss: 0.102, valid_acc: 0.977\n",
      "training...: 100%|██████████| 409/409 [00:04<00:00, 89.01it/s]\n",
      "evaluating...: 100%|██████████| 22/22 [00:00<00:00, 253.01it/s]\n",
      "epoch: 6\n",
      "train_loss: 0.012, train_acc: 0.996\n",
      "valid_loss: 0.155, valid_acc: 0.973\n",
      "training...: 100%|██████████| 409/409 [00:03<00:00, 109.37it/s]\n",
      "evaluating...: 100%|██████████| 22/22 [00:00<00:00, 251.37it/s]\n",
      "epoch: 7\n",
      "train_loss: 0.017, train_acc: 0.995\n",
      "valid_loss: 0.096, valid_acc: 0.983\n",
      "training...: 100%|██████████| 409/409 [00:03<00:00, 108.60it/s]\n",
      "evaluating...: 100%|██████████| 22/22 [00:00<00:00, 264.53it/s]\n",
      "epoch: 8\n",
      "train_loss: 0.011, train_acc: 0.997\n",
      "valid_loss: 0.119, valid_acc: 0.983\n",
      "training...: 100%|██████████| 409/409 [00:04<00:00, 97.05it/s]\n",
      "evaluating...: 100%|██████████| 22/22 [00:00<00:00, 170.43it/s]\n",
      "epoch: 9\n",
      "train_loss: 0.007, train_acc: 0.998\n",
      "valid_loss: 0.173, valid_acc: 0.971\n",
      "training...: 100%|██████████| 409/409 [00:03<00:00, 103.31it/s]\n",
      "evaluating...: 100%|██████████| 22/22 [00:00<00:00, 269.30it/s]\n",
      "epoch: 10\n",
      "train_loss: 0.008, train_acc: 0.998\n",
      "valid_loss: 0.147, valid_acc: 0.976\n"
     ]
    }
   ],
   "source": [
    "n_epochs = 10\n",
    "best_valid_loss = float('inf')\n",
    "\n",
    "train_losses = []\n",
    "train_accs = []\n",
    "valid_losses = []\n",
    "valid_accs = []\n",
    "\n",
    "for epoch in range(n_epochs):\n",
    "\n",
    "    train_loss, train_acc = train(train_dataloader, model, criterion, optimizer, device)\n",
    "    valid_loss, valid_acc = evaluate(validation_dataloader, model, criterion, device)\n",
    "\n",
    "    train_losses.extend(train_loss)\n",
    "    train_accs.extend(train_acc)\n",
    "    valid_losses.extend(valid_loss)\n",
    "    valid_accs.extend(valid_acc)\n",
    "\n",
    "    epoch_train_loss = np.mean(train_loss)\n",
    "    epoch_train_acc = np.mean(train_acc)\n",
    "    epoch_valid_loss = np.mean(valid_loss)\n",
    "    epoch_valid_acc = np.mean(valid_acc)\n",
    "\n",
    "    if epoch_valid_loss < best_valid_loss:\n",
    "        best_valid_loss = epoch_valid_loss\n",
    "        torch.save(model.state_dict(), 'bert_classifier.pt')\n",
    "\n",
    "    print(f'epoch: {epoch+1}')\n",
    "    print(f'train_loss: {epoch_train_loss:.3f}, train_acc: {epoch_train_acc:.3f}')\n",
    "    print(f'valid_loss: {epoch_valid_loss:.3f}, valid_acc: {epoch_valid_acc:.3f}')"
   ]
  },
  {
   "cell_type": "code",
   "execution_count": 57,
   "id": "vwJ2GmSorh_v",
   "metadata": {
    "executionInfo": {
     "elapsed": 500,
     "status": "ok",
     "timestamp": 1734456781628,
     "user": {
      "displayName": "Pavel Efimov",
      "userId": "11310524505359177201"
     },
     "user_tz": -180
    },
    "id": "vwJ2GmSorh_v"
   },
   "outputs": [],
   "source": [
    "torch.save(model.state_dict(), 'bert_classifier.pt')"
   ]
  },
  {
   "cell_type": "code",
   "execution_count": 58,
   "id": "uhbEiZFqrjOP",
   "metadata": {
    "colab": {
     "base_uri": "https://localhost:8080/"
    },
    "executionInfo": {
     "elapsed": 510,
     "status": "ok",
     "timestamp": 1734456843283,
     "user": {
      "displayName": "Pavel Efimov",
      "userId": "11310524505359177201"
     },
     "user_tz": -180
    },
    "id": "uhbEiZFqrjOP",
    "outputId": "24772af3-e535-475d-e073-80bb35f7c4af"
   },
   "outputs": [
    {
     "name": "stderr",
     "output_type": "stream",
     "text": [
      "<ipython-input-58-9a682bcd094c>:1: FutureWarning: You are using `torch.load` with `weights_only=False` (the current default value), which uses the default pickle module implicitly. It is possible to construct malicious pickle data which will execute arbitrary code during unpickling (See https://github.com/pytorch/pytorch/blob/main/SECURITY.md#untrusted-models for more details). In a future release, the default value for `weights_only` will be flipped to `True`. This limits the functions that could be executed during unpickling. Arbitrary objects will no longer be allowed to be loaded via this mode unless they are explicitly allowlisted by the user via `torch.serialization.add_safe_globals`. We recommend you start setting `weights_only=True` for any use case where you don't have full control of the loaded file. Please open an issue on GitHub for any issues related to this experimental feature.\n",
      "  model.load_state_dict(torch.load('bert_classifier.pt'))\n"
     ]
    },
    {
     "data": {
      "text/plain": [
       "<All keys matched successfully>"
      ]
     },
     "execution_count": 58,
     "metadata": {},
     "output_type": "execute_result"
    }
   ],
   "source": [
    "model.load_state_dict(torch.load('bert_classifier.pt'))"
   ]
  },
  {
   "cell_type": "code",
   "execution_count": 59,
   "id": "b360d0cd",
   "metadata": {
    "colab": {
     "base_uri": "https://localhost:8080/",
     "height": 542
    },
    "executionInfo": {
     "elapsed": 713,
     "status": "ok",
     "timestamp": 1734456853926,
     "user": {
      "displayName": "Pavel Efimov",
      "userId": "11310524505359177201"
     },
     "user_tz": -180
    },
    "id": "b360d0cd",
    "outputId": "ae21aa53-1549-4863-cf67-9897b1d6d47c"
   },
   "outputs": [
    {
     "data": {
      "image/png": "[encoded data removed]",
      "text/plain": [
       "<Figure size 1000x600 with 1 Axes>"
      ]
     },
     "metadata": {},
     "output_type": "display_data"
    }
   ],
   "source": [
    "fig = plt.figure(figsize=(10,6))\n",
    "ax = fig.add_subplot(1,1,1)\n",
    "ax.plot(train_losses, label='train loss')\n",
    "ax.plot(valid_losses, label='valid loss')\n",
    "plt.legend()\n",
    "ax.set_xlabel('updates')\n",
    "ax.set_ylabel('loss');"
   ]
  },
  {
   "cell_type": "code",
   "execution_count": 60,
   "id": "742a6855",
   "metadata": {
    "colab": {
     "base_uri": "https://localhost:8080/",
     "height": 542
    },
    "executionInfo": {
     "elapsed": 980,
     "status": "ok",
     "timestamp": 1734456863967,
     "user": {
      "displayName": "Pavel Efimov",
      "userId": "11310524505359177201"
     },
     "user_tz": -180
    },
    "id": "742a6855",
    "outputId": "58e2c33c-2d92-4da6-a8c2-741301574450"
   },
   "outputs": [
    {
     "data": {
      "image/png": "[encoded data removed]",
      "text/plain": [
       "<Figure size 1000x600 with 1 Axes>"
      ]
     },
     "metadata": {},
     "output_type": "display_data"
    }
   ],
   "source": [
    "fig = plt.figure(figsize=(10,6))\n",
    "ax = fig.add_subplot(1,1,1)\n",
    "ax.plot(train_accs, label='train accuracy')\n",
    "ax.plot(valid_accs, label='valid accuracy')\n",
    "plt.legend()\n",
    "ax.set_xlabel('updates')\n",
    "ax.set_ylabel('accuracy');"
   ]
  },
  {
   "cell_type": "code",
   "execution_count": 61,
   "id": "8b89f53f",
   "metadata": {
    "colab": {
     "base_uri": "https://localhost:8080/"
    },
    "executionInfo": {
     "elapsed": 515,
     "status": "ok",
     "timestamp": 1734456867544,
     "user": {
      "displayName": "Pavel Efimov",
      "userId": "11310524505359177201"
     },
     "user_tz": -180
    },
    "id": "8b89f53f",
    "outputId": "ea5c3e54-e8bf-4158-eae7-338c787d5419"
   },
   "outputs": [
    {
     "name": "stdout",
     "output_type": "stream",
     "text": [
      "evaluating...: 100%|██████████| 22/22 [00:00<00:00, 261.14it/s]\n",
      "test_loss: 0.230, test_acc: 0.958\n"
     ]
    }
   ],
   "source": [
    "test_loss, test_acc = evaluate(test_dataloader, model, criterion, device)\n",
    "\n",
    "epoch_test_loss = np.mean(test_loss)\n",
    "epoch_test_acc = np.mean(test_acc)\n",
    "\n",
    "print(f'test_loss: {epoch_test_loss:.3f}, test_acc: {epoch_test_acc:.3f}')"
   ]
  },
  {
   "cell_type": "code",
   "execution_count": 62,
   "id": "_dyVK4dohNXG",
   "metadata": {
    "executionInfo": {
     "elapsed": 610,
     "status": "ok",
     "timestamp": 1734456872976,
     "user": {
      "displayName": "Pavel Efimov",
      "userId": "11310524505359177201"
     },
     "user_tz": -180
    },
    "id": "_dyVK4dohNXG"
   },
   "outputs": [],
   "source": [
    "text = 'book canteen at 16 o clock'"
   ]
  },
  {
   "cell_type": "code",
   "execution_count": 63,
   "id": "6xrtnK8MhfXf",
   "metadata": {
    "colab": {
     "base_uri": "https://localhost:8080/"
    },
    "executionInfo": {
     "elapsed": 6,
     "status": "ok",
     "timestamp": 1734456874697,
     "user": {
      "displayName": "Pavel Efimov",
      "userId": "11310524505359177201"
     },
     "user_tz": -180
    },
    "id": "6xrtnK8MhfXf",
    "outputId": "6424b803-bebc-4323-844f-8c1600fa394a"
   },
   "outputs": [
    {
     "data": {
      "text/plain": [
       "[101, 2338, 26449, 2012, 2385, 1051, 5119, 102]"
      ]
     },
     "execution_count": 63,
     "metadata": {},
     "output_type": "execute_result"
    }
   ],
   "source": [
    "ids = tokenizer(text)[\"input_ids\"]\n",
    "ids"
   ]
  },
  {
   "cell_type": "code",
   "execution_count": 64,
   "id": "7xnvjhgHhn4M",
   "metadata": {
    "colab": {
     "base_uri": "https://localhost:8080/"
    },
    "executionInfo": {
     "elapsed": 512,
     "status": "ok",
     "timestamp": 1734456876559,
     "user": {
      "displayName": "Pavel Efimov",
      "userId": "11310524505359177201"
     },
     "user_tz": -180
    },
    "id": "7xnvjhgHhn4M",
    "outputId": "beac34c1-0393-4901-d295-8cbbd7093ab2"
   },
   "outputs": [
    {
     "data": {
      "text/plain": [
       "tensor([[  101,  2338, 26449,  2012,  2385,  1051,  5119,   102]],\n",
       "       device='cuda:0')"
      ]
     },
     "execution_count": 64,
     "metadata": {},
     "output_type": "execute_result"
    }
   ],
   "source": [
    "tensor = torch.LongTensor(ids).unsqueeze(dim=0).to(device)\n",
    "tensor"
   ]
  },
  {
   "cell_type": "code",
   "execution_count": 65,
   "id": "WpXRcdgvhsW3",
   "metadata": {
    "colab": {
     "base_uri": "https://localhost:8080/"
    },
    "executionInfo": {
     "elapsed": 413,
     "status": "ok",
     "timestamp": 1734456878259,
     "user": {
      "displayName": "Pavel Efimov",
      "userId": "11310524505359177201"
     },
     "user_tz": -180
    },
    "id": "WpXRcdgvhsW3",
    "outputId": "a337a8fd-0d2e-4044-dadb-5775170581de"
   },
   "outputs": [
    {
     "name": "stdout",
     "output_type": "stream",
     "text": [
      "tensor([-2.4442, -2.4054, -0.6272, -0.7262, -1.4111, -1.1158,  9.7489],\n",
      "       device='cuda:0', grad_fn=<SqueezeBackward1>)\n"
     ]
    }
   ],
   "source": [
    "prediction = model(tensor).squeeze(dim=0)\n",
    "print(prediction)"
   ]
  },
  {
   "cell_type": "code",
   "execution_count": 66,
   "id": "zuS4Lp1ehwSU",
   "metadata": {
    "colab": {
     "base_uri": "https://localhost:8080/"
    },
    "executionInfo": {
     "elapsed": 508,
     "status": "ok",
     "timestamp": 1734456881576,
     "user": {
      "displayName": "Pavel Efimov",
      "userId": "11310524505359177201"
     },
     "user_tz": -180
    },
    "id": "zuS4Lp1ehwSU",
    "outputId": "d1750eed-2950-4ba1-9ee8-e00dccee6b56"
   },
   "outputs": [
    {
     "data": {
      "text/plain": [
       "tensor([5.0651e-06, 5.2655e-06, 3.1165e-05, 2.8228e-05, 1.4231e-05, 1.9120e-05,\n",
       "        9.9990e-01], device='cuda:0', grad_fn=<SoftmaxBackward0>)"
      ]
     },
     "execution_count": 66,
     "metadata": {},
     "output_type": "execute_result"
    }
   ],
   "source": [
    "probability = torch.softmax(prediction, dim=-1)\n",
    "probability"
   ]
  },
  {
   "cell_type": "code",
   "execution_count": 67,
   "id": "ZlYIbfoQh3fM",
   "metadata": {
    "colab": {
     "base_uri": "https://localhost:8080/"
    },
    "executionInfo": {
     "elapsed": 600,
     "status": "ok",
     "timestamp": 1734456883826,
     "user": {
      "displayName": "Pavel Efimov",
      "userId": "11310524505359177201"
     },
     "user_tz": -180
    },
    "id": "ZlYIbfoQh3fM",
    "outputId": "f50bd6e2-9240-4033-a286-b2e33227b870"
   },
   "outputs": [
    {
     "data": {
      "text/plain": [
       "6"
      ]
     },
     "execution_count": 67,
     "metadata": {},
     "output_type": "execute_result"
    }
   ],
   "source": [
    "predicted_idx = prediction.argmax(dim=-1).item()\n",
    "predicted_idx"
   ]
  },
  {
   "cell_type": "code",
   "execution_count": 68,
   "id": "l2HSnhEnh8MM",
   "metadata": {
    "colab": {
     "base_uri": "https://localhost:8080/",
     "height": 36
    },
    "executionInfo": {
     "elapsed": 15,
     "status": "ok",
     "timestamp": 1734456885692,
     "user": {
      "displayName": "Pavel Efimov",
      "userId": "11310524505359177201"
     },
     "user_tz": -180
    },
    "id": "l2HSnhEnh8MM",
    "outputId": "a059f75f-803d-4dcd-baf3-961dbdc93be0"
   },
   "outputs": [
    {
     "data": {
      "application/vnd.google.colaboratory.intrinsic+json": {
       "type": "string"
      },
      "text/plain": [
       "'BookRestaurant'"
      ]
     },
     "execution_count": 68,
     "metadata": {},
     "output_type": "execute_result"
    }
   ],
   "source": [
    "idx_to_label[predicted_idx]"
   ]
  },
  {
   "cell_type": "code",
   "execution_count": 69,
   "id": "c07df383",
   "metadata": {
    "executionInfo": {
     "elapsed": 504,
     "status": "ok",
     "timestamp": 1734456889148,
     "user": {
      "displayName": "Pavel Efimov",
      "userId": "11310524505359177201"
     },
     "user_tz": -180
    },
    "id": "c07df383"
   },
   "outputs": [],
   "source": [
    "def process_line(text, model, tokenizer, idx_to_label, device):\n",
    "    ids = tokenizer(text)[\"input_ids\"]\n",
    "    tensor = torch.LongTensor(ids).unsqueeze(dim=0).to(device)\n",
    "    prediction = model(tensor).squeeze(dim=0)\n",
    "    probability = torch.softmax(prediction, dim=-1)\n",
    "    predicted_idx = prediction.argmax(dim=-1).item()\n",
    "    predicted_class = idx_to_label[predicted_idx]\n",
    "    predicted_probability = probability[predicted_idx].item()\n",
    "    return predicted_class, predicted_probability"
   ]
  },
  {
   "cell_type": "code",
   "execution_count": 70,
   "id": "8d9d591d",
   "metadata": {
    "colab": {
     "base_uri": "https://localhost:8080/"
    },
    "executionInfo": {
     "elapsed": 508,
     "status": "ok",
     "timestamp": 1734456890999,
     "user": {
      "displayName": "Pavel Efimov",
      "userId": "11310524505359177201"
     },
     "user_tz": -180
    },
    "id": "8d9d591d",
    "outputId": "04c7e312-f938-4097-8296-77ef58e62c03"
   },
   "outputs": [
    {
     "data": {
      "text/plain": [
       "('BookRestaurant', 0.9998970031738281)"
      ]
     },
     "execution_count": 70,
     "metadata": {},
     "output_type": "execute_result"
    }
   ],
   "source": [
    "text = 'book canteen at 16 o clock'\n",
    "\n",
    "process_line(text, model, tokenizer, idx_to_label, device)"
   ]
  },
  {
   "cell_type": "code",
   "execution_count": 71,
   "id": "f392b05a",
   "metadata": {
    "colab": {
     "base_uri": "https://localhost:8080/"
    },
    "executionInfo": {
     "elapsed": 413,
     "status": "ok",
     "timestamp": 1734456894376,
     "user": {
      "displayName": "Pavel Efimov",
      "userId": "11310524505359177201"
     },
     "user_tz": -180
    },
    "id": "f392b05a",
    "outputId": "77cf5889-6a22-4f6b-8715-8ee7aa323372"
   },
   "outputs": [
    {
     "data": {
      "text/plain": [
       "('PlayMusic', 0.9988489151000977)"
      ]
     },
     "execution_count": 71,
     "metadata": {},
     "output_type": "execute_result"
    }
   ],
   "source": [
    "text = 'I want to listen something nice'\n",
    "\n",
    "process_line(text, model, tokenizer, idx_to_label, device)"
   ]
  },
  {
   "cell_type": "code",
   "execution_count": 72,
   "id": "3b029fff",
   "metadata": {
    "colab": {
     "base_uri": "https://localhost:8080/"
    },
    "executionInfo": {
     "elapsed": 586,
     "status": "ok",
     "timestamp": 1734456896527,
     "user": {
      "displayName": "Pavel Efimov",
      "userId": "11310524505359177201"
     },
     "user_tz": -180
    },
    "id": "3b029fff",
    "outputId": "78e7a136-7179-4d20-9e76-35bf91358adf"
   },
   "outputs": [
    {
     "data": {
      "text/plain": [
       "('GetWeather', 0.9999145269393921)"
      ]
     },
     "execution_count": 72,
     "metadata": {},
     "output_type": "execute_result"
    }
   ],
   "source": [
    "text = 'How cold it will be tomorrow?'\n",
    "\n",
    "process_line(text, model, tokenizer, idx_to_label, device)"
   ]
  },
  {
   "cell_type": "code",
   "execution_count": null,
   "id": "2c-8dgVNjJtx",
   "metadata": {
    "id": "2c-8dgVNjJtx"
   },
   "outputs": [],
   "source": []
  },
  {
   "cell_type": "code",
   "execution_count": null,
   "id": "Jh2FF63jjJjR",
   "metadata": {
    "id": "Jh2FF63jjJjR"
   },
   "outputs": [],
   "source": []
  },
  {
   "cell_type": "markdown",
   "id": "cZuF9eWIjK7B",
   "metadata": {
    "id": "cZuF9eWIjK7B"
   },
   "source": [
    "Как считать метрики для выделения именованных сущностей:"
   ]
  },
  {
   "cell_type": "code",
   "execution_count": 74,
   "id": "cenLGB0dhE5T",
   "metadata": {
    "executionInfo": {
     "elapsed": 707,
     "status": "ok",
     "timestamp": 1734456956331,
     "user": {
      "displayName": "Pavel Efimov",
      "userId": "11310524505359177201"
     },
     "user_tz": -180
    },
    "id": "cenLGB0dhE5T"
   },
   "outputs": [],
   "source": [
    "from evaluate import load"
   ]
  },
  {
   "cell_type": "code",
   "execution_count": 75,
   "id": "G4TMm31Bi_D1",
   "metadata": {
    "colab": {
     "base_uri": "https://localhost:8080/",
     "height": 49,
     "referenced_widgets": [
      "021903a9921c49319ce680dd916fc91b",
      "4ce85df003ee4d238e674e9a0493031d",
      "5b096164eb9a4b87af317368409256a2",
      "a905153ec0e949cebbed1ba7259fcc32",
      "cc38318c470e402d81bb1495b29fbba9",
      "0155a8a2863441feabcf4735ebccf66f",
      "a9582a9aaa82462db9a12a9ca7520932",
      "706fa136423244fb97a7d9e1f078fcf2",
      "a742bf9e41da426c9e0237d9a23504e7",
      "c4ecdcb862934a8aa3eae8f6d4280a54",
      "6e741f74cba94512b1296eea5d00599c"
     ]
    },
    "executionInfo": {
     "elapsed": 2020,
     "status": "ok",
     "timestamp": 1734456966003,
     "user": {
      "displayName": "Pavel Efimov",
      "userId": "11310524505359177201"
     },
     "user_tz": -180
    },
    "id": "G4TMm31Bi_D1",
    "outputId": "a7c2c18f-5410-48ec-8491-dafbe876b552"
   },
   "outputs": [
    {
     "data": {
      "application/vnd.jupyter.widget-view+json": {
       "model_id": "021903a9921c49319ce680dd916fc91b",
       "version_major": 2,
       "version_minor": 0
      },
      "text/plain": [
       "Downloading builder script:   0%|          | 0.00/6.34k [00:00<?, ?B/s]"
      ]
     },
     "metadata": {},
     "output_type": "display_data"
    }
   ],
   "source": [
    "metric = load(\"seqeval\")"
   ]
  },
  {
   "cell_type": "code",
   "execution_count": 76,
   "id": "zlgVT8LhjZw3",
   "metadata": {
    "executionInfo": {
     "elapsed": 6,
     "status": "ok",
     "timestamp": 1734456966004,
     "user": {
      "displayName": "Pavel Efimov",
      "userId": "11310524505359177201"
     },
     "user_tz": -180
    },
    "id": "zlgVT8LhjZw3"
   },
   "outputs": [],
   "source": [
    "predictions = [['O', 'O', 'B-MISC', 'I-MISC', 'I-MISC', 'I-MISC', 'O'],\n",
    "               ['B-PER', 'I-PER', 'O']]\n",
    "true_values = [['O', 'O', 'O', 'B-MISC', 'I-MISC', 'I-MISC', 'O'],\n",
    "               ['B-PER', 'I-PER', 'O']]"
   ]
  },
  {
   "cell_type": "code",
   "execution_count": 77,
   "id": "nBXq6bVSjDPV",
   "metadata": {
    "executionInfo": {
     "elapsed": 6,
     "status": "ok",
     "timestamp": 1734456966004,
     "user": {
      "displayName": "Pavel Efimov",
      "userId": "11310524505359177201"
     },
     "user_tz": -180
    },
    "id": "nBXq6bVSjDPV"
   },
   "outputs": [],
   "source": [
    "results = metric.compute(predictions=predictions, references=true_values)"
   ]
  },
  {
   "cell_type": "code",
   "execution_count": 78,
   "id": "2nSjOg9qjUFU",
   "metadata": {
    "colab": {
     "base_uri": "https://localhost:8080/"
    },
    "executionInfo": {
     "elapsed": 5,
     "status": "ok",
     "timestamp": 1734456966004,
     "user": {
      "displayName": "Pavel Efimov",
      "userId": "11310524505359177201"
     },
     "user_tz": -180
    },
    "id": "2nSjOg9qjUFU",
    "outputId": "bfb43c17-11a4-43b6-e9f1-da895928fca7"
   },
   "outputs": [
    {
     "data": {
      "text/plain": [
       "{'MISC': {'precision': 0.0, 'recall': 0.0, 'f1': 0.0, 'number': 1},\n",
       " 'PER': {'precision': 1.0, 'recall': 1.0, 'f1': 1.0, 'number': 1},\n",
       " 'overall_precision': 0.5,\n",
       " 'overall_recall': 0.5,\n",
       " 'overall_f1': 0.5,\n",
       " 'overall_accuracy': 0.8}"
      ]
     },
     "execution_count": 78,
     "metadata": {},
     "output_type": "execute_result"
    }
   ],
   "source": [
    "results"
   ]
  },
  {
   "cell_type": "code",
   "execution_count": null,
   "id": "nBRP0l5tju7T",
   "metadata": {
    "id": "nBRP0l5tju7T"
   },
   "outputs": [],
   "source": []
  }
 ],
 "metadata": {
  "accelerator": "GPU",
  "colab": {
   "gpuType": "T4",
   "provenance": []
  },
  "kernelspec": {
   "display_name": "Python 3 (ipykernel)",
   "language": "python",
   "name": "python3"
  },
  "language_info": {
   "codemirror_mode": {
    "name": "ipython",
    "version": 3
   },
   "file_extension": ".py",
   "mimetype": "text/x-python",
   "name": "python",
   "nbconvert_exporter": "python",
   "pygments_lexer": "ipython3",
   "version": "3.11.3"
  },
  "widgets": {
   "application/vnd.jupyter.widget-state+json": {
    "0155a8a2863441feabcf4735ebccf66f": {
     "model_module": "@jupyter-widgets/base",
     "model_module_version": "1.2.0",
     "model_name": "LayoutModel",
     "state": {
      "_model_module": "@jupyter-widgets/base",
      "_model_module_version": "1.2.0",
      "_model_name": "LayoutModel",
      "_view_count": null,
      "_view_module": "@jupyter-widgets/base",
      "_view_module_version": "1.2.0",
      "_view_name": "LayoutView",
      "align_content": null,
      "align_items": null,
      "align_self": null,
      "border": null,
      "bottom": null,
      "display": null,
      "flex": null,
      "flex_flow": null,
      "grid_area": null,
      "grid_auto_columns": null,
      "grid_auto_flow": null,
      "grid_auto_rows": null,
      "grid_column": null,
      "grid_gap": null,
      "grid_row": null,
      "grid_template_areas": null,
      "grid_template_columns": null,
      "grid_template_rows": null,
      "height": null,
      "justify_content": null,
      "justify_items": null,
      "left": null,
      "margin": null,
      "max_height": null,
      "max_width": null,
      "min_height": null,
      "min_width": null,
      "object_fit": null,
      "object_position": null,
      "order": null,
      "overflow": null,
      "overflow_x": null,
      "overflow_y": null,
      "padding": null,
      "right": null,
      "top": null,
      "visibility": null,
      "width": null
     }
    },
    "021903a9921c49319ce680dd916fc91b": {
     "model_module": "@jupyter-widgets/controls",
     "model_module_version": "1.5.0",
     "model_name": "HBoxModel",
     "state": {
      "_dom_classes": [],
      "_model_module": "@jupyter-widgets/controls",
      "_model_module_version": "1.5.0",
      "_model_name": "HBoxModel",
      "_view_count": null,
      "_view_module": "@jupyter-widgets/controls",
      "_view_module_version": "1.5.0",
      "_view_name": "HBoxView",
      "box_style": "",
      "children": [
       "IPY_MODEL_4ce85df003ee4d238e674e9a0493031d",
       "IPY_MODEL_5b096164eb9a4b87af317368409256a2",
       "IPY_MODEL_a905153ec0e949cebbed1ba7259fcc32"
      ],
      "layout": "IPY_MODEL_cc38318c470e402d81bb1495b29fbba9"
     }
    },
    "049fd247970e47a1a92f36bfd9dee541": {
     "model_module": "@jupyter-widgets/controls",
     "model_module_version": "1.5.0",
     "model_name": "HTMLModel",
     "state": {
      "_dom_classes": [],
      "_model_module": "@jupyter-widgets/controls",
      "_model_module_version": "1.5.0",
      "_model_name": "HTMLModel",
      "_view_count": null,
      "_view_module": "@jupyter-widgets/controls",
      "_view_module_version": "1.5.0",
      "_view_name": "HTMLView",
      "description": "",
      "description_tooltip": null,
      "layout": "IPY_MODEL_8e9a8c7ce30a49fda7d7b905d2a46b43",
      "placeholder": "​",
      "style": "IPY_MODEL_6e45d40048a247e99852380f279cbb1b",
      "value": "vocab.txt: 100%"
     }
    },
    "07710af7d8d842dbba54b148e6e0dc78": {
     "model_module": "@jupyter-widgets/controls",
     "model_module_version": "1.5.0",
     "model_name": "ProgressStyleModel",
     "state": {
      "_model_module": "@jupyter-widgets/controls",
      "_model_module_version": "1.5.0",
      "_model_name": "ProgressStyleModel",
      "_view_count": null,
      "_view_module": "@jupyter-widgets/base",
      "_view_module_version": "1.2.0",
      "_view_name": "StyleView",
      "bar_color": null,
      "description_width": ""
     }
    },
    "0a4ff727a0dd4170945989d64901f25c": {
     "model_module": "@jupyter-widgets/base",
     "model_module_version": "1.2.0",
     "model_name": "LayoutModel",
     "state": {
      "_model_module": "@jupyter-widgets/base",
      "_model_module_version": "1.2.0",
      "_model_name": "LayoutModel",
      "_view_count": null,
      "_view_module": "@jupyter-widgets/base",
      "_view_module_version": "1.2.0",
      "_view_name": "LayoutView",
      "align_content": null,
      "align_items": null,
      "align_self": null,
      "border": null,
      "bottom": null,
      "display": null,
      "flex": null,
      "flex_flow": null,
      "grid_area": null,
      "grid_auto_columns": null,
      "grid_auto_flow": null,
      "grid_auto_rows": null,
      "grid_column": null,
      "grid_gap": null,
      "grid_row": null,
      "grid_template_areas": null,
      "grid_template_columns": null,
      "grid_template_rows": null,
      "height": null,
      "justify_content": null,
      "justify_items": null,
      "left": null,
      "margin": null,
      "max_height": null,
      "max_width": null,
      "min_height": null,
      "min_width": null,
      "object_fit": null,
      "object_position": null,
      "order": null,
      "overflow": null,
      "overflow_x": null,
      "overflow_y": null,
      "padding": null,
      "right": null,
      "top": null,
      "visibility": null,
      "width": null
     }
    },
    "0b307466e5004b8b9cf1b52b719d5caf": {
     "model_module": "@jupyter-widgets/base",
     "model_module_version": "1.2.0",
     "model_name": "LayoutModel",
     "state": {
      "_model_module": "@jupyter-widgets/base",
      "_model_module_version": "1.2.0",
      "_model_name": "LayoutModel",
      "_view_count": null,
      "_view_module": "@jupyter-widgets/base",
      "_view_module_version": "1.2.0",
      "_view_name": "LayoutView",
      "align_content": null,
      "align_items": null,
      "align_self": null,
      "border": null,
      "bottom": null,
      "display": null,
      "flex": null,
      "flex_flow": null,
      "grid_area": null,
      "grid_auto_columns": null,
      "grid_auto_flow": null,
      "grid_auto_rows": null,
      "grid_column": null,
      "grid_gap": null,
      "grid_row": null,
      "grid_template_areas": null,
      "grid_template_columns": null,
      "grid_template_rows": null,
      "height": null,
      "justify_content": null,
      "justify_items": null,
      "left": null,
      "margin": null,
      "max_height": null,
      "max_width": null,
      "min_height": null,
      "min_width": null,
      "object_fit": null,
      "object_position": null,
      "order": null,
      "overflow": null,
      "overflow_x": null,
      "overflow_y": null,
      "padding": null,
      "right": null,
      "top": null,
      "visibility": null,
      "width": null
     }
    },
    "0c525cf31c2e4b86832492538e51e74e": {
     "model_module": "@jupyter-widgets/controls",
     "model_module_version": "1.5.0",
     "model_name": "FloatProgressModel",
     "state": {
      "_dom_classes": [],
      "_model_module": "@jupyter-widgets/controls",
      "_model_module_version": "1.5.0",
      "_model_name": "FloatProgressModel",
      "_view_count": null,
      "_view_module": "@jupyter-widgets/controls",
      "_view_module_version": "1.5.0",
      "_view_name": "ProgressView",
      "bar_style": "success",
      "description": "",
      "description_tooltip": null,
      "layout": "IPY_MODEL_6fa28c877b144ecd8487b57e78883403",
      "max": 700,
      "min": 0,
      "orientation": "horizontal",
      "style": "IPY_MODEL_6cdb40a3ab7843bb87255efa2e0e4e61",
      "value": 700
     }
    },
    "0c564a81a76d4d2199e7a8c3f5062c4f": {
     "model_module": "@jupyter-widgets/base",
     "model_module_version": "1.2.0",
     "model_name": "LayoutModel",
     "state": {
      "_model_module": "@jupyter-widgets/base",
      "_model_module_version": "1.2.0",
      "_model_name": "LayoutModel",
      "_view_count": null,
      "_view_module": "@jupyter-widgets/base",
      "_view_module_version": "1.2.0",
      "_view_name": "LayoutView",
      "align_content": null,
      "align_items": null,
      "align_self": null,
      "border": null,
      "bottom": null,
      "display": null,
      "flex": null,
      "flex_flow": null,
      "grid_area": null,
      "grid_auto_columns": null,
      "grid_auto_flow": null,
      "grid_auto_rows": null,
      "grid_column": null,
      "grid_gap": null,
      "grid_row": null,
      "grid_template_areas": null,
      "grid_template_columns": null,
      "grid_template_rows": null,
      "height": null,
      "justify_content": null,
      "justify_items": null,
      "left": null,
      "margin": null,
      "max_height": null,
      "max_width": null,
      "min_height": null,
      "min_width": null,
      "object_fit": null,
      "object_position": null,
      "order": null,
      "overflow": null,
      "overflow_x": null,
      "overflow_y": null,
      "padding": null,
      "right": null,
      "top": null,
      "visibility": null,
      "width": null
     }
    },
    "0c6321c246cd4f37b91ec8bc0cae3b2c": {
     "model_module": "@jupyter-widgets/controls",
     "model_module_version": "1.5.0",
     "model_name": "HBoxModel",
     "state": {
      "_dom_classes": [],
      "_model_module": "@jupyter-widgets/controls",
      "_model_module_version": "1.5.0",
      "_model_name": "HBoxModel",
      "_view_count": null,
      "_view_module": "@jupyter-widgets/controls",
      "_view_module_version": "1.5.0",
      "_view_name": "HBoxView",
      "box_style": "",
      "children": [
       "IPY_MODEL_400752083ae84a6a839926fe53919e12",
       "IPY_MODEL_ee7034ffb26444158b44d8928d451b61",
       "IPY_MODEL_56336e6c20a94a21a5e38d9d445f8133"
      ],
      "layout": "IPY_MODEL_35821aa0fdd240a1b0d2f0736a76ceb5"
     }
    },
    "0effe54eaa4f46e8974ede7d9769c446": {
     "model_module": "@jupyter-widgets/base",
     "model_module_version": "1.2.0",
     "model_name": "LayoutModel",
     "state": {
      "_model_module": "@jupyter-widgets/base",
      "_model_module_version": "1.2.0",
      "_model_name": "LayoutModel",
      "_view_count": null,
      "_view_module": "@jupyter-widgets/base",
      "_view_module_version": "1.2.0",
      "_view_name": "LayoutView",
      "align_content": null,
      "align_items": null,
      "align_self": null,
      "border": null,
      "bottom": null,
      "display": null,
      "flex": null,
      "flex_flow": null,
      "grid_area": null,
      "grid_auto_columns": null,
      "grid_auto_flow": null,
      "grid_auto_rows": null,
      "grid_column": null,
      "grid_gap": null,
      "grid_row": null,
      "grid_template_areas": null,
      "grid_template_columns": null,
      "grid_template_rows": null,
      "height": null,
      "justify_content": null,
      "justify_items": null,
      "left": null,
      "margin": null,
      "max_height": null,
      "max_width": null,
      "min_height": null,
      "min_width": null,
      "object_fit": null,
      "object_position": null,
      "order": null,
      "overflow": null,
      "overflow_x": null,
      "overflow_y": null,
      "padding": null,
      "right": null,
      "top": null,
      "visibility": null,
      "width": null
     }
    },
    "145ae4aea5da444484b898bf7895bce2": {
     "model_module": "@jupyter-widgets/controls",
     "model_module_version": "1.5.0",
     "model_name": "FloatProgressModel",
     "state": {
      "_dom_classes": [],
      "_model_module": "@jupyter-widgets/controls",
      "_model_module_version": "1.5.0",
      "_model_name": "FloatProgressModel",
      "_view_count": null,
      "_view_module": "@jupyter-widgets/controls",
      "_view_module_version": "1.5.0",
      "_view_name": "ProgressView",
      "bar_style": "success",
      "description": "",
      "description_tooltip": null,
      "layout": "IPY_MODEL_5706fef1840a4accb616ed5537a3d856",
      "max": 700,
      "min": 0,
      "orientation": "horizontal",
      "style": "IPY_MODEL_ba0c55feb3b64398bdde035976413f44",
      "value": 700
     }
    },
    "16c6d4496692471a85aebaef79dd7c5b": {
     "model_module": "@jupyter-widgets/controls",
     "model_module_version": "1.5.0",
     "model_name": "ProgressStyleModel",
     "state": {
      "_model_module": "@jupyter-widgets/controls",
      "_model_module_version": "1.5.0",
      "_model_name": "ProgressStyleModel",
      "_view_count": null,
      "_view_module": "@jupyter-widgets/base",
      "_view_module_version": "1.2.0",
      "_view_name": "StyleView",
      "bar_color": null,
      "description_width": ""
     }
    },
    "16d6c8bdf16f4e79a6d78bc6c9af39cd": {
     "model_module": "@jupyter-widgets/controls",
     "model_module_version": "1.5.0",
     "model_name": "ProgressStyleModel",
     "state": {
      "_model_module": "@jupyter-widgets/controls",
      "_model_module_version": "1.5.0",
      "_model_name": "ProgressStyleModel",
      "_view_count": null,
      "_view_module": "@jupyter-widgets/base",
      "_view_module_version": "1.2.0",
      "_view_name": "StyleView",
      "bar_color": null,
      "description_width": ""
     }
    },
    "25fd0903f3024814a2694f62a9ad6e98": {
     "model_module": "@jupyter-widgets/controls",
     "model_module_version": "1.5.0",
     "model_name": "DescriptionStyleModel",
     "state": {
      "_model_module": "@jupyter-widgets/controls",
      "_model_module_version": "1.5.0",
      "_model_name": "DescriptionStyleModel",
      "_view_count": null,
      "_view_module": "@jupyter-widgets/base",
      "_view_module_version": "1.2.0",
      "_view_name": "StyleView",
      "description_width": ""
     }
    },
    "28cd0acb58a348f6b2a6df1584548246": {
     "model_module": "@jupyter-widgets/controls",
     "model_module_version": "1.5.0",
     "model_name": "DescriptionStyleModel",
     "state": {
      "_model_module": "@jupyter-widgets/controls",
      "_model_module_version": "1.5.0",
      "_model_name": "DescriptionStyleModel",
      "_view_count": null,
      "_view_module": "@jupyter-widgets/base",
      "_view_module_version": "1.2.0",
      "_view_name": "StyleView",
      "description_width": ""
     }
    },
    "29db432423fd4ce8847e538fb1bba325": {
     "model_module": "@jupyter-widgets/controls",
     "model_module_version": "1.5.0",
     "model_name": "DescriptionStyleModel",
     "state": {
      "_model_module": "@jupyter-widgets/controls",
      "_model_module_version": "1.5.0",
      "_model_name": "DescriptionStyleModel",
      "_view_count": null,
      "_view_module": "@jupyter-widgets/base",
      "_view_module_version": "1.2.0",
      "_view_name": "StyleView",
      "description_width": ""
     }
    },
    "2a7438aa7b4941f2909cec55972bd981": {
     "model_module": "@jupyter-widgets/base",
     "model_module_version": "1.2.0",
     "model_name": "LayoutModel",
     "state": {
      "_model_module": "@jupyter-widgets/base",
      "_model_module_version": "1.2.0",
      "_model_name": "LayoutModel",
      "_view_count": null,
      "_view_module": "@jupyter-widgets/base",
      "_view_module_version": "1.2.0",
      "_view_name": "LayoutView",
      "align_content": null,
      "align_items": null,
      "align_self": null,
      "border": null,
      "bottom": null,
      "display": null,
      "flex": null,
      "flex_flow": null,
      "grid_area": null,
      "grid_auto_columns": null,
      "grid_auto_flow": null,
      "grid_auto_rows": null,
      "grid_column": null,
      "grid_gap": null,
      "grid_row": null,
      "grid_template_areas": null,
      "grid_template_columns": null,
      "grid_template_rows": null,
      "height": null,
      "justify_content": null,
      "justify_items": null,
      "left": null,
      "margin": null,
      "max_height": null,
      "max_width": null,
      "min_height": null,
      "min_width": null,
      "object_fit": null,
      "object_position": null,
      "order": null,
      "overflow": null,
      "overflow_x": null,
      "overflow_y": null,
      "padding": null,
      "right": null,
      "top": null,
      "visibility": null,
      "width": null
     }
    },
    "35821aa0fdd240a1b0d2f0736a76ceb5": {
     "model_module": "@jupyter-widgets/base",
     "model_module_version": "1.2.0",
     "model_name": "LayoutModel",
     "state": {
      "_model_module": "@jupyter-widgets/base",
      "_model_module_version": "1.2.0",
      "_model_name": "LayoutModel",
      "_view_count": null,
      "_view_module": "@jupyter-widgets/base",
      "_view_module_version": "1.2.0",
      "_view_name": "LayoutView",
      "align_content": null,
      "align_items": null,
      "align_self": null,
      "border": null,
      "bottom": null,
      "display": null,
      "flex": null,
      "flex_flow": null,
      "grid_area": null,
      "grid_auto_columns": null,
      "grid_auto_flow": null,
      "grid_auto_rows": null,
      "grid_column": null,
      "grid_gap": null,
      "grid_row": null,
      "grid_template_areas": null,
      "grid_template_columns": null,
      "grid_template_rows": null,
      "height": null,
      "justify_content": null,
      "justify_items": null,
      "left": null,
      "margin": null,
      "max_height": null,
      "max_width": null,
      "min_height": null,
      "min_width": null,
      "object_fit": null,
      "object_position": null,
      "order": null,
      "overflow": null,
      "overflow_x": null,
      "overflow_y": null,
      "padding": null,
      "right": null,
      "top": null,
      "visibility": null,
      "width": null
     }
    },
    "3b92637986864c9c9d17ca3e34d8a58e": {
     "model_module": "@jupyter-widgets/controls",
     "model_module_version": "1.5.0",
     "model_name": "HBoxModel",
     "state": {
      "_dom_classes": [],
      "_model_module": "@jupyter-widgets/controls",
      "_model_module_version": "1.5.0",
      "_model_name": "HBoxModel",
      "_view_count": null,
      "_view_module": "@jupyter-widgets/controls",
      "_view_module_version": "1.5.0",
      "_view_name": "HBoxView",
      "box_style": "",
      "children": [
       "IPY_MODEL_c7ecf718368e4a37b3c58a5486721caf",
       "IPY_MODEL_44592eb7649843dba509264e62139fcf",
       "IPY_MODEL_fd92c232e9184c56a6ede96f71a4908a"
      ],
      "layout": "IPY_MODEL_cc73cd1350f249568210f01d2f72fc63"
     }
    },
    "400752083ae84a6a839926fe53919e12": {
     "model_module": "@jupyter-widgets/controls",
     "model_module_version": "1.5.0",
     "model_name": "HTMLModel",
     "state": {
      "_dom_classes": [],
      "_model_module": "@jupyter-widgets/controls",
      "_model_module_version": "1.5.0",
      "_model_name": "HTMLModel",
      "_view_count": null,
      "_view_module": "@jupyter-widgets/controls",
      "_view_module_version": "1.5.0",
      "_view_name": "HTMLView",
      "description": "",
      "description_tooltip": null,
      "layout": "IPY_MODEL_0effe54eaa4f46e8974ede7d9769c446",
      "placeholder": "​",
      "style": "IPY_MODEL_a0bd01d4dd16423f9ef3693931d73674",
      "value": "Map: 100%"
     }
    },
    "41b1a1a534cc450d88e1a5aa6f0083a8": {
     "model_module": "@jupyter-widgets/controls",
     "model_module_version": "1.5.0",
     "model_name": "HBoxModel",
     "state": {
      "_dom_classes": [],
      "_model_module": "@jupyter-widgets/controls",
      "_model_module_version": "1.5.0",
      "_model_name": "HBoxModel",
      "_view_count": null,
      "_view_module": "@jupyter-widgets/controls",
      "_view_module_version": "1.5.0",
      "_view_name": "HBoxView",
      "box_style": "",
      "children": [
       "IPY_MODEL_049fd247970e47a1a92f36bfd9dee541",
       "IPY_MODEL_d94dd3f732934f4fb931527bc4da1308",
       "IPY_MODEL_9c59c87e5540442fa27701d7b09fd67a"
      ],
      "layout": "IPY_MODEL_9735b401334848b0b494ed8b7c5bed09"
     }
    },
    "44592eb7649843dba509264e62139fcf": {
     "model_module": "@jupyter-widgets/controls",
     "model_module_version": "1.5.0",
     "model_name": "FloatProgressModel",
     "state": {
      "_dom_classes": [],
      "_model_module": "@jupyter-widgets/controls",
      "_model_module_version": "1.5.0",
      "_model_name": "FloatProgressModel",
      "_view_count": null,
      "_view_module": "@jupyter-widgets/controls",
      "_view_module_version": "1.5.0",
      "_view_name": "ProgressView",
      "bar_style": "success",
      "description": "",
      "description_tooltip": null,
      "layout": "IPY_MODEL_a8163df26c564d8dbcf4d2e641690495",
      "max": 285,
      "min": 0,
      "orientation": "horizontal",
      "style": "IPY_MODEL_16c6d4496692471a85aebaef79dd7c5b",
      "value": 285
     }
    },
    "4baccd5a4cac4bd2b2aa2b5e2b21da8f": {
     "model_module": "@jupyter-widgets/base",
     "model_module_version": "1.2.0",
     "model_name": "LayoutModel",
     "state": {
      "_model_module": "@jupyter-widgets/base",
      "_model_module_version": "1.2.0",
      "_model_name": "LayoutModel",
      "_view_count": null,
      "_view_module": "@jupyter-widgets/base",
      "_view_module_version": "1.2.0",
      "_view_name": "LayoutView",
      "align_content": null,
      "align_items": null,
      "align_self": null,
      "border": null,
      "bottom": null,
      "display": null,
      "flex": null,
      "flex_flow": null,
      "grid_area": null,
      "grid_auto_columns": null,
      "grid_auto_flow": null,
      "grid_auto_rows": null,
      "grid_column": null,
      "grid_gap": null,
      "grid_row": null,
      "grid_template_areas": null,
      "grid_template_columns": null,
      "grid_template_rows": null,
      "height": null,
      "justify_content": null,
      "justify_items": null,
      "left": null,
      "margin": null,
      "max_height": null,
      "max_width": null,
      "min_height": null,
      "min_width": null,
      "object_fit": null,
      "object_position": null,
      "order": null,
      "overflow": null,
      "overflow_x": null,
      "overflow_y": null,
      "padding": null,
      "right": null,
      "top": null,
      "visibility": null,
      "width": null
     }
    },
    "4ce85df003ee4d238e674e9a0493031d": {
     "model_module": "@jupyter-widgets/controls",
     "model_module_version": "1.5.0",
     "model_name": "HTMLModel",
     "state": {
      "_dom_classes": [],
      "_model_module": "@jupyter-widgets/controls",
      "_model_module_version": "1.5.0",
      "_model_name": "HTMLModel",
      "_view_count": null,
      "_view_module": "@jupyter-widgets/controls",
      "_view_module_version": "1.5.0",
      "_view_name": "HTMLView",
      "description": "",
      "description_tooltip": null,
      "layout": "IPY_MODEL_0155a8a2863441feabcf4735ebccf66f",
      "placeholder": "​",
      "style": "IPY_MODEL_a9582a9aaa82462db9a12a9ca7520932",
      "value": "Downloading builder script: 100%"
     }
    },
    "51b83b5d6a21444485fb6be4f3b7c0f3": {
     "model_module": "@jupyter-widgets/controls",
     "model_module_version": "1.5.0",
     "model_name": "HBoxModel",
     "state": {
      "_dom_classes": [],
      "_model_module": "@jupyter-widgets/controls",
      "_model_module_version": "1.5.0",
      "_model_name": "HBoxModel",
      "_view_count": null,
      "_view_module": "@jupyter-widgets/controls",
      "_view_module_version": "1.5.0",
      "_view_name": "HBoxView",
      "box_style": "",
      "children": [
       "IPY_MODEL_75afdb10e8214805b623c3df84037af1",
       "IPY_MODEL_145ae4aea5da444484b898bf7895bce2",
       "IPY_MODEL_91dae9b967a9437cb12de1048056bdab"
      ],
      "layout": "IPY_MODEL_579850109a9f47908adea4ba9c0b72c8"
     }
    },
    "51bfe409dafe40f08012a7b0155d1a71": {
     "model_module": "@jupyter-widgets/base",
     "model_module_version": "1.2.0",
     "model_name": "LayoutModel",
     "state": {
      "_model_module": "@jupyter-widgets/base",
      "_model_module_version": "1.2.0",
      "_model_name": "LayoutModel",
      "_view_count": null,
      "_view_module": "@jupyter-widgets/base",
      "_view_module_version": "1.2.0",
      "_view_name": "LayoutView",
      "align_content": null,
      "align_items": null,
      "align_self": null,
      "border": null,
      "bottom": null,
      "display": null,
      "flex": null,
      "flex_flow": null,
      "grid_area": null,
      "grid_auto_columns": null,
      "grid_auto_flow": null,
      "grid_auto_rows": null,
      "grid_column": null,
      "grid_gap": null,
      "grid_row": null,
      "grid_template_areas": null,
      "grid_template_columns": null,
      "grid_template_rows": null,
      "height": null,
      "justify_content": null,
      "justify_items": null,
      "left": null,
      "margin": null,
      "max_height": null,
      "max_width": null,
      "min_height": null,
      "min_width": null,
      "object_fit": null,
      "object_position": null,
      "order": null,
      "overflow": null,
      "overflow_x": null,
      "overflow_y": null,
      "padding": null,
      "right": null,
      "top": null,
      "visibility": null,
      "width": null
     }
    },
    "56336e6c20a94a21a5e38d9d445f8133": {
     "model_module": "@jupyter-widgets/controls",
     "model_module_version": "1.5.0",
     "model_name": "HTMLModel",
     "state": {
      "_dom_classes": [],
      "_model_module": "@jupyter-widgets/controls",
      "_model_module_version": "1.5.0",
      "_model_name": "HTMLModel",
      "_view_count": null,
      "_view_module": "@jupyter-widgets/controls",
      "_view_module_version": "1.5.0",
      "_view_name": "HTMLView",
      "description": "",
      "description_tooltip": null,
      "layout": "IPY_MODEL_4baccd5a4cac4bd2b2aa2b5e2b21da8f",
      "placeholder": "​",
      "style": "IPY_MODEL_740c9d7017b74488813a33e98e84622f",
      "value": " 13084/13084 [00:03&lt;00:00, 4359.25 examples/s]"
     }
    },
    "5706fef1840a4accb616ed5537a3d856": {
     "model_module": "@jupyter-widgets/base",
     "model_module_version": "1.2.0",
     "model_name": "LayoutModel",
     "state": {
      "_model_module": "@jupyter-widgets/base",
      "_model_module_version": "1.2.0",
      "_model_name": "LayoutModel",
      "_view_count": null,
      "_view_module": "@jupyter-widgets/base",
      "_view_module_version": "1.2.0",
      "_view_name": "LayoutView",
      "align_content": null,
      "align_items": null,
      "align_self": null,
      "border": null,
      "bottom": null,
      "display": null,
      "flex": null,
      "flex_flow": null,
      "grid_area": null,
      "grid_auto_columns": null,
      "grid_auto_flow": null,
      "grid_auto_rows": null,
      "grid_column": null,
      "grid_gap": null,
      "grid_row": null,
      "grid_template_areas": null,
      "grid_template_columns": null,
      "grid_template_rows": null,
      "height": null,
      "justify_content": null,
      "justify_items": null,
      "left": null,
      "margin": null,
      "max_height": null,
      "max_width": null,
      "min_height": null,
      "min_width": null,
      "object_fit": null,
      "object_position": null,
      "order": null,
      "overflow": null,
      "overflow_x": null,
      "overflow_y": null,
      "padding": null,
      "right": null,
      "top": null,
      "visibility": null,
      "width": null
     }
    },
    "579850109a9f47908adea4ba9c0b72c8": {
     "model_module": "@jupyter-widgets/base",
     "model_module_version": "1.2.0",
     "model_name": "LayoutModel",
     "state": {
      "_model_module": "@jupyter-widgets/base",
      "_model_module_version": "1.2.0",
      "_model_name": "LayoutModel",
      "_view_count": null,
      "_view_module": "@jupyter-widgets/base",
      "_view_module_version": "1.2.0",
      "_view_name": "LayoutView",
      "align_content": null,
      "align_items": null,
      "align_self": null,
      "border": null,
      "bottom": null,
      "display": null,
      "flex": null,
      "flex_flow": null,
      "grid_area": null,
      "grid_auto_columns": null,
      "grid_auto_flow": null,
      "grid_auto_rows": null,
      "grid_column": null,
      "grid_gap": null,
      "grid_row": null,
      "grid_template_areas": null,
      "grid_template_columns": null,
      "grid_template_rows": null,
      "height": null,
      "justify_content": null,
      "justify_items": null,
      "left": null,
      "margin": null,
      "max_height": null,
      "max_width": null,
      "min_height": null,
      "min_width": null,
      "object_fit": null,
      "object_position": null,
      "order": null,
      "overflow": null,
      "overflow_x": null,
      "overflow_y": null,
      "padding": null,
      "right": null,
      "top": null,
      "visibility": null,
      "width": null
     }
    },
    "5b096164eb9a4b87af317368409256a2": {
     "model_module": "@jupyter-widgets/controls",
     "model_module_version": "1.5.0",
     "model_name": "FloatProgressModel",
     "state": {
      "_dom_classes": [],
      "_model_module": "@jupyter-widgets/controls",
      "_model_module_version": "1.5.0",
      "_model_name": "FloatProgressModel",
      "_view_count": null,
      "_view_module": "@jupyter-widgets/controls",
      "_view_module_version": "1.5.0",
      "_view_name": "ProgressView",
      "bar_style": "success",
      "description": "",
      "description_tooltip": null,
      "layout": "IPY_MODEL_706fa136423244fb97a7d9e1f078fcf2",
      "max": 6338,
      "min": 0,
      "orientation": "horizontal",
      "style": "IPY_MODEL_a742bf9e41da426c9e0237d9a23504e7",
      "value": 6338
     }
    },
    "5cae9017f93b4dda88cf3370e97ddfe6": {
     "model_module": "@jupyter-widgets/base",
     "model_module_version": "1.2.0",
     "model_name": "LayoutModel",
     "state": {
      "_model_module": "@jupyter-widgets/base",
      "_model_module_version": "1.2.0",
      "_model_name": "LayoutModel",
      "_view_count": null,
      "_view_module": "@jupyter-widgets/base",
      "_view_module_version": "1.2.0",
      "_view_name": "LayoutView",
      "align_content": null,
      "align_items": null,
      "align_self": null,
      "border": null,
      "bottom": null,
      "display": null,
      "flex": null,
      "flex_flow": null,
      "grid_area": null,
      "grid_auto_columns": null,
      "grid_auto_flow": null,
      "grid_auto_rows": null,
      "grid_column": null,
      "grid_gap": null,
      "grid_row": null,
      "grid_template_areas": null,
      "grid_template_columns": null,
      "grid_template_rows": null,
      "height": null,
      "justify_content": null,
      "justify_items": null,
      "left": null,
      "margin": null,
      "max_height": null,
      "max_width": null,
      "min_height": null,
      "min_width": null,
      "object_fit": null,
      "object_position": null,
      "order": null,
      "overflow": null,
      "overflow_x": null,
      "overflow_y": null,
      "padding": null,
      "right": null,
      "top": null,
      "visibility": null,
      "width": null
     }
    },
    "68f117a583c942d29e3d08e89e643339": {
     "model_module": "@jupyter-widgets/base",
     "model_module_version": "1.2.0",
     "model_name": "LayoutModel",
     "state": {
      "_model_module": "@jupyter-widgets/base",
      "_model_module_version": "1.2.0",
      "_model_name": "LayoutModel",
      "_view_count": null,
      "_view_module": "@jupyter-widgets/base",
      "_view_module_version": "1.2.0",
      "_view_name": "LayoutView",
      "align_content": null,
      "align_items": null,
      "align_self": null,
      "border": null,
      "bottom": null,
      "display": null,
      "flex": null,
      "flex_flow": null,
      "grid_area": null,
      "grid_auto_columns": null,
      "grid_auto_flow": null,
      "grid_auto_rows": null,
      "grid_column": null,
      "grid_gap": null,
      "grid_row": null,
      "grid_template_areas": null,
      "grid_template_columns": null,
      "grid_template_rows": null,
      "height": null,
      "justify_content": null,
      "justify_items": null,
      "left": null,
      "margin": null,
      "max_height": null,
      "max_width": null,
      "min_height": null,
      "min_width": null,
      "object_fit": null,
      "object_position": null,
      "order": null,
      "overflow": null,
      "overflow_x": null,
      "overflow_y": null,
      "padding": null,
      "right": null,
      "top": null,
      "visibility": null,
      "width": null
     }
    },
    "6a2abfb1c3ae4561978e08f6869eb50e": {
     "model_module": "@jupyter-widgets/controls",
     "model_module_version": "1.5.0",
     "model_name": "HBoxModel",
     "state": {
      "_dom_classes": [],
      "_model_module": "@jupyter-widgets/controls",
      "_model_module_version": "1.5.0",
      "_model_name": "HBoxModel",
      "_view_count": null,
      "_view_module": "@jupyter-widgets/controls",
      "_view_module_version": "1.5.0",
      "_view_name": "HBoxView",
      "box_style": "",
      "children": [
       "IPY_MODEL_7647dd46771e424784c02b7e4fe9acf6",
       "IPY_MODEL_0c525cf31c2e4b86832492538e51e74e",
       "IPY_MODEL_7a104d88c7b4480b9d6b9234b7f36b46"
      ],
      "layout": "IPY_MODEL_0a4ff727a0dd4170945989d64901f25c"
     }
    },
    "6bd8fac756604bcab82db7c8be06b331": {
     "model_module": "@jupyter-widgets/controls",
     "model_module_version": "1.5.0",
     "model_name": "DescriptionStyleModel",
     "state": {
      "_model_module": "@jupyter-widgets/controls",
      "_model_module_version": "1.5.0",
      "_model_name": "DescriptionStyleModel",
      "_view_count": null,
      "_view_module": "@jupyter-widgets/base",
      "_view_module_version": "1.2.0",
      "_view_name": "StyleView",
      "description_width": ""
     }
    },
    "6cdb40a3ab7843bb87255efa2e0e4e61": {
     "model_module": "@jupyter-widgets/controls",
     "model_module_version": "1.5.0",
     "model_name": "ProgressStyleModel",
     "state": {
      "_model_module": "@jupyter-widgets/controls",
      "_model_module_version": "1.5.0",
      "_model_name": "ProgressStyleModel",
      "_view_count": null,
      "_view_module": "@jupyter-widgets/base",
      "_view_module_version": "1.2.0",
      "_view_name": "StyleView",
      "bar_color": null,
      "description_width": ""
     }
    },
    "6dde32b36a904b35ac6cb50990fbf32f": {
     "model_module": "@jupyter-widgets/base",
     "model_module_version": "1.2.0",
     "model_name": "LayoutModel",
     "state": {
      "_model_module": "@jupyter-widgets/base",
      "_model_module_version": "1.2.0",
      "_model_name": "LayoutModel",
      "_view_count": null,
      "_view_module": "@jupyter-widgets/base",
      "_view_module_version": "1.2.0",
      "_view_name": "LayoutView",
      "align_content": null,
      "align_items": null,
      "align_self": null,
      "border": null,
      "bottom": null,
      "display": null,
      "flex": null,
      "flex_flow": null,
      "grid_area": null,
      "grid_auto_columns": null,
      "grid_auto_flow": null,
      "grid_auto_rows": null,
      "grid_column": null,
      "grid_gap": null,
      "grid_row": null,
      "grid_template_areas": null,
      "grid_template_columns": null,
      "grid_template_rows": null,
      "height": null,
      "justify_content": null,
      "justify_items": null,
      "left": null,
      "margin": null,
      "max_height": null,
      "max_width": null,
      "min_height": null,
      "min_width": null,
      "object_fit": null,
      "object_position": null,
      "order": null,
      "overflow": null,
      "overflow_x": null,
      "overflow_y": null,
      "padding": null,
      "right": null,
      "top": null,
      "visibility": null,
      "width": null
     }
    },
    "6e45d40048a247e99852380f279cbb1b": {
     "model_module": "@jupyter-widgets/controls",
     "model_module_version": "1.5.0",
     "model_name": "DescriptionStyleModel",
     "state": {
      "_model_module": "@jupyter-widgets/controls",
      "_model_module_version": "1.5.0",
      "_model_name": "DescriptionStyleModel",
      "_view_count": null,
      "_view_module": "@jupyter-widgets/base",
      "_view_module_version": "1.2.0",
      "_view_name": "StyleView",
      "description_width": ""
     }
    },
    "6e741f74cba94512b1296eea5d00599c": {
     "model_module": "@jupyter-widgets/controls",
     "model_module_version": "1.5.0",
     "model_name": "DescriptionStyleModel",
     "state": {
      "_model_module": "@jupyter-widgets/controls",
      "_model_module_version": "1.5.0",
      "_model_name": "DescriptionStyleModel",
      "_view_count": null,
      "_view_module": "@jupyter-widgets/base",
      "_view_module_version": "1.2.0",
      "_view_name": "StyleView",
      "description_width": ""
     }
    },
    "6fa28c877b144ecd8487b57e78883403": {
     "model_module": "@jupyter-widgets/base",
     "model_module_version": "1.2.0",
     "model_name": "LayoutModel",
     "state": {
      "_model_module": "@jupyter-widgets/base",
      "_model_module_version": "1.2.0",
      "_model_name": "LayoutModel",
      "_view_count": null,
      "_view_module": "@jupyter-widgets/base",
      "_view_module_version": "1.2.0",
      "_view_name": "LayoutView",
      "align_content": null,
      "align_items": null,
      "align_self": null,
      "border": null,
      "bottom": null,
      "display": null,
      "flex": null,
      "flex_flow": null,
      "grid_area": null,
      "grid_auto_columns": null,
      "grid_auto_flow": null,
      "grid_auto_rows": null,
      "grid_column": null,
      "grid_gap": null,
      "grid_row": null,
      "grid_template_areas": null,
      "grid_template_columns": null,
      "grid_template_rows": null,
      "height": null,
      "justify_content": null,
      "justify_items": null,
      "left": null,
      "margin": null,
      "max_height": null,
      "max_width": null,
      "min_height": null,
      "min_width": null,
      "object_fit": null,
      "object_position": null,
      "order": null,
      "overflow": null,
      "overflow_x": null,
      "overflow_y": null,
      "padding": null,
      "right": null,
      "top": null,
      "visibility": null,
      "width": null
     }
    },
    "706fa136423244fb97a7d9e1f078fcf2": {
     "model_module": "@jupyter-widgets/base",
     "model_module_version": "1.2.0",
     "model_name": "LayoutModel",
     "state": {
      "_model_module": "@jupyter-widgets/base",
      "_model_module_version": "1.2.0",
      "_model_name": "LayoutModel",
      "_view_count": null,
      "_view_module": "@jupyter-widgets/base",
      "_view_module_version": "1.2.0",
      "_view_name": "LayoutView",
      "align_content": null,
      "align_items": null,
      "align_self": null,
      "border": null,
      "bottom": null,
      "display": null,
      "flex": null,
      "flex_flow": null,
      "grid_area": null,
      "grid_auto_columns": null,
      "grid_auto_flow": null,
      "grid_auto_rows": null,
      "grid_column": null,
      "grid_gap": null,
      "grid_row": null,
      "grid_template_areas": null,
      "grid_template_columns": null,
      "grid_template_rows": null,
      "height": null,
      "justify_content": null,
      "justify_items": null,
      "left": null,
      "margin": null,
      "max_height": null,
      "max_width": null,
      "min_height": null,
      "min_width": null,
      "object_fit": null,
      "object_position": null,
      "order": null,
      "overflow": null,
      "overflow_x": null,
      "overflow_y": null,
      "padding": null,
      "right": null,
      "top": null,
      "visibility": null,
      "width": null
     }
    },
    "740c9d7017b74488813a33e98e84622f": {
     "model_module": "@jupyter-widgets/controls",
     "model_module_version": "1.5.0",
     "model_name": "DescriptionStyleModel",
     "state": {
      "_model_module": "@jupyter-widgets/controls",
      "_model_module_version": "1.5.0",
      "_model_name": "DescriptionStyleModel",
      "_view_count": null,
      "_view_module": "@jupyter-widgets/base",
      "_view_module_version": "1.2.0",
      "_view_name": "StyleView",
      "description_width": ""
     }
    },
    "75afdb10e8214805b623c3df84037af1": {
     "model_module": "@jupyter-widgets/controls",
     "model_module_version": "1.5.0",
     "model_name": "HTMLModel",
     "state": {
      "_dom_classes": [],
      "_model_module": "@jupyter-widgets/controls",
      "_model_module_version": "1.5.0",
      "_model_name": "HTMLModel",
      "_view_count": null,
      "_view_module": "@jupyter-widgets/controls",
      "_view_module_version": "1.5.0",
      "_view_name": "HTMLView",
      "description": "",
      "description_tooltip": null,
      "layout": "IPY_MODEL_80d08be73f554bccbc53effc644f3463",
      "placeholder": "​",
      "style": "IPY_MODEL_25fd0903f3024814a2694f62a9ad6e98",
      "value": "Map: 100%"
     }
    },
    "7647dd46771e424784c02b7e4fe9acf6": {
     "model_module": "@jupyter-widgets/controls",
     "model_module_version": "1.5.0",
     "model_name": "HTMLModel",
     "state": {
      "_dom_classes": [],
      "_model_module": "@jupyter-widgets/controls",
      "_model_module_version": "1.5.0",
      "_model_name": "HTMLModel",
      "_view_count": null,
      "_view_module": "@jupyter-widgets/controls",
      "_view_module_version": "1.5.0",
      "_view_name": "HTMLView",
      "description": "",
      "description_tooltip": null,
      "layout": "IPY_MODEL_bd5aeb2686df45d3ad427fbc00f3702b",
      "placeholder": "​",
      "style": "IPY_MODEL_29db432423fd4ce8847e538fb1bba325",
      "value": "Map: 100%"
     }
    },
    "76eb7bc09bdb4a27b7e3b20445ddfb72": {
     "model_module": "@jupyter-widgets/controls",
     "model_module_version": "1.5.0",
     "model_name": "DescriptionStyleModel",
     "state": {
      "_model_module": "@jupyter-widgets/controls",
      "_model_module_version": "1.5.0",
      "_model_name": "DescriptionStyleModel",
      "_view_count": null,
      "_view_module": "@jupyter-widgets/base",
      "_view_module_version": "1.2.0",
      "_view_name": "StyleView",
      "description_width": ""
     }
    },
    "789ad75cb9994e118a9044f7cea6d4ac": {
     "model_module": "@jupyter-widgets/controls",
     "model_module_version": "1.5.0",
     "model_name": "HTMLModel",
     "state": {
      "_dom_classes": [],
      "_model_module": "@jupyter-widgets/controls",
      "_model_module_version": "1.5.0",
      "_model_name": "HTMLModel",
      "_view_count": null,
      "_view_module": "@jupyter-widgets/controls",
      "_view_module_version": "1.5.0",
      "_view_name": "HTMLView",
      "description": "",
      "description_tooltip": null,
      "layout": "IPY_MODEL_5cae9017f93b4dda88cf3370e97ddfe6",
      "placeholder": "​",
      "style": "IPY_MODEL_6bd8fac756604bcab82db7c8be06b331",
      "value": " 17.8M/17.8M [00:00&lt;00:00, 97.5MB/s]"
     }
    },
    "7a104d88c7b4480b9d6b9234b7f36b46": {
     "model_module": "@jupyter-widgets/controls",
     "model_module_version": "1.5.0",
     "model_name": "HTMLModel",
     "state": {
      "_dom_classes": [],
      "_model_module": "@jupyter-widgets/controls",
      "_model_module_version": "1.5.0",
      "_model_name": "HTMLModel",
      "_view_count": null,
      "_view_module": "@jupyter-widgets/controls",
      "_view_module_version": "1.5.0",
      "_view_name": "HTMLView",
      "description": "",
      "description_tooltip": null,
      "layout": "IPY_MODEL_6dde32b36a904b35ac6cb50990fbf32f",
      "placeholder": "​",
      "style": "IPY_MODEL_d44110389b604028b57fb7947539ef16",
      "value": " 700/700 [00:00&lt;00:00, 3602.91 examples/s]"
     }
    },
    "7b77866202154c3c8c3d39112ba7315d": {
     "model_module": "@jupyter-widgets/controls",
     "model_module_version": "1.5.0",
     "model_name": "FloatProgressModel",
     "state": {
      "_dom_classes": [],
      "_model_module": "@jupyter-widgets/controls",
      "_model_module_version": "1.5.0",
      "_model_name": "FloatProgressModel",
      "_view_count": null,
      "_view_module": "@jupyter-widgets/controls",
      "_view_module_version": "1.5.0",
      "_view_name": "ProgressView",
      "bar_style": "success",
      "description": "",
      "description_tooltip": null,
      "layout": "IPY_MODEL_861c6ad9d41746588c385ade00451802",
      "max": 17756393,
      "min": 0,
      "orientation": "horizontal",
      "style": "IPY_MODEL_07710af7d8d842dbba54b148e6e0dc78",
      "value": 17756393
     }
    },
    "80d08be73f554bccbc53effc644f3463": {
     "model_module": "@jupyter-widgets/base",
     "model_module_version": "1.2.0",
     "model_name": "LayoutModel",
     "state": {
      "_model_module": "@jupyter-widgets/base",
      "_model_module_version": "1.2.0",
      "_model_name": "LayoutModel",
      "_view_count": null,
      "_view_module": "@jupyter-widgets/base",
      "_view_module_version": "1.2.0",
      "_view_name": "LayoutView",
      "align_content": null,
      "align_items": null,
      "align_self": null,
      "border": null,
      "bottom": null,
      "display": null,
      "flex": null,
      "flex_flow": null,
      "grid_area": null,
      "grid_auto_columns": null,
      "grid_auto_flow": null,
      "grid_auto_rows": null,
      "grid_column": null,
      "grid_gap": null,
      "grid_row": null,
      "grid_template_areas": null,
      "grid_template_columns": null,
      "grid_template_rows": null,
      "height": null,
      "justify_content": null,
      "justify_items": null,
      "left": null,
      "margin": null,
      "max_height": null,
      "max_width": null,
      "min_height": null,
      "min_width": null,
      "object_fit": null,
      "object_position": null,
      "order": null,
      "overflow": null,
      "overflow_x": null,
      "overflow_y": null,
      "padding": null,
      "right": null,
      "top": null,
      "visibility": null,
      "width": null
     }
    },
    "861c6ad9d41746588c385ade00451802": {
     "model_module": "@jupyter-widgets/base",
     "model_module_version": "1.2.0",
     "model_name": "LayoutModel",
     "state": {
      "_model_module": "@jupyter-widgets/base",
      "_model_module_version": "1.2.0",
      "_model_name": "LayoutModel",
      "_view_count": null,
      "_view_module": "@jupyter-widgets/base",
      "_view_module_version": "1.2.0",
      "_view_name": "LayoutView",
      "align_content": null,
      "align_items": null,
      "align_self": null,
      "border": null,
      "bottom": null,
      "display": null,
      "flex": null,
      "flex_flow": null,
      "grid_area": null,
      "grid_auto_columns": null,
      "grid_auto_flow": null,
      "grid_auto_rows": null,
      "grid_column": null,
      "grid_gap": null,
      "grid_row": null,
      "grid_template_areas": null,
      "grid_template_columns": null,
      "grid_template_rows": null,
      "height": null,
      "justify_content": null,
      "justify_items": null,
      "left": null,
      "margin": null,
      "max_height": null,
      "max_width": null,
      "min_height": null,
      "min_width": null,
      "object_fit": null,
      "object_position": null,
      "order": null,
      "overflow": null,
      "overflow_x": null,
      "overflow_y": null,
      "padding": null,
      "right": null,
      "top": null,
      "visibility": null,
      "width": null
     }
    },
    "8e9a8c7ce30a49fda7d7b905d2a46b43": {
     "model_module": "@jupyter-widgets/base",
     "model_module_version": "1.2.0",
     "model_name": "LayoutModel",
     "state": {
      "_model_module": "@jupyter-widgets/base",
      "_model_module_version": "1.2.0",
      "_model_name": "LayoutModel",
      "_view_count": null,
      "_view_module": "@jupyter-widgets/base",
      "_view_module_version": "1.2.0",
      "_view_name": "LayoutView",
      "align_content": null,
      "align_items": null,
      "align_self": null,
      "border": null,
      "bottom": null,
      "display": null,
      "flex": null,
      "flex_flow": null,
      "grid_area": null,
      "grid_auto_columns": null,
      "grid_auto_flow": null,
      "grid_auto_rows": null,
      "grid_column": null,
      "grid_gap": null,
      "grid_row": null,
      "grid_template_areas": null,
      "grid_template_columns": null,
      "grid_template_rows": null,
      "height": null,
      "justify_content": null,
      "justify_items": null,
      "left": null,
      "margin": null,
      "max_height": null,
      "max_width": null,
      "min_height": null,
      "min_width": null,
      "object_fit": null,
      "object_position": null,
      "order": null,
      "overflow": null,
      "overflow_x": null,
      "overflow_y": null,
      "padding": null,
      "right": null,
      "top": null,
      "visibility": null,
      "width": null
     }
    },
    "91dae9b967a9437cb12de1048056bdab": {
     "model_module": "@jupyter-widgets/controls",
     "model_module_version": "1.5.0",
     "model_name": "HTMLModel",
     "state": {
      "_dom_classes": [],
      "_model_module": "@jupyter-widgets/controls",
      "_model_module_version": "1.5.0",
      "_model_name": "HTMLModel",
      "_view_count": null,
      "_view_module": "@jupyter-widgets/controls",
      "_view_module_version": "1.5.0",
      "_view_name": "HTMLView",
      "description": "",
      "description_tooltip": null,
      "layout": "IPY_MODEL_2a7438aa7b4941f2909cec55972bd981",
      "placeholder": "​",
      "style": "IPY_MODEL_e801737423c7425785d6fcefd4a741ac",
      "value": " 700/700 [00:00&lt;00:00, 2633.64 examples/s]"
     }
    },
    "9735b401334848b0b494ed8b7c5bed09": {
     "model_module": "@jupyter-widgets/base",
     "model_module_version": "1.2.0",
     "model_name": "LayoutModel",
     "state": {
      "_model_module": "@jupyter-widgets/base",
      "_model_module_version": "1.2.0",
      "_model_name": "LayoutModel",
      "_view_count": null,
      "_view_module": "@jupyter-widgets/base",
      "_view_module_version": "1.2.0",
      "_view_name": "LayoutView",
      "align_content": null,
      "align_items": null,
      "align_self": null,
      "border": null,
      "bottom": null,
      "display": null,
      "flex": null,
      "flex_flow": null,
      "grid_area": null,
      "grid_auto_columns": null,
      "grid_auto_flow": null,
      "grid_auto_rows": null,
      "grid_column": null,
      "grid_gap": null,
      "grid_row": null,
      "grid_template_areas": null,
      "grid_template_columns": null,
      "grid_template_rows": null,
      "height": null,
      "justify_content": null,
      "justify_items": null,
      "left": null,
      "margin": null,
      "max_height": null,
      "max_width": null,
      "min_height": null,
      "min_width": null,
      "object_fit": null,
      "object_position": null,
      "order": null,
      "overflow": null,
      "overflow_x": null,
      "overflow_y": null,
      "padding": null,
      "right": null,
      "top": null,
      "visibility": null,
      "width": null
     }
    },
    "9c59c87e5540442fa27701d7b09fd67a": {
     "model_module": "@jupyter-widgets/controls",
     "model_module_version": "1.5.0",
     "model_name": "HTMLModel",
     "state": {
      "_dom_classes": [],
      "_model_module": "@jupyter-widgets/controls",
      "_model_module_version": "1.5.0",
      "_model_name": "HTMLModel",
      "_view_count": null,
      "_view_module": "@jupyter-widgets/controls",
      "_view_module_version": "1.5.0",
      "_view_name": "HTMLView",
      "description": "",
      "description_tooltip": null,
      "layout": "IPY_MODEL_68f117a583c942d29e3d08e89e643339",
      "placeholder": "​",
      "style": "IPY_MODEL_76eb7bc09bdb4a27b7e3b20445ddfb72",
      "value": " 232k/232k [00:00&lt;00:00, 14.3MB/s]"
     }
    },
    "a0bd01d4dd16423f9ef3693931d73674": {
     "model_module": "@jupyter-widgets/controls",
     "model_module_version": "1.5.0",
     "model_name": "DescriptionStyleModel",
     "state": {
      "_model_module": "@jupyter-widgets/controls",
      "_model_module_version": "1.5.0",
      "_model_name": "DescriptionStyleModel",
      "_view_count": null,
      "_view_module": "@jupyter-widgets/base",
      "_view_module_version": "1.2.0",
      "_view_name": "StyleView",
      "description_width": ""
     }
    },
    "a742bf9e41da426c9e0237d9a23504e7": {
     "model_module": "@jupyter-widgets/controls",
     "model_module_version": "1.5.0",
     "model_name": "ProgressStyleModel",
     "state": {
      "_model_module": "@jupyter-widgets/controls",
      "_model_module_version": "1.5.0",
      "_model_name": "ProgressStyleModel",
      "_view_count": null,
      "_view_module": "@jupyter-widgets/base",
      "_view_module_version": "1.2.0",
      "_view_name": "StyleView",
      "bar_color": null,
      "description_width": ""
     }
    },
    "a8163df26c564d8dbcf4d2e641690495": {
     "model_module": "@jupyter-widgets/base",
     "model_module_version": "1.2.0",
     "model_name": "LayoutModel",
     "state": {
      "_model_module": "@jupyter-widgets/base",
      "_model_module_version": "1.2.0",
      "_model_name": "LayoutModel",
      "_view_count": null,
      "_view_module": "@jupyter-widgets/base",
      "_view_module_version": "1.2.0",
      "_view_name": "LayoutView",
      "align_content": null,
      "align_items": null,
      "align_self": null,
      "border": null,
      "bottom": null,
      "display": null,
      "flex": null,
      "flex_flow": null,
      "grid_area": null,
      "grid_auto_columns": null,
      "grid_auto_flow": null,
      "grid_auto_rows": null,
      "grid_column": null,
      "grid_gap": null,
      "grid_row": null,
      "grid_template_areas": null,
      "grid_template_columns": null,
      "grid_template_rows": null,
      "height": null,
      "justify_content": null,
      "justify_items": null,
      "left": null,
      "margin": null,
      "max_height": null,
      "max_width": null,
      "min_height": null,
      "min_width": null,
      "object_fit": null,
      "object_position": null,
      "order": null,
      "overflow": null,
      "overflow_x": null,
      "overflow_y": null,
      "padding": null,
      "right": null,
      "top": null,
      "visibility": null,
      "width": null
     }
    },
    "a905153ec0e949cebbed1ba7259fcc32": {
     "model_module": "@jupyter-widgets/controls",
     "model_module_version": "1.5.0",
     "model_name": "HTMLModel",
     "state": {
      "_dom_classes": [],
      "_model_module": "@jupyter-widgets/controls",
      "_model_module_version": "1.5.0",
      "_model_name": "HTMLModel",
      "_view_count": null,
      "_view_module": "@jupyter-widgets/controls",
      "_view_module_version": "1.5.0",
      "_view_name": "HTMLView",
      "description": "",
      "description_tooltip": null,
      "layout": "IPY_MODEL_c4ecdcb862934a8aa3eae8f6d4280a54",
      "placeholder": "​",
      "style": "IPY_MODEL_6e741f74cba94512b1296eea5d00599c",
      "value": " 6.34k/6.34k [00:00&lt;00:00, 335kB/s]"
     }
    },
    "a9582a9aaa82462db9a12a9ca7520932": {
     "model_module": "@jupyter-widgets/controls",
     "model_module_version": "1.5.0",
     "model_name": "DescriptionStyleModel",
     "state": {
      "_model_module": "@jupyter-widgets/controls",
      "_model_module_version": "1.5.0",
      "_model_name": "DescriptionStyleModel",
      "_view_count": null,
      "_view_module": "@jupyter-widgets/base",
      "_view_module_version": "1.2.0",
      "_view_name": "StyleView",
      "description_width": ""
     }
    },
    "b7b7585333a147a7b9b2a12b669611bc": {
     "model_module": "@jupyter-widgets/controls",
     "model_module_version": "1.5.0",
     "model_name": "DescriptionStyleModel",
     "state": {
      "_model_module": "@jupyter-widgets/controls",
      "_model_module_version": "1.5.0",
      "_model_name": "DescriptionStyleModel",
      "_view_count": null,
      "_view_module": "@jupyter-widgets/base",
      "_view_module_version": "1.2.0",
      "_view_name": "StyleView",
      "description_width": ""
     }
    },
    "ba0c55feb3b64398bdde035976413f44": {
     "model_module": "@jupyter-widgets/controls",
     "model_module_version": "1.5.0",
     "model_name": "ProgressStyleModel",
     "state": {
      "_model_module": "@jupyter-widgets/controls",
      "_model_module_version": "1.5.0",
      "_model_name": "ProgressStyleModel",
      "_view_count": null,
      "_view_module": "@jupyter-widgets/base",
      "_view_module_version": "1.2.0",
      "_view_name": "StyleView",
      "bar_color": null,
      "description_width": ""
     }
    },
    "bd5aeb2686df45d3ad427fbc00f3702b": {
     "model_module": "@jupyter-widgets/base",
     "model_module_version": "1.2.0",
     "model_name": "LayoutModel",
     "state": {
      "_model_module": "@jupyter-widgets/base",
      "_model_module_version": "1.2.0",
      "_model_name": "LayoutModel",
      "_view_count": null,
      "_view_module": "@jupyter-widgets/base",
      "_view_module_version": "1.2.0",
      "_view_name": "LayoutView",
      "align_content": null,
      "align_items": null,
      "align_self": null,
      "border": null,
      "bottom": null,
      "display": null,
      "flex": null,
      "flex_flow": null,
      "grid_area": null,
      "grid_auto_columns": null,
      "grid_auto_flow": null,
      "grid_auto_rows": null,
      "grid_column": null,
      "grid_gap": null,
      "grid_row": null,
      "grid_template_areas": null,
      "grid_template_columns": null,
      "grid_template_rows": null,
      "height": null,
      "justify_content": null,
      "justify_items": null,
      "left": null,
      "margin": null,
      "max_height": null,
      "max_width": null,
      "min_height": null,
      "min_width": null,
      "object_fit": null,
      "object_position": null,
      "order": null,
      "overflow": null,
      "overflow_x": null,
      "overflow_y": null,
      "padding": null,
      "right": null,
      "top": null,
      "visibility": null,
      "width": null
     }
    },
    "bf37e0fddbc74900bbbb38c5429e99e1": {
     "model_module": "@jupyter-widgets/controls",
     "model_module_version": "1.5.0",
     "model_name": "HBoxModel",
     "state": {
      "_dom_classes": [],
      "_model_module": "@jupyter-widgets/controls",
      "_model_module_version": "1.5.0",
      "_model_name": "HBoxModel",
      "_view_count": null,
      "_view_module": "@jupyter-widgets/controls",
      "_view_module_version": "1.5.0",
      "_view_name": "HBoxView",
      "box_style": "",
      "children": [
       "IPY_MODEL_bf38f496156448e5b791a71833c232a3",
       "IPY_MODEL_7b77866202154c3c8c3d39112ba7315d",
       "IPY_MODEL_789ad75cb9994e118a9044f7cea6d4ac"
      ],
      "layout": "IPY_MODEL_0b307466e5004b8b9cf1b52b719d5caf"
     }
    },
    "bf38f496156448e5b791a71833c232a3": {
     "model_module": "@jupyter-widgets/controls",
     "model_module_version": "1.5.0",
     "model_name": "HTMLModel",
     "state": {
      "_dom_classes": [],
      "_model_module": "@jupyter-widgets/controls",
      "_model_module_version": "1.5.0",
      "_model_name": "HTMLModel",
      "_view_count": null,
      "_view_module": "@jupyter-widgets/controls",
      "_view_module_version": "1.5.0",
      "_view_name": "HTMLView",
      "description": "",
      "description_tooltip": null,
      "layout": "IPY_MODEL_d6c14c4527774fb881ab90d21e0c023a",
      "placeholder": "​",
      "style": "IPY_MODEL_b7b7585333a147a7b9b2a12b669611bc",
      "value": "pytorch_model.bin: 100%"
     }
    },
    "c4ecdcb862934a8aa3eae8f6d4280a54": {
     "model_module": "@jupyter-widgets/base",
     "model_module_version": "1.2.0",
     "model_name": "LayoutModel",
     "state": {
      "_model_module": "@jupyter-widgets/base",
      "_model_module_version": "1.2.0",
      "_model_name": "LayoutModel",
      "_view_count": null,
      "_view_module": "@jupyter-widgets/base",
      "_view_module_version": "1.2.0",
      "_view_name": "LayoutView",
      "align_content": null,
      "align_items": null,
      "align_self": null,
      "border": null,
      "bottom": null,
      "display": null,
      "flex": null,
      "flex_flow": null,
      "grid_area": null,
      "grid_auto_columns": null,
      "grid_auto_flow": null,
      "grid_auto_rows": null,
      "grid_column": null,
      "grid_gap": null,
      "grid_row": null,
      "grid_template_areas": null,
      "grid_template_columns": null,
      "grid_template_rows": null,
      "height": null,
      "justify_content": null,
      "justify_items": null,
      "left": null,
      "margin": null,
      "max_height": null,
      "max_width": null,
      "min_height": null,
      "min_width": null,
      "object_fit": null,
      "object_position": null,
      "order": null,
      "overflow": null,
      "overflow_x": null,
      "overflow_y": null,
      "padding": null,
      "right": null,
      "top": null,
      "visibility": null,
      "width": null
     }
    },
    "c7ecf718368e4a37b3c58a5486721caf": {
     "model_module": "@jupyter-widgets/controls",
     "model_module_version": "1.5.0",
     "model_name": "HTMLModel",
     "state": {
      "_dom_classes": [],
      "_model_module": "@jupyter-widgets/controls",
      "_model_module_version": "1.5.0",
      "_model_name": "HTMLModel",
      "_view_count": null,
      "_view_module": "@jupyter-widgets/controls",
      "_view_module_version": "1.5.0",
      "_view_name": "HTMLView",
      "description": "",
      "description_tooltip": null,
      "layout": "IPY_MODEL_f7f97517d794436bb07c58fa01bb84be",
      "placeholder": "​",
      "style": "IPY_MODEL_ec5855ff96e1415795a47754dc39fdb2",
      "value": "config.json: 100%"
     }
    },
    "cc38318c470e402d81bb1495b29fbba9": {
     "model_module": "@jupyter-widgets/base",
     "model_module_version": "1.2.0",
     "model_name": "LayoutModel",
     "state": {
      "_model_module": "@jupyter-widgets/base",
      "_model_module_version": "1.2.0",
      "_model_name": "LayoutModel",
      "_view_count": null,
      "_view_module": "@jupyter-widgets/base",
      "_view_module_version": "1.2.0",
      "_view_name": "LayoutView",
      "align_content": null,
      "align_items": null,
      "align_self": null,
      "border": null,
      "bottom": null,
      "display": null,
      "flex": null,
      "flex_flow": null,
      "grid_area": null,
      "grid_auto_columns": null,
      "grid_auto_flow": null,
      "grid_auto_rows": null,
      "grid_column": null,
      "grid_gap": null,
      "grid_row": null,
      "grid_template_areas": null,
      "grid_template_columns": null,
      "grid_template_rows": null,
      "height": null,
      "justify_content": null,
      "justify_items": null,
      "left": null,
      "margin": null,
      "max_height": null,
      "max_width": null,
      "min_height": null,
      "min_width": null,
      "object_fit": null,
      "object_position": null,
      "order": null,
      "overflow": null,
      "overflow_x": null,
      "overflow_y": null,
      "padding": null,
      "right": null,
      "top": null,
      "visibility": null,
      "width": null
     }
    },
    "cc73cd1350f249568210f01d2f72fc63": {
     "model_module": "@jupyter-widgets/base",
     "model_module_version": "1.2.0",
     "model_name": "LayoutModel",
     "state": {
      "_model_module": "@jupyter-widgets/base",
      "_model_module_version": "1.2.0",
      "_model_name": "LayoutModel",
      "_view_count": null,
      "_view_module": "@jupyter-widgets/base",
      "_view_module_version": "1.2.0",
      "_view_name": "LayoutView",
      "align_content": null,
      "align_items": null,
      "align_self": null,
      "border": null,
      "bottom": null,
      "display": null,
      "flex": null,
      "flex_flow": null,
      "grid_area": null,
      "grid_auto_columns": null,
      "grid_auto_flow": null,
      "grid_auto_rows": null,
      "grid_column": null,
      "grid_gap": null,
      "grid_row": null,
      "grid_template_areas": null,
      "grid_template_columns": null,
      "grid_template_rows": null,
      "height": null,
      "justify_content": null,
      "justify_items": null,
      "left": null,
      "margin": null,
      "max_height": null,
      "max_width": null,
      "min_height": null,
      "min_width": null,
      "object_fit": null,
      "object_position": null,
      "order": null,
      "overflow": null,
      "overflow_x": null,
      "overflow_y": null,
      "padding": null,
      "right": null,
      "top": null,
      "visibility": null,
      "width": null
     }
    },
    "d44110389b604028b57fb7947539ef16": {
     "model_module": "@jupyter-widgets/controls",
     "model_module_version": "1.5.0",
     "model_name": "DescriptionStyleModel",
     "state": {
      "_model_module": "@jupyter-widgets/controls",
      "_model_module_version": "1.5.0",
      "_model_name": "DescriptionStyleModel",
      "_view_count": null,
      "_view_module": "@jupyter-widgets/base",
      "_view_module_version": "1.2.0",
      "_view_name": "StyleView",
      "description_width": ""
     }
    },
    "d6c14c4527774fb881ab90d21e0c023a": {
     "model_module": "@jupyter-widgets/base",
     "model_module_version": "1.2.0",
     "model_name": "LayoutModel",
     "state": {
      "_model_module": "@jupyter-widgets/base",
      "_model_module_version": "1.2.0",
      "_model_name": "LayoutModel",
      "_view_count": null,
      "_view_module": "@jupyter-widgets/base",
      "_view_module_version": "1.2.0",
      "_view_name": "LayoutView",
      "align_content": null,
      "align_items": null,
      "align_self": null,
      "border": null,
      "bottom": null,
      "display": null,
      "flex": null,
      "flex_flow": null,
      "grid_area": null,
      "grid_auto_columns": null,
      "grid_auto_flow": null,
      "grid_auto_rows": null,
      "grid_column": null,
      "grid_gap": null,
      "grid_row": null,
      "grid_template_areas": null,
      "grid_template_columns": null,
      "grid_template_rows": null,
      "height": null,
      "justify_content": null,
      "justify_items": null,
      "left": null,
      "margin": null,
      "max_height": null,
      "max_width": null,
      "min_height": null,
      "min_width": null,
      "object_fit": null,
      "object_position": null,
      "order": null,
      "overflow": null,
      "overflow_x": null,
      "overflow_y": null,
      "padding": null,
      "right": null,
      "top": null,
      "visibility": null,
      "width": null
     }
    },
    "d94dd3f732934f4fb931527bc4da1308": {
     "model_module": "@jupyter-widgets/controls",
     "model_module_version": "1.5.0",
     "model_name": "FloatProgressModel",
     "state": {
      "_dom_classes": [],
      "_model_module": "@jupyter-widgets/controls",
      "_model_module_version": "1.5.0",
      "_model_name": "FloatProgressModel",
      "_view_count": null,
      "_view_module": "@jupyter-widgets/controls",
      "_view_module_version": "1.5.0",
      "_view_name": "ProgressView",
      "bar_style": "success",
      "description": "",
      "description_tooltip": null,
      "layout": "IPY_MODEL_51bfe409dafe40f08012a7b0155d1a71",
      "max": 231508,
      "min": 0,
      "orientation": "horizontal",
      "style": "IPY_MODEL_dff540d210a54011a65db01205602a09",
      "value": 231508
     }
    },
    "dff540d210a54011a65db01205602a09": {
     "model_module": "@jupyter-widgets/controls",
     "model_module_version": "1.5.0",
     "model_name": "ProgressStyleModel",
     "state": {
      "_model_module": "@jupyter-widgets/controls",
      "_model_module_version": "1.5.0",
      "_model_name": "ProgressStyleModel",
      "_view_count": null,
      "_view_module": "@jupyter-widgets/base",
      "_view_module_version": "1.2.0",
      "_view_name": "StyleView",
      "bar_color": null,
      "description_width": ""
     }
    },
    "e3ed7ff90a414304bbe9805fb14cbfa7": {
     "model_module": "@jupyter-widgets/base",
     "model_module_version": "1.2.0",
     "model_name": "LayoutModel",
     "state": {
      "_model_module": "@jupyter-widgets/base",
      "_model_module_version": "1.2.0",
      "_model_name": "LayoutModel",
      "_view_count": null,
      "_view_module": "@jupyter-widgets/base",
      "_view_module_version": "1.2.0",
      "_view_name": "LayoutView",
      "align_content": null,
      "align_items": null,
      "align_self": null,
      "border": null,
      "bottom": null,
      "display": null,
      "flex": null,
      "flex_flow": null,
      "grid_area": null,
      "grid_auto_columns": null,
      "grid_auto_flow": null,
      "grid_auto_rows": null,
      "grid_column": null,
      "grid_gap": null,
      "grid_row": null,
      "grid_template_areas": null,
      "grid_template_columns": null,
      "grid_template_rows": null,
      "height": null,
      "justify_content": null,
      "justify_items": null,
      "left": null,
      "margin": null,
      "max_height": null,
      "max_width": null,
      "min_height": null,
      "min_width": null,
      "object_fit": null,
      "object_position": null,
      "order": null,
      "overflow": null,
      "overflow_x": null,
      "overflow_y": null,
      "padding": null,
      "right": null,
      "top": null,
      "visibility": null,
      "width": null
     }
    },
    "e801737423c7425785d6fcefd4a741ac": {
     "model_module": "@jupyter-widgets/controls",
     "model_module_version": "1.5.0",
     "model_name": "DescriptionStyleModel",
     "state": {
      "_model_module": "@jupyter-widgets/controls",
      "_model_module_version": "1.5.0",
      "_model_name": "DescriptionStyleModel",
      "_view_count": null,
      "_view_module": "@jupyter-widgets/base",
      "_view_module_version": "1.2.0",
      "_view_name": "StyleView",
      "description_width": ""
     }
    },
    "ec5855ff96e1415795a47754dc39fdb2": {
     "model_module": "@jupyter-widgets/controls",
     "model_module_version": "1.5.0",
     "model_name": "DescriptionStyleModel",
     "state": {
      "_model_module": "@jupyter-widgets/controls",
      "_model_module_version": "1.5.0",
      "_model_name": "DescriptionStyleModel",
      "_view_count": null,
      "_view_module": "@jupyter-widgets/base",
      "_view_module_version": "1.2.0",
      "_view_name": "StyleView",
      "description_width": ""
     }
    },
    "ee7034ffb26444158b44d8928d451b61": {
     "model_module": "@jupyter-widgets/controls",
     "model_module_version": "1.5.0",
     "model_name": "FloatProgressModel",
     "state": {
      "_dom_classes": [],
      "_model_module": "@jupyter-widgets/controls",
      "_model_module_version": "1.5.0",
      "_model_name": "FloatProgressModel",
      "_view_count": null,
      "_view_module": "@jupyter-widgets/controls",
      "_view_module_version": "1.5.0",
      "_view_name": "ProgressView",
      "bar_style": "success",
      "description": "",
      "description_tooltip": null,
      "layout": "IPY_MODEL_0c564a81a76d4d2199e7a8c3f5062c4f",
      "max": 13084,
      "min": 0,
      "orientation": "horizontal",
      "style": "IPY_MODEL_16d6c8bdf16f4e79a6d78bc6c9af39cd",
      "value": 13084
     }
    },
    "f7f97517d794436bb07c58fa01bb84be": {
     "model_module": "@jupyter-widgets/base",
     "model_module_version": "1.2.0",
     "model_name": "LayoutModel",
     "state": {
      "_model_module": "@jupyter-widgets/base",
      "_model_module_version": "1.2.0",
      "_model_name": "LayoutModel",
      "_view_count": null,
      "_view_module": "@jupyter-widgets/base",
      "_view_module_version": "1.2.0",
      "_view_name": "LayoutView",
      "align_content": null,
      "align_items": null,
      "align_self": null,
      "border": null,
      "bottom": null,
      "display": null,
      "flex": null,
      "flex_flow": null,
      "grid_area": null,
      "grid_auto_columns": null,
      "grid_auto_flow": null,
      "grid_auto_rows": null,
      "grid_column": null,
      "grid_gap": null,
      "grid_row": null,
      "grid_template_areas": null,
      "grid_template_columns": null,
      "grid_template_rows": null,
      "height": null,
      "justify_content": null,
      "justify_items": null,
      "left": null,
      "margin": null,
      "max_height": null,
      "max_width": null,
      "min_height": null,
      "min_width": null,
      "object_fit": null,
      "object_position": null,
      "order": null,
      "overflow": null,
      "overflow_x": null,
      "overflow_y": null,
      "padding": null,
      "right": null,
      "top": null,
      "visibility": null,
      "width": null
     }
    },
    "fd92c232e9184c56a6ede96f71a4908a": {
     "model_module": "@jupyter-widgets/controls",
     "model_module_version": "1.5.0",
     "model_name": "HTMLModel",
     "state": {
      "_dom_classes": [],
      "_model_module": "@jupyter-widgets/controls",
      "_model_module_version": "1.5.0",
      "_model_name": "HTMLModel",
      "_view_count": null,
      "_view_module": "@jupyter-widgets/controls",
      "_view_module_version": "1.5.0",
      "_view_name": "HTMLView",
      "description": "",
      "description_tooltip": null,
      "layout": "IPY_MODEL_e3ed7ff90a414304bbe9805fb14cbfa7",
      "placeholder": "​",
      "style": "IPY_MODEL_28cd0acb58a348f6b2a6df1584548246",
      "value": " 285/285 [00:00&lt;00:00, 13.7kB/s]"
     }
    }
   }
  }
 },
 "nbformat": 4,
 "nbformat_minor": 5
}
