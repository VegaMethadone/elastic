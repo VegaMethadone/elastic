{
 "cells": [
  {
   "cell_type": "code",
   "execution_count": null,
   "id": "djWVqWZyOXi4",
   "metadata": {
    "id": "djWVqWZyOXi4"
   },
   "outputs": [],
   "source": [
    "!pip install torchtext==0.17 torch datasets"
   ]
  },
  {
   "cell_type": "markdown",
   "id": "DHzvFqntTkW0",
   "metadata": {
    "id": "DHzvFqntTkW0"
   },
   "source": [
    "![](https://colah.github.io/posts/2015-08-Understanding-LSTMs/img/RNN-unrolled.png)"
   ]
  },
  {
   "cell_type": "markdown",
   "id": "yNGhcCUjT4gM",
   "metadata": {
    "id": "yNGhcCUjT4gM"
   },
   "source": [
    "![](https://www.tensorflow.org/static/text/tutorials/images/bidirectional.png)"
   ]
  },
  {
   "cell_type": "code",
   "execution_count": 2,
   "id": "NUbRw4IiOdcM",
   "metadata": {
    "colab": {
     "base_uri": "https://localhost:8080/"
    },
    "executionInfo": {
     "elapsed": 1841,
     "status": "ok",
     "timestamp": 1734182143322,
     "user": {
      "displayName": "Pavel Efimov",
      "userId": "11310524505359177201"
     },
     "user_tz": -180
    },
    "id": "NUbRw4IiOdcM",
    "outputId": "a0427e4d-d136-4b5a-cdf9-5e39e8bb3bb5"
   },
   "outputs": [
    {
     "name": "stdout",
     "output_type": "stream",
     "text": [
      "Cloning into 'SlotGated-SLU'...\n",
      "remote: Enumerating objects: 51, done.\u001b[K\n",
      "remote: Counting objects: 100% (7/7), done.\u001b[K\n",
      "remote: Compressing objects: 100% (5/5), done.\u001b[K\n",
      "remote: Total 51 (delta 4), reused 2 (delta 2), pack-reused 44 (from 1)\u001b[K\n",
      "Receiving objects: 100% (51/51), 426.21 KiB | 14.70 MiB/s, done.\n",
      "Resolving deltas: 100% (14/14), done.\n"
     ]
    }
   ],
   "source": [
    "!git clone https://github.com/MiuLab/SlotGated-SLU.git"
   ]
  },
  {
   "cell_type": "code",
   "execution_count": 3,
   "id": "MlJzAoqRRLzM",
   "metadata": {
    "executionInfo": {
     "elapsed": 3,
     "status": "ok",
     "timestamp": 1734182144490,
     "user": {
      "displayName": "Pavel Efimov",
      "userId": "11310524505359177201"
     },
     "user_tz": -180
    },
    "id": "MlJzAoqRRLzM"
   },
   "outputs": [],
   "source": [
    "import sys"
   ]
  },
  {
   "cell_type": "code",
   "execution_count": 4,
   "id": "f23a152d",
   "metadata": {
    "executionInfo": {
     "elapsed": 6343,
     "status": "ok",
     "timestamp": 1734182151930,
     "user": {
      "displayName": "Pavel Efimov",
      "userId": "11310524505359177201"
     },
     "user_tz": -180
    },
    "id": "f23a152d"
   },
   "outputs": [],
   "source": [
    "from datasets import Dataset, DatasetDict\n",
    "import matplotlib.pyplot as plt\n",
    "import numpy as np\n",
    "import torch\n",
    "import torch.nn as nn\n",
    "import torch.optim as optim\n",
    "import torchtext\n",
    "import tqdm\n",
    "from nltk import word_tokenize"
   ]
  },
  {
   "cell_type": "code",
   "execution_count": 5,
   "id": "OFBBCCGxP7A5",
   "metadata": {
    "colab": {
     "base_uri": "https://localhost:8080/"
    },
    "executionInfo": {
     "elapsed": 13,
     "status": "ok",
     "timestamp": 1734182151931,
     "user": {
      "displayName": "Pavel Efimov",
      "userId": "11310524505359177201"
     },
     "user_tz": -180
    },
    "id": "OFBBCCGxP7A5",
    "outputId": "90859a7d-8b32-4502-eb8a-46e36eb24733"
   },
   "outputs": [
    {
     "name": "stderr",
     "output_type": "stream",
     "text": [
      "[nltk_data] Downloading package punkt_tab to /root/nltk_data...\n",
      "[nltk_data]   Unzipping tokenizers/punkt_tab.zip.\n"
     ]
    },
    {
     "data": {
      "text/plain": [
       "True"
      ]
     },
     "execution_count": 5,
     "metadata": {},
     "output_type": "execute_result"
    }
   ],
   "source": [
    "import nltk\n",
    "nltk.download('punkt_tab')"
   ]
  },
  {
   "cell_type": "code",
   "execution_count": 6,
   "id": "c661e3c4",
   "metadata": {
    "colab": {
     "base_uri": "https://localhost:8080/"
    },
    "executionInfo": {
     "elapsed": 13,
     "status": "ok",
     "timestamp": 1734182151932,
     "user": {
      "displayName": "Pavel Efimov",
      "userId": "11310524505359177201"
     },
     "user_tz": -180
    },
    "id": "c661e3c4",
    "outputId": "2789214c-f9a5-406c-a103-88e33bd1dc24"
   },
   "outputs": [
    {
     "data": {
      "text/plain": [
       "<torch._C.Generator at 0x7be8704c8bb0>"
      ]
     },
     "execution_count": 6,
     "metadata": {},
     "output_type": "execute_result"
    }
   ],
   "source": [
    "seed = 0\n",
    "\n",
    "torch.manual_seed(seed)"
   ]
  },
  {
   "cell_type": "code",
   "execution_count": 7,
   "id": "0641e3aa",
   "metadata": {
    "executionInfo": {
     "elapsed": 11,
     "status": "ok",
     "timestamp": 1734182151932,
     "user": {
      "displayName": "Pavel Efimov",
      "userId": "11310524505359177201"
     },
     "user_tz": -180
    },
    "id": "0641e3aa"
   },
   "outputs": [],
   "source": [
    "import os\n",
    "\n",
    "def read_dataset(path):\n",
    "    with open(os.path.join(path, 'seq.in')) as f_words, \\\n",
    "        open(os.path.join(path, 'seq.out')) as f_tags, \\\n",
    "        open(os.path.join(path, 'label')) as f_intents:\n",
    "\n",
    "        texts, slot_labels, intent_labels = [], [], []\n",
    "        for words, tags, intent in zip(f_words, f_tags, f_intents):\n",
    "            texts.append(words.strip().split())\n",
    "            slot_labels.append(tags.strip().split())\n",
    "            intent_labels.append(intent.strip())\n",
    "        return Dataset.from_dict({\"words\": texts,\n",
    "                                  \"tags\": slot_labels,\n",
    "                                  \"intent\": intent_labels})"
   ]
  },
  {
   "cell_type": "code",
   "execution_count": 8,
   "id": "g689rHSQOyf9",
   "metadata": {
    "executionInfo": {
     "elapsed": 10,
     "status": "ok",
     "timestamp": 1734182151932,
     "user": {
      "displayName": "Pavel Efimov",
      "userId": "11310524505359177201"
     },
     "user_tz": -180
    },
    "id": "g689rHSQOyf9"
   },
   "outputs": [],
   "source": [
    "datasets = DatasetDict()\n",
    "for split_name in [\"train\", \"valid\", \"test\"]:\n",
    "    datasets[split_name] = read_dataset(f\"/content/SlotGated-SLU/data/snips/{split_name}\")"
   ]
  },
  {
   "cell_type": "code",
   "execution_count": 9,
   "id": "3d6e337d",
   "metadata": {
    "colab": {
     "base_uri": "https://localhost:8080/"
    },
    "executionInfo": {
     "elapsed": 10,
     "status": "ok",
     "timestamp": 1734182151932,
     "user": {
      "displayName": "Pavel Efimov",
      "userId": "11310524505359177201"
     },
     "user_tz": -180
    },
    "id": "3d6e337d",
    "outputId": "cc4a5ab6-c068-457b-a239-88cc3860dd67"
   },
   "outputs": [
    {
     "data": {
      "text/plain": [
       "{'words': ['listen',\n",
       "  'to',\n",
       "  'westbam',\n",
       "  'alumb',\n",
       "  'allergic',\n",
       "  'on',\n",
       "  'google',\n",
       "  'music'],\n",
       " 'tags': ['O', 'O', 'B-artist', 'O', 'B-album', 'O', 'B-service', 'I-service'],\n",
       " 'intent': 'PlayMusic'}"
      ]
     },
     "execution_count": 9,
     "metadata": {},
     "output_type": "execute_result"
    }
   ],
   "source": [
    "datasets[\"train\"][0]"
   ]
  },
  {
   "cell_type": "code",
   "execution_count": 10,
   "id": "f0d8776d",
   "metadata": {
    "colab": {
     "base_uri": "https://localhost:8080/"
    },
    "executionInfo": {
     "elapsed": 1192,
     "status": "ok",
     "timestamp": 1734182153119,
     "user": {
      "displayName": "Pavel Efimov",
      "userId": "11310524505359177201"
     },
     "user_tz": -180
    },
    "id": "f0d8776d",
    "outputId": "0092ea22-5f96-497e-88a0-58c654075eae"
   },
   "outputs": [
    {
     "name": "stdout",
     "output_type": "stream",
     "text": [
      "Intent:\t PlayMusic\n",
      "Words:\t play\tfunky\theavy\tbluesy\n",
      "Tags:\t O\tB-playlist\tI-playlist\tI-playlist\n",
      "\n",
      "Intent:\t AddToPlaylist\n",
      "Words:\t add\tgabrial\tmcnair\tto\tmy\tlove\tin\tparis\tlist\n",
      "Tags:\t O\tB-artist\tI-artist\tO\tB-playlist_owner\tB-playlist\tI-playlist\tI-playlist\tO\n",
      "\n",
      "Intent:\t RateBook\n",
      "Words:\t rate\trichard\tcarvel\t4\tout\tof\t6\n",
      "Tags:\t O\tB-object_name\tI-object_name\tB-rating_value\tO\tO\tB-best_rating\n",
      "\n",
      "Intent:\t SearchScreeningEvent\n",
      "Words:\t can\ti\tget\tthe\tmovie\tschedule\tfor\tloews\tcineplex\tentertainment\n",
      "Tags:\t O\tO\tO\tO\tB-object_type\tI-object_type\tO\tB-location_name\tI-location_name\tI-location_name\n",
      "\n",
      "Intent:\t BookRestaurant\n",
      "Words:\t i\twant\tto\teat\tchoucroute\tat\ta\tbrasserie\tfor\t8\n",
      "Tags:\t O\tO\tO\tO\tB-served_dish\tO\tO\tB-restaurant_type\tO\tB-party_size_number\n",
      "\n",
      "Intent:\t GetWeather\n",
      "Words:\t tell\tme\twhen\tit\tll\tbe\tchillier\tin\tcavalero\tcorner\tid\n",
      "Tags:\t O\tO\tO\tO\tO\tO\tB-condition_temperature\tO\tB-city\tI-city\tB-state\n",
      "\n",
      "Intent:\t SearchCreativeWork\n",
      "Words:\t go\tto\tthe\tphotograph\tthe\tinflated\ttear\n",
      "Tags:\t O\tO\tO\tB-object_type\tB-object_name\tI-object_name\tI-object_name\n",
      "\n"
     ]
    }
   ],
   "source": [
    "intent_to_example = {example[\"intent\"]: example for example in datasets[\"train\"]}\n",
    "for example in intent_to_example.values():\n",
    "    print('Intent:\\t', example[\"intent\"])\n",
    "    print('Words:\\t', '\\t'.join(example[\"words\"]))\n",
    "    print('Tags:\\t', '\\t'.join(example[\"tags\"]))\n",
    "    print()"
   ]
  },
  {
   "cell_type": "code",
   "execution_count": 11,
   "id": "be4f97e1",
   "metadata": {
    "executionInfo": {
     "elapsed": 2,
     "status": "ok",
     "timestamp": 1734182153119,
     "user": {
      "displayName": "Pavel Efimov",
      "userId": "11310524505359177201"
     },
     "user_tz": -180
    },
    "id": "be4f97e1"
   },
   "outputs": [],
   "source": [
    "TEXT_LOWER = True"
   ]
  },
  {
   "cell_type": "code",
   "execution_count": 12,
   "id": "0bf984df",
   "metadata": {
    "executionInfo": {
     "elapsed": 1366,
     "status": "ok",
     "timestamp": 1734182155121,
     "user": {
      "displayName": "Pavel Efimov",
      "userId": "11310524505359177201"
     },
     "user_tz": -180
    },
    "id": "0bf984df"
   },
   "outputs": [],
   "source": [
    "min_freq = 3\n",
    "special_tokens = ['<unk>', '<pad>']\n",
    "\n",
    "tokens_vocab = torchtext.vocab.build_vocab_from_iterator(datasets['train']['words'],\n",
    "                                                  min_freq=min_freq,\n",
    "                                                  specials=special_tokens)"
   ]
  },
  {
   "cell_type": "code",
   "execution_count": 13,
   "id": "RH3QiGJAveep",
   "metadata": {
    "executionInfo": {
     "elapsed": 2,
     "status": "ok",
     "timestamp": 1734182155121,
     "user": {
      "displayName": "Pavel Efimov",
      "userId": "11310524505359177201"
     },
     "user_tz": -180
    },
    "id": "RH3QiGJAveep"
   },
   "outputs": [],
   "source": [
    "idx_to_label = list(set(datasets['train']['intent']))\n",
    "label_to_idx = {label: idx for idx, label in enumerate(idx_to_label)}"
   ]
  },
  {
   "cell_type": "code",
   "execution_count": 14,
   "id": "a4283703",
   "metadata": {
    "colab": {
     "base_uri": "https://localhost:8080/"
    },
    "executionInfo": {
     "elapsed": 7,
     "status": "ok",
     "timestamp": 1734182156005,
     "user": {
      "displayName": "Pavel Efimov",
      "userId": "11310524505359177201"
     },
     "user_tz": -180
    },
    "id": "a4283703",
    "outputId": "3f780ce6-161c-4d46-cf7e-31a68aa8b558"
   },
   "outputs": [
    {
     "data": {
      "text/plain": [
       "['GetWeather',\n",
       " 'RateBook',\n",
       " 'BookRestaurant',\n",
       " 'SearchScreeningEvent',\n",
       " 'PlayMusic',\n",
       " 'AddToPlaylist',\n",
       " 'SearchCreativeWork']"
      ]
     },
     "execution_count": 14,
     "metadata": {},
     "output_type": "execute_result"
    }
   ],
   "source": [
    "idx_to_label"
   ]
  },
  {
   "cell_type": "code",
   "execution_count": 15,
   "id": "059ab898",
   "metadata": {
    "colab": {
     "base_uri": "https://localhost:8080/"
    },
    "executionInfo": {
     "elapsed": 4,
     "status": "ok",
     "timestamp": 1734182156457,
     "user": {
      "displayName": "Pavel Efimov",
      "userId": "11310524505359177201"
     },
     "user_tz": -180
    },
    "id": "059ab898",
    "outputId": "cb3e599a-ef41-4f0d-c866-dc64816b0c8c"
   },
   "outputs": [
    {
     "data": {
      "text/plain": [
       "{'GetWeather': 0,\n",
       " 'RateBook': 1,\n",
       " 'BookRestaurant': 2,\n",
       " 'SearchScreeningEvent': 3,\n",
       " 'PlayMusic': 4,\n",
       " 'AddToPlaylist': 5,\n",
       " 'SearchCreativeWork': 6}"
      ]
     },
     "execution_count": 15,
     "metadata": {},
     "output_type": "execute_result"
    }
   ],
   "source": [
    "label_to_idx"
   ]
  },
  {
   "cell_type": "code",
   "execution_count": 16,
   "id": "5147a8fd",
   "metadata": {
    "executionInfo": {
     "elapsed": 465,
     "status": "ok",
     "timestamp": 1734182158470,
     "user": {
      "displayName": "Pavel Efimov",
      "userId": "11310524505359177201"
     },
     "user_tz": -180
    },
    "id": "5147a8fd"
   },
   "outputs": [],
   "source": [
    "unk_index = tokens_vocab['<unk>']\n",
    "pad_index = tokens_vocab['<pad>']"
   ]
  },
  {
   "cell_type": "code",
   "execution_count": 17,
   "id": "W8Uo7oAOwdH_",
   "metadata": {
    "colab": {
     "base_uri": "https://localhost:8080/"
    },
    "executionInfo": {
     "elapsed": 458,
     "status": "ok",
     "timestamp": 1734182160644,
     "user": {
      "displayName": "Pavel Efimov",
      "userId": "11310524505359177201"
     },
     "user_tz": -180
    },
    "id": "W8Uo7oAOwdH_",
    "outputId": "b39af042-0556-4c2e-d51f-2da92e4dda76"
   },
   "outputs": [
    {
     "data": {
      "text/plain": [
       "(0, 1)"
      ]
     },
     "execution_count": 17,
     "metadata": {},
     "output_type": "execute_result"
    }
   ],
   "source": [
    "unk_index, pad_index"
   ]
  },
  {
   "cell_type": "code",
   "execution_count": 18,
   "id": "rzTfg5VHwgsQ",
   "metadata": {
    "colab": {
     "base_uri": "https://localhost:8080/"
    },
    "executionInfo": {
     "elapsed": 9,
     "status": "ok",
     "timestamp": 1734182162542,
     "user": {
      "displayName": "Pavel Efimov",
      "userId": "11310524505359177201"
     },
     "user_tz": -180
    },
    "id": "rzTfg5VHwgsQ",
    "outputId": "cd6adbbd-1523-4f99-cf05-e1495f743dc5"
   },
   "outputs": [
    {
     "data": {
      "text/plain": [
       "36"
      ]
     },
     "execution_count": 18,
     "metadata": {},
     "output_type": "execute_result"
    }
   ],
   "source": [
    "tokens_vocab[\"music\"]"
   ]
  },
  {
   "cell_type": "code",
   "execution_count": 19,
   "id": "kQC1_FFgwoFg",
   "metadata": {
    "executionInfo": {
     "elapsed": 552,
     "status": "ok",
     "timestamp": 1734182165646,
     "user": {
      "displayName": "Pavel Efimov",
      "userId": "11310524505359177201"
     },
     "user_tz": -180
    },
    "id": "kQC1_FFgwoFg"
   },
   "outputs": [],
   "source": [
    "# tokens_vocab[\"musierkjferkjberkc\"]"
   ]
  },
  {
   "cell_type": "code",
   "execution_count": 20,
   "id": "8b97bda7",
   "metadata": {
    "executionInfo": {
     "elapsed": 3,
     "status": "ok",
     "timestamp": 1734182166702,
     "user": {
      "displayName": "Pavel Efimov",
      "userId": "11310524505359177201"
     },
     "user_tz": -180
    },
    "id": "8b97bda7"
   },
   "outputs": [],
   "source": [
    "tokens_vocab.set_default_index(unk_index)"
   ]
  },
  {
   "cell_type": "code",
   "execution_count": 21,
   "id": "A_lxAyc3wzDp",
   "metadata": {
    "colab": {
     "base_uri": "https://localhost:8080/"
    },
    "executionInfo": {
     "elapsed": 477,
     "status": "ok",
     "timestamp": 1734182168484,
     "user": {
      "displayName": "Pavel Efimov",
      "userId": "11310524505359177201"
     },
     "user_tz": -180
    },
    "id": "A_lxAyc3wzDp",
    "outputId": "073fecfb-9bf5-4d0e-88d4-886078052c0d"
   },
   "outputs": [
    {
     "data": {
      "text/plain": [
       "0"
      ]
     },
     "execution_count": 21,
     "metadata": {},
     "output_type": "execute_result"
    }
   ],
   "source": [
    "tokens_vocab[\"musierkjferkjberkc\"]"
   ]
  },
  {
   "cell_type": "code",
   "execution_count": 22,
   "id": "5QdWNP1hw4gW",
   "metadata": {
    "colab": {
     "base_uri": "https://localhost:8080/"
    },
    "executionInfo": {
     "elapsed": 8,
     "status": "ok",
     "timestamp": 1734182170641,
     "user": {
      "displayName": "Pavel Efimov",
      "userId": "11310524505359177201"
     },
     "user_tz": -180
    },
    "id": "5QdWNP1hw4gW",
    "outputId": "dee55657-2de8-4a23-a3e1-36e3ae1de820"
   },
   "outputs": [
    {
     "data": {
      "text/plain": [
       "[36]"
      ]
     },
     "execution_count": 22,
     "metadata": {},
     "output_type": "execute_result"
    }
   ],
   "source": [
    "tokens_vocab.lookup_indices([\"music\"])"
   ]
  },
  {
   "cell_type": "code",
   "execution_count": 23,
   "id": "aMmi3TZLxMSM",
   "metadata": {
    "colab": {
     "base_uri": "https://localhost:8080/",
     "height": 36
    },
    "executionInfo": {
     "elapsed": 494,
     "status": "ok",
     "timestamp": 1734182177201,
     "user": {
      "displayName": "Pavel Efimov",
      "userId": "11310524505359177201"
     },
     "user_tz": -180
    },
    "id": "aMmi3TZLxMSM",
    "outputId": "9ce9704b-36c9-4588-f650-f956fbd5cc09"
   },
   "outputs": [
    {
     "data": {
      "application/vnd.google.colaboratory.intrinsic+json": {
       "type": "string"
      },
      "text/plain": [
       "'music'"
      ]
     },
     "execution_count": 23,
     "metadata": {},
     "output_type": "execute_result"
    }
   ],
   "source": [
    "tokens_vocab.lookup_token(36)"
   ]
  },
  {
   "cell_type": "code",
   "execution_count": 24,
   "id": "k8h3idWnxT9n",
   "metadata": {
    "colab": {
     "base_uri": "https://localhost:8080/"
    },
    "executionInfo": {
     "elapsed": 451,
     "status": "ok",
     "timestamp": 1734182181595,
     "user": {
      "displayName": "Pavel Efimov",
      "userId": "11310524505359177201"
     },
     "user_tz": -180
    },
    "id": "k8h3idWnxT9n",
    "outputId": "d6e38729-2eb0-4985-9223-0a8cf9142bc4"
   },
   "outputs": [
    {
     "data": {
      "text/plain": [
       "['book', 'canteen', 'at', '16', 'o', 'clock']"
      ]
     },
     "execution_count": 24,
     "metadata": {},
     "output_type": "execute_result"
    }
   ],
   "source": [
    "words = word_tokenize(\"book canteen at 16 o clock\")\n",
    "words"
   ]
  },
  {
   "cell_type": "code",
   "execution_count": 25,
   "id": "1bb22756",
   "metadata": {
    "colab": {
     "base_uri": "https://localhost:8080/"
    },
    "executionInfo": {
     "elapsed": 458,
     "status": "ok",
     "timestamp": 1734182182644,
     "user": {
      "displayName": "Pavel Efimov",
      "userId": "11310524505359177201"
     },
     "user_tz": -180
    },
    "id": "1bb22756",
    "outputId": "06e65300-724b-4667-ee76-ff3a5e75c3ba"
   },
   "outputs": [
    {
     "data": {
      "text/plain": [
       "[12, 0, 9, 501, 179, 184]"
      ]
     },
     "execution_count": 25,
     "metadata": {},
     "output_type": "execute_result"
    }
   ],
   "source": [
    "idx_example = tokens_vocab.forward(words)\n",
    "idx_example"
   ]
  },
  {
   "cell_type": "code",
   "execution_count": 26,
   "id": "NBN_c6g4xixo",
   "metadata": {
    "colab": {
     "base_uri": "https://localhost:8080/"
    },
    "executionInfo": {
     "elapsed": 836,
     "status": "ok",
     "timestamp": 1734182189006,
     "user": {
      "displayName": "Pavel Efimov",
      "userId": "11310524505359177201"
     },
     "user_tz": -180
    },
    "id": "NBN_c6g4xixo",
    "outputId": "5a10ed71-260d-4f54-a9b9-ec14fbe36bf1"
   },
   "outputs": [
    {
     "data": {
      "text/plain": [
       "['book', '<unk>', 'at', '16', 'o', 'clock']"
      ]
     },
     "execution_count": 26,
     "metadata": {},
     "output_type": "execute_result"
    }
   ],
   "source": [
    "tokens_vocab.lookup_tokens(idx_example)"
   ]
  },
  {
   "cell_type": "code",
   "execution_count": 27,
   "id": "843282aa",
   "metadata": {
    "executionInfo": {
     "elapsed": 482,
     "status": "ok",
     "timestamp": 1734182192690,
     "user": {
      "displayName": "Pavel Efimov",
      "userId": "11310524505359177201"
     },
     "user_tz": -180
    },
    "id": "843282aa"
   },
   "outputs": [],
   "source": [
    "def numericalize_data(example, tokens_vocab, label_to_idx):\n",
    "#     print(example)\n",
    "    token_idxs = tokens_vocab.forward(example['words'])\n",
    "    label_idx = label_to_idx[example['intent']]\n",
    "    return {'words': token_idxs, 'intent': label_idx}"
   ]
  },
  {
   "cell_type": "code",
   "execution_count": 28,
   "id": "885b504a",
   "metadata": {
    "colab": {
     "base_uri": "https://localhost:8080/",
     "height": 113,
     "referenced_widgets": [
      "71219991109947e3a46f40c89beaa647",
      "3937654dfe5841129784851ee42f9050",
      "f116aaa2f48740f889e7b04ddfa6362f",
      "5670bdb2bb9c4ab88119f1e1eb0b6c35",
      "1b486c32b14149feb775f7e9e3a5725c",
      "7b3cb57df68c4b78836a1858c5f283f6",
      "08e020b178f4464dbb92d9a19e9f2f55",
      "28fbfca12d604d129ed7477e89c65162",
      "c3bcc14682504c988caf16feb404ab4c",
      "e9e98ba4f5d14391a0c87814fd2a614b",
      "627b75223f554dfaa1667c8c95bab581",
      "b1cef406132d4b70b2bad23640718a05",
      "39234ffbdfb74d52a6fa619ca9454971",
      "468ea8a0309a45f2b8a3b779831071ec",
      "6b9ad8e62ad54c44a6f1132048c3b10b",
      "ab5e298b9409485b807a06f6124dd97a",
      "9e5eb54dc69941b389c3f5aa6b72186f",
      "f0dd0857a6fe4b11ad43ad7eaab94fee",
      "982e547029d74ff4b363bb0e59cdde08",
      "9c688d84fd2f45b3a2ded56b86934846",
      "f1684e97f56a4df686682252fa04e651",
      "943c3f47cd0a4bee89fc9bcef31eb173",
      "118eceef14de443398afd2049d6ac5cf",
      "fc688b788aff4d259c9f824bdfe6899e",
      "1facfcea293b4e9a83d2877d789ca508",
      "5a25dc3aff4548c8ad2416435d2c5204",
      "057e1848ce164dc4932b3383dc8bd20e",
      "47a8f4478151418eb27480493cd9f4da",
      "ad64ad684c5e4892a7ff5a57c9ec91c3",
      "9a771242f8154b05990c375c46465c9a",
      "2dd55d11e5e3460ba2dc69898d5789bf",
      "eb230124e4b140008420cdbdce4fc512",
      "88cea26e6e224036a9b7c3125b3e1bcf"
     ]
    },
    "executionInfo": {
     "elapsed": 1436,
     "status": "ok",
     "timestamp": 1734182196133,
     "user": {
      "displayName": "Pavel Efimov",
      "userId": "11310524505359177201"
     },
     "user_tz": -180
    },
    "id": "885b504a",
    "outputId": "b78c20c8-07f3-42ea-82fc-05ba543d5eda"
   },
   "outputs": [
    {
     "data": {
      "application/vnd.jupyter.widget-view+json": {
       "model_id": "71219991109947e3a46f40c89beaa647",
       "version_major": 2,
       "version_minor": 0
      },
      "text/plain": [
       "Map:   0%|          | 0/13084 [00:00<?, ? examples/s]"
      ]
     },
     "metadata": {},
     "output_type": "display_data"
    },
    {
     "data": {
      "application/vnd.jupyter.widget-view+json": {
       "model_id": "b1cef406132d4b70b2bad23640718a05",
       "version_major": 2,
       "version_minor": 0
      },
      "text/plain": [
       "Map:   0%|          | 0/700 [00:00<?, ? examples/s]"
      ]
     },
     "metadata": {},
     "output_type": "display_data"
    },
    {
     "data": {
      "application/vnd.jupyter.widget-view+json": {
       "model_id": "118eceef14de443398afd2049d6ac5cf",
       "version_major": 2,
       "version_minor": 0
      },
      "text/plain": [
       "Map:   0%|          | 0/700 [00:00<?, ? examples/s]"
      ]
     },
     "metadata": {},
     "output_type": "display_data"
    }
   ],
   "source": [
    "transformed_data = datasets.map(numericalize_data, fn_kwargs={'tokens_vocab': tokens_vocab,\n",
    "                                                          'label_to_idx': label_to_idx},\n",
    "                                remove_columns=[\"tags\"])"
   ]
  },
  {
   "cell_type": "code",
   "execution_count": 29,
   "id": "Nqe-vyagzK5L",
   "metadata": {
    "colab": {
     "base_uri": "https://localhost:8080/"
    },
    "executionInfo": {
     "elapsed": 5,
     "status": "ok",
     "timestamp": 1734182196133,
     "user": {
      "displayName": "Pavel Efimov",
      "userId": "11310524505359177201"
     },
     "user_tz": -180
    },
    "id": "Nqe-vyagzK5L",
    "outputId": "7164d22c-c934-4e10-e705-c3e089e3dc6a"
   },
   "outputs": [
    {
     "data": {
      "text/plain": [
       "{'words': [187, 5, 0, 0, 0, 19, 201, 36], 'intent': 4}"
      ]
     },
     "execution_count": 29,
     "metadata": {},
     "output_type": "execute_result"
    }
   ],
   "source": [
    "transformed_data[\"train\"][0]"
   ]
  },
  {
   "cell_type": "code",
   "execution_count": 30,
   "id": "2b956558",
   "metadata": {
    "executionInfo": {
     "elapsed": 3,
     "status": "ok",
     "timestamp": 1734182196965,
     "user": {
      "displayName": "Pavel Efimov",
      "userId": "11310524505359177201"
     },
     "user_tz": -180
    },
    "id": "2b956558"
   },
   "outputs": [],
   "source": [
    "transformed_data = transformed_data.with_format(type='torch')"
   ]
  },
  {
   "cell_type": "code",
   "execution_count": 31,
   "id": "53575424",
   "metadata": {
    "colab": {
     "base_uri": "https://localhost:8080/"
    },
    "executionInfo": {
     "elapsed": 4,
     "status": "ok",
     "timestamp": 1734182197571,
     "user": {
      "displayName": "Pavel Efimov",
      "userId": "11310524505359177201"
     },
     "user_tz": -180
    },
    "id": "53575424",
    "outputId": "e754550d-6efc-4fcb-be0c-931d0b492034"
   },
   "outputs": [
    {
     "data": {
      "text/plain": [
       "{'words': tensor([187,   5,   0,   0,   0,  19, 201,  36]),\n",
       " 'intent': tensor(4)}"
      ]
     },
     "execution_count": 31,
     "metadata": {},
     "output_type": "execute_result"
    }
   ],
   "source": [
    "transformed_data['train'][0]"
   ]
  },
  {
   "cell_type": "code",
   "execution_count": 32,
   "id": "cea5b08b",
   "metadata": {
    "executionInfo": {
     "elapsed": 4,
     "status": "ok",
     "timestamp": 1734182198042,
     "user": {
      "displayName": "Pavel Efimov",
      "userId": "11310524505359177201"
     },
     "user_tz": -180
    },
    "id": "cea5b08b"
   },
   "outputs": [],
   "source": [
    "def collate_batch(batch):\n",
    "    # print(\"Original batch:\")\n",
    "    # print(batch)\n",
    "    batch_tokens = [example['words'] for example in batch]\n",
    "    batch_labels = torch.stack([example['intent'] for example in batch])\n",
    "    batch_tokens = nn.utils.rnn.pad_sequence(batch_tokens, padding_value=tokens_vocab['<pad>'], batch_first=True)\n",
    "    batch = {'words': batch_tokens,\n",
    "             'intent': batch_labels}\n",
    "    # print(\"New batch:\")\n",
    "    # print(batch)\n",
    "    return batch"
   ]
  },
  {
   "cell_type": "code",
   "execution_count": 33,
   "id": "ab77f51c",
   "metadata": {
    "executionInfo": {
     "elapsed": 455,
     "status": "ok",
     "timestamp": 1734182200491,
     "user": {
      "displayName": "Pavel Efimov",
      "userId": "11310524505359177201"
     },
     "user_tz": -180
    },
    "id": "ab77f51c"
   },
   "outputs": [],
   "source": [
    "BATCH_SIZE = 8\n",
    "\n",
    "train_dataloader = torch.utils.data.DataLoader(transformed_data['train'],\n",
    "                                               batch_size=BATCH_SIZE,\n",
    "                                               collate_fn=collate_batch,\n",
    "                                               shuffle=True)\n",
    "\n",
    "validation_dataloader = torch.utils.data.DataLoader(transformed_data['valid'],\n",
    "                                                    batch_size=BATCH_SIZE,\n",
    "                                                    collate_fn=collate_batch)\n",
    "\n",
    "test_dataloader = torch.utils.data.DataLoader(transformed_data['test'],\n",
    "                                              batch_size=BATCH_SIZE,\n",
    "                                              collate_fn=collate_batch)"
   ]
  },
  {
   "cell_type": "code",
   "execution_count": 34,
   "id": "7cbc749a",
   "metadata": {
    "executionInfo": {
     "elapsed": 3,
     "status": "ok",
     "timestamp": 1734182200933,
     "user": {
      "displayName": "Pavel Efimov",
      "userId": "11310524505359177201"
     },
     "user_tz": -180
    },
    "id": "7cbc749a"
   },
   "outputs": [],
   "source": [
    "for batch in train_dataloader:\n",
    "    break"
   ]
  },
  {
   "cell_type": "code",
   "execution_count": 35,
   "id": "9ebad518",
   "metadata": {
    "colab": {
     "base_uri": "https://localhost:8080/"
    },
    "executionInfo": {
     "elapsed": 439,
     "status": "ok",
     "timestamp": 1734182234460,
     "user": {
      "displayName": "Pavel Efimov",
      "userId": "11310524505359177201"
     },
     "user_tz": -180
    },
    "id": "9ebad518",
    "outputId": "84d97a2c-0028-4669-ac36-ffb2c4b8c90f"
   },
   "outputs": [
    {
     "data": {
      "text/plain": [
       "{'words': tensor([[  15,    0, 2064,    1,    1,    1,    1,    1,    1,    1,    1,    1,\n",
       "             1,    1,    1,    1,    1,    1],\n",
       "         [ 246,    6,   82,   47,    4,  485,   62,    1,    1,    1,    1,    1,\n",
       "             1,    1,    1,    1,    1,    1],\n",
       "         [  33,   34,   28,  496,    4,    0,  412, 1358,    1,    1,    1,    1,\n",
       "             1,    1,    1,    1,    1,    1],\n",
       "         [  11,   34,   42,    5,   28,  223,    4, 1456,   25, 1523,    1,    1,\n",
       "             1,    1,    1,    1,    1,    1],\n",
       "         [  11,   91,  228, 1360,  495,    4,   68,  338,    4,    0,  429, 1371,\n",
       "             1,    1,    1,    1,    1,    1],\n",
       "         [   8,   30,   20,   71,    3,   77,   31,    7,   21,    1,    1,    1,\n",
       "             1,    1,    1,    1,    1,    1],\n",
       "         [ 181,    3,   45,    6,   52,    9,    3,  250,   32,  145,   49,   98,\n",
       "          1510,    6,   20,  380,    4,  852],\n",
       "         [  24,   20,  101,    3,   52,    1,    1,    1,    1,    1,    1,    1,\n",
       "             1,    1,    1,    1,    1,    1]]),\n",
       " 'intent': tensor([6, 3, 0, 0, 0, 1, 2, 1])}"
      ]
     },
     "execution_count": 35,
     "metadata": {},
     "output_type": "execute_result"
    }
   ],
   "source": [
    "batch"
   ]
  },
  {
   "cell_type": "markdown",
   "id": "OMPFMXkj1u5x",
   "metadata": {
    "id": "OMPFMXkj1u5x"
   },
   "source": [
    "![](https://www.tensorflow.org/static/text/tutorials/images/bidirectional.png)"
   ]
  },
  {
   "cell_type": "code",
   "execution_count": 36,
   "id": "Jlsu3y8p2m_7",
   "metadata": {
    "colab": {
     "base_uri": "https://localhost:8080/"
    },
    "executionInfo": {
     "elapsed": 473,
     "status": "ok",
     "timestamp": 1734182317189,
     "user": {
      "displayName": "Pavel Efimov",
      "userId": "11310524505359177201"
     },
     "user_tz": -180
    },
    "id": "Jlsu3y8p2m_7",
    "outputId": "5a22230d-637e-4a15-ed34-8f4e6f7e2f35"
   },
   "outputs": [
    {
     "data": {
      "text/plain": [
       "2834"
      ]
     },
     "execution_count": 36,
     "metadata": {},
     "output_type": "execute_result"
    }
   ],
   "source": [
    "len(tokens_vocab)"
   ]
  },
  {
   "cell_type": "code",
   "execution_count": 37,
   "id": "G_e--GnQ2kfk",
   "metadata": {
    "executionInfo": {
     "elapsed": 2,
     "status": "ok",
     "timestamp": 1734182317748,
     "user": {
      "displayName": "Pavel Efimov",
      "userId": "11310524505359177201"
     },
     "user_tz": -180
    },
    "id": "G_e--GnQ2kfk"
   },
   "outputs": [],
   "source": [
    "embedding_layer = nn.Embedding(len(tokens_vocab), 50, padding_idx=pad_index)"
   ]
  },
  {
   "cell_type": "code",
   "execution_count": 38,
   "id": "iaGYoF6P3Co-",
   "metadata": {
    "colab": {
     "base_uri": "https://localhost:8080/"
    },
    "executionInfo": {
     "elapsed": 618,
     "status": "ok",
     "timestamp": 1734182324845,
     "user": {
      "displayName": "Pavel Efimov",
      "userId": "11310524505359177201"
     },
     "user_tz": -180
    },
    "id": "iaGYoF6P3Co-",
    "outputId": "a6ece49b-c012-4d89-b774-2b39c2f1b01a"
   },
   "outputs": [
    {
     "name": "stdout",
     "output_type": "stream",
     "text": [
      "torch.Size([2834, 50])\n"
     ]
    }
   ],
   "source": [
    "for parameter in embedding_layer.parameters():\n",
    "    embeddings_matrix = parameter\n",
    "    print(parameter.shape)"
   ]
  },
  {
   "cell_type": "code",
   "execution_count": 39,
   "id": "LaIj0nsw3bDp",
   "metadata": {
    "colab": {
     "base_uri": "https://localhost:8080/"
    },
    "executionInfo": {
     "elapsed": 611,
     "status": "ok",
     "timestamp": 1734182378179,
     "user": {
      "displayName": "Pavel Efimov",
      "userId": "11310524505359177201"
     },
     "user_tz": -180
    },
    "id": "LaIj0nsw3bDp",
    "outputId": "39753884-b816-4abe-81d7-d3a531452584"
   },
   "outputs": [
    {
     "data": {
      "text/plain": [
       "tensor([0., 0., 0., 0., 0., 0., 0., 0., 0., 0., 0., 0., 0., 0., 0., 0., 0., 0., 0., 0., 0., 0., 0., 0.,\n",
       "        0., 0., 0., 0., 0., 0., 0., 0., 0., 0., 0., 0., 0., 0., 0., 0., 0., 0., 0., 0., 0., 0., 0., 0.,\n",
       "        0., 0.], grad_fn=<SelectBackward0>)"
      ]
     },
     "execution_count": 39,
     "metadata": {},
     "output_type": "execute_result"
    }
   ],
   "source": [
    "embeddings_matrix[1] # <pad> embedding"
   ]
  },
  {
   "cell_type": "code",
   "execution_count": 40,
   "id": "7hYD1kZn4GGo",
   "metadata": {
    "colab": {
     "base_uri": "https://localhost:8080/"
    },
    "executionInfo": {
     "elapsed": 491,
     "status": "ok",
     "timestamp": 1734182384814,
     "user": {
      "displayName": "Pavel Efimov",
      "userId": "11310524505359177201"
     },
     "user_tz": -180
    },
    "id": "7hYD1kZn4GGo",
    "outputId": "0634206e-8fa4-4921-dd87-29bf2f29f1bf"
   },
   "outputs": [
    {
     "data": {
      "text/plain": [
       "tensor([ 0.1650,  0.0204,  1.2037,  0.2401, -0.1820, -0.2186, -0.5963, -0.5573,\n",
       "        -0.5243, -0.3910, -2.0050, -0.5602, -0.2162,  1.1429, -1.1941, -0.4540,\n",
       "        -1.0449,  0.7967,  0.8036,  0.4676,  0.1720,  0.7576, -1.1577,  0.4929,\n",
       "        -1.7412,  0.7552, -0.0104,  0.4833,  0.0666, -0.8208,  0.3908, -0.6064,\n",
       "        -1.1170,  1.0868,  0.4369, -0.1457,  0.7368,  1.4199, -0.4872, -0.5149,\n",
       "        -1.7396,  0.3496,  1.4956,  0.4697, -0.1690,  0.8187,  0.1733,  1.8932,\n",
       "         1.1973,  0.0214], grad_fn=<SelectBackward0>)"
      ]
     },
     "execution_count": 40,
     "metadata": {},
     "output_type": "execute_result"
    }
   ],
   "source": [
    "embeddings_matrix[100]"
   ]
  },
  {
   "cell_type": "code",
   "execution_count": 41,
   "id": "n9sacT2l4IoW",
   "metadata": {
    "colab": {
     "base_uri": "https://localhost:8080/"
    },
    "executionInfo": {
     "elapsed": 456,
     "status": "ok",
     "timestamp": 1734182388573,
     "user": {
      "displayName": "Pavel Efimov",
      "userId": "11310524505359177201"
     },
     "user_tz": -180
    },
    "id": "n9sacT2l4IoW",
    "outputId": "45a33d90-99ef-46d5-c4a0-d2b922f90a32"
   },
   "outputs": [
    {
     "data": {
      "text/plain": [
       "tensor([ 0.2214, -1.3330,  0.3819, -1.5220,  0.5055,  1.2236,  0.4525, -0.5733,\n",
       "        -1.7215, -0.2373, -0.2025,  0.4404, -0.3318,  0.8093, -1.0093,  1.1528,\n",
       "        -0.2871, -0.8127,  0.4055,  0.6531,  0.9512, -1.6428, -0.4955, -0.6698,\n",
       "        -1.1607,  0.0861,  0.9691,  0.1373, -1.1436,  0.7346,  1.4399,  0.9323,\n",
       "        -0.5145,  1.5709,  1.1021, -0.7499, -1.3485,  0.0300, -0.7286,  0.5937,\n",
       "        -1.2953,  0.9768, -0.4292, -0.7080, -1.7187,  0.0722,  2.0081,  0.3306,\n",
       "        -0.4974, -2.3718], grad_fn=<SelectBackward0>)"
      ]
     },
     "execution_count": 41,
     "metadata": {},
     "output_type": "execute_result"
    }
   ],
   "source": [
    "embeddings_matrix[150]"
   ]
  },
  {
   "cell_type": "code",
   "execution_count": 42,
   "id": "7yTaTnfe4bXM",
   "metadata": {
    "colab": {
     "base_uri": "https://localhost:8080/"
    },
    "executionInfo": {
     "elapsed": 463,
     "status": "ok",
     "timestamp": 1734182401412,
     "user": {
      "displayName": "Pavel Efimov",
      "userId": "11310524505359177201"
     },
     "user_tz": -180
    },
    "id": "7yTaTnfe4bXM",
    "outputId": "0b5cad73-db21-415d-8125-dd3b2c0280c5"
   },
   "outputs": [
    {
     "data": {
      "text/plain": [
       "torch.Size([8, 18])"
      ]
     },
     "execution_count": 42,
     "metadata": {},
     "output_type": "execute_result"
    }
   ],
   "source": [
    "batch[\"words\"].shape # (batch_size, max_len_batch)"
   ]
  },
  {
   "cell_type": "code",
   "execution_count": 43,
   "id": "KfT0xEf_4oay",
   "metadata": {
    "executionInfo": {
     "elapsed": 3,
     "status": "ok",
     "timestamp": 1734182402981,
     "user": {
      "displayName": "Pavel Efimov",
      "userId": "11310524505359177201"
     },
     "user_tz": -180
    },
    "id": "KfT0xEf_4oay"
   },
   "outputs": [],
   "source": [
    "emb_batch = embedding_layer(batch[\"words\"])"
   ]
  },
  {
   "cell_type": "code",
   "execution_count": 44,
   "id": "9duRLnPZ4xyl",
   "metadata": {
    "colab": {
     "base_uri": "https://localhost:8080/"
    },
    "executionInfo": {
     "elapsed": 462,
     "status": "ok",
     "timestamp": 1734182411261,
     "user": {
      "displayName": "Pavel Efimov",
      "userId": "11310524505359177201"
     },
     "user_tz": -180
    },
    "id": "9duRLnPZ4xyl",
    "outputId": "8cd6a5c8-6f50-4ac1-facf-7ffd2cb3cfe3"
   },
   "outputs": [
    {
     "data": {
      "text/plain": [
       "torch.Size([8, 18, 50])"
      ]
     },
     "execution_count": 44,
     "metadata": {},
     "output_type": "execute_result"
    }
   ],
   "source": [
    "emb_batch.shape # (batch_size, max_len_batch, emb_dim)"
   ]
  },
  {
   "cell_type": "code",
   "execution_count": 100,
   "id": "VP7f9hfYU97W",
   "metadata": {
    "executionInfo": {
     "elapsed": 5,
     "status": "ok",
     "timestamp": 1734184043162,
     "user": {
      "displayName": "Pavel Efimov",
      "userId": "11310524505359177201"
     },
     "user_tz": -180
    },
    "id": "VP7f9hfYU97W"
   },
   "outputs": [],
   "source": [
    "embedding_dim=50\n",
    "hidden_dim=25\n",
    "n_layers=1\n",
    "bidirectional=False\n",
    "lstm = nn.LSTM(embedding_dim, hidden_dim, n_layers, bidirectional, dropout=0, batch_first=True)"
   ]
  },
  {
   "cell_type": "code",
   "execution_count": 101,
   "id": "-yJ_xM0iWH_O",
   "metadata": {
    "executionInfo": {
     "elapsed": 9,
     "status": "ok",
     "timestamp": 1734184043619,
     "user": {
      "displayName": "Pavel Efimov",
      "userId": "11310524505359177201"
     },
     "user_tz": -180
    },
    "id": "-yJ_xM0iWH_O"
   },
   "outputs": [],
   "source": [
    "output, (hidden, cell) = lstm(emb_batch)"
   ]
  },
  {
   "cell_type": "code",
   "execution_count": 102,
   "id": "DhSPSrP_WSAW",
   "metadata": {
    "colab": {
     "base_uri": "https://localhost:8080/"
    },
    "executionInfo": {
     "elapsed": 8,
     "status": "ok",
     "timestamp": 1734184043619,
     "user": {
      "displayName": "Pavel Efimov",
      "userId": "11310524505359177201"
     },
     "user_tz": -180
    },
    "id": "DhSPSrP_WSAW",
    "outputId": "64727331-7d0e-4e91-c5e2-7e0251f70ef8"
   },
   "outputs": [
    {
     "data": {
      "text/plain": [
       "torch.Size([8, 18, 25])"
      ]
     },
     "execution_count": 102,
     "metadata": {},
     "output_type": "execute_result"
    }
   ],
   "source": [
    "output.shape # полезный выход для каждого слова, можно использовать в задачах\n",
    "# batch_size x max_len x hidden_dim"
   ]
  },
  {
   "cell_type": "code",
   "execution_count": 103,
   "id": "G1_lgQ0vXV1G",
   "metadata": {
    "colab": {
     "base_uri": "https://localhost:8080/"
    },
    "executionInfo": {
     "elapsed": 7,
     "status": "ok",
     "timestamp": 1734184043619,
     "user": {
      "displayName": "Pavel Efimov",
      "userId": "11310524505359177201"
     },
     "user_tz": -180
    },
    "id": "G1_lgQ0vXV1G",
    "outputId": "c195d57a-4dd3-47b5-d385-a068580b4210"
   },
   "outputs": [
    {
     "data": {
      "text/plain": [
       "torch.Size([1, 8, 25])"
      ]
     },
     "execution_count": 103,
     "metadata": {},
     "output_type": "execute_result"
    }
   ],
   "source": [
    "hidden.shape # выход для последнего слова, типа векторное представление всего предложения\n",
    "# 1 x batch_size x hidden_dim"
   ]
  },
  {
   "cell_type": "code",
   "execution_count": 104,
   "id": "6nQp5ZdcYPh1",
   "metadata": {
    "colab": {
     "base_uri": "https://localhost:8080/"
    },
    "executionInfo": {
     "elapsed": 4,
     "status": "ok",
     "timestamp": 1734184044191,
     "user": {
      "displayName": "Pavel Efimov",
      "userId": "11310524505359177201"
     },
     "user_tz": -180
    },
    "id": "6nQp5ZdcYPh1",
    "outputId": "b7161e0a-0d6c-4fd7-f55a-3a6bb530ad3d"
   },
   "outputs": [
    {
     "data": {
      "text/plain": [
       "tensor([-1.1245e-04,  1.9062e-04, -1.3555e-04,  1.9626e-04,  3.8035e-04,\n",
       "         1.5671e-04, -2.0670e-04, -5.8348e-05,  2.3163e-04,  1.6093e-04,\n",
       "        -9.8339e-05, -1.3441e-05,  9.4474e-05,  4.6222e-05, -5.2591e-05,\n",
       "        -8.3183e-05,  6.8734e-05,  5.0102e-05, -1.9819e-04, -8.8560e-05,\n",
       "         4.0308e-05,  2.1371e-04, -5.5684e-05, -6.5188e-05,  7.6373e-06],\n",
       "       grad_fn=<SelectBackward0>)"
      ]
     },
     "execution_count": 104,
     "metadata": {},
     "output_type": "execute_result"
    }
   ],
   "source": [
    "hidden[0][0]"
   ]
  },
  {
   "cell_type": "code",
   "execution_count": 105,
   "id": "65JDk-f3Ym2W",
   "metadata": {
    "colab": {
     "base_uri": "https://localhost:8080/"
    },
    "executionInfo": {
     "elapsed": 459,
     "status": "ok",
     "timestamp": 1734184045902,
     "user": {
      "displayName": "Pavel Efimov",
      "userId": "11310524505359177201"
     },
     "user_tz": -180
    },
    "id": "65JDk-f3Ym2W",
    "outputId": "ee914501-833b-4df9-ebd1-28b53ffcce0b"
   },
   "outputs": [
    {
     "data": {
      "text/plain": [
       "tensor([-1.1245e-04,  1.9062e-04, -1.3555e-04,  1.9626e-04,  3.8035e-04,\n",
       "         1.5671e-04, -2.0670e-04, -5.8348e-05,  2.3163e-04,  1.6093e-04,\n",
       "        -9.8339e-05, -1.3441e-05,  9.4474e-05,  4.6222e-05, -5.2591e-05,\n",
       "        -8.3183e-05,  6.8734e-05,  5.0102e-05, -1.9819e-04, -8.8560e-05,\n",
       "         4.0308e-05,  2.1371e-04, -5.5684e-05, -6.5188e-05,  7.6373e-06],\n",
       "       grad_fn=<SelectBackward0>)"
      ]
     },
     "execution_count": 105,
     "metadata": {},
     "output_type": "execute_result"
    }
   ],
   "source": [
    "output[0][-1]"
   ]
  },
  {
   "cell_type": "code",
   "execution_count": 106,
   "id": "oLprB7B3XH_0",
   "metadata": {
    "colab": {
     "base_uri": "https://localhost:8080/"
    },
    "executionInfo": {
     "elapsed": 12,
     "status": "ok",
     "timestamp": 1734184045903,
     "user": {
      "displayName": "Pavel Efimov",
      "userId": "11310524505359177201"
     },
     "user_tz": -180
    },
    "id": "oLprB7B3XH_0",
    "outputId": "fe3b4773-53be-4a44-df4d-dd6a4957508f"
   },
   "outputs": [
    {
     "data": {
      "text/plain": [
       "torch.Size([1, 8, 25])"
      ]
     },
     "execution_count": 106,
     "metadata": {},
     "output_type": "execute_result"
    }
   ],
   "source": [
    "cell.shape # \"бесполезный\" для нас контекст, которым обменивается LSTM"
   ]
  },
  {
   "cell_type": "code",
   "execution_count": 113,
   "id": "K9YqevEBbhGr",
   "metadata": {
    "colab": {
     "base_uri": "https://localhost:8080/"
    },
    "executionInfo": {
     "elapsed": 466,
     "status": "ok",
     "timestamp": 1734184277821,
     "user": {
      "displayName": "Pavel Efimov",
      "userId": "11310524505359177201"
     },
     "user_tz": -180
    },
    "id": "K9YqevEBbhGr",
    "outputId": "27797893-bba6-40ab-d8b7-26a75657b432"
   },
   "outputs": [
    {
     "data": {
      "text/plain": [
       "tensor([[ 0.,  1.,  2.,  3.,  4.],\n",
       "        [ 5.,  6.,  7.,  8.,  9.],\n",
       "        [10., 11., 12., 13., 14.],\n",
       "        [15., 16., 17., 18., 19.]])"
      ]
     },
     "execution_count": 113,
     "metadata": {},
     "output_type": "execute_result"
    }
   ],
   "source": [
    "X = torch.arange(20, dtype=torch.float).reshape(4, 5)\n",
    "X"
   ]
  },
  {
   "cell_type": "code",
   "execution_count": 116,
   "id": "y8C1tP-7bvJL",
   "metadata": {
    "executionInfo": {
     "elapsed": 452,
     "status": "ok",
     "timestamp": 1734184306462,
     "user": {
      "displayName": "Pavel Efimov",
      "userId": "11310524505359177201"
     },
     "user_tz": -180
    },
    "id": "y8C1tP-7bvJL"
   },
   "outputs": [],
   "source": [
    "dropout = nn.Dropout(0.50)"
   ]
  },
  {
   "cell_type": "code",
   "execution_count": 117,
   "id": "1KkWRtG8bzS3",
   "metadata": {
    "colab": {
     "base_uri": "https://localhost:8080/"
    },
    "executionInfo": {
     "elapsed": 489,
     "status": "ok",
     "timestamp": 1734184308523,
     "user": {
      "displayName": "Pavel Efimov",
      "userId": "11310524505359177201"
     },
     "user_tz": -180
    },
    "id": "1KkWRtG8bzS3",
    "outputId": "0f9229a4-62b9-4065-f2b8-7b3053594240"
   },
   "outputs": [
    {
     "data": {
      "text/plain": [
       "tensor([[ 0.,  0.,  4.,  0.,  8.],\n",
       "        [ 0., 12., 14.,  0.,  0.],\n",
       "        [20., 22., 24., 26., 28.],\n",
       "        [30., 32.,  0., 36., 38.]])"
      ]
     },
     "execution_count": 117,
     "metadata": {},
     "output_type": "execute_result"
    }
   ],
   "source": [
    "dropout(X)"
   ]
  },
  {
   "cell_type": "markdown",
   "id": "TkxBXKIlTmMn",
   "metadata": {
    "id": "TkxBXKIlTmMn"
   },
   "source": [
    "![](https://colah.github.io/posts/2015-08-Understanding-LSTMs/img/LSTM3-chain.png)"
   ]
  },
  {
   "cell_type": "code",
   "execution_count": null,
   "id": "sQgfNgb2bPHX",
   "metadata": {
    "id": "sQgfNgb2bPHX"
   },
   "outputs": [],
   "source": []
  },
  {
   "cell_type": "code",
   "execution_count": 118,
   "id": "53427b55",
   "metadata": {
    "executionInfo": {
     "elapsed": 539,
     "status": "ok",
     "timestamp": 1734184613992,
     "user": {
      "displayName": "Pavel Efimov",
      "userId": "11310524505359177201"
     },
     "user_tz": -180
    },
    "id": "53427b55"
   },
   "outputs": [],
   "source": [
    "class LSTM(nn.Module):\n",
    "    def __init__(self, vocab_size, embedding_dim, hidden_dim, output_dim, n_layers, bidirectional,\n",
    "                 dropout_rate, pad_index):\n",
    "        super().__init__()\n",
    "        self.embedding = nn.Embedding(vocab_size, embedding_dim, padding_idx=pad_index)\n",
    "        self.lstm = nn.LSTM(embedding_dim, hidden_dim, n_layers, bidirectional=bidirectional,\n",
    "                            dropout=dropout_rate, batch_first=True)\n",
    "        self.fc = nn.Linear(hidden_dim * 2 if bidirectional else hidden_dim, output_dim)\n",
    "        self.dropout = nn.Dropout(dropout_rate)\n",
    "\n",
    "    def forward(self, ids):\n",
    "        # ids = [batch size, seq len]\n",
    "        embedded = self.dropout(self.embedding(ids))\n",
    "        # embedded = [batch size, seq len, embedding dim]\n",
    "        output, (hidden, cell) = self.lstm(embedded) # hidden -- вектор после обработки последнего слова предложения\n",
    "        # hidden = [n layers * n directions, batch size, hidden dim]\n",
    "        # cell = [n layers * n directions, batch size, hidden dim]\n",
    "        # output = [batch size, seq len, hidden dim * n directions]\n",
    "        if self.lstm.bidirectional:\n",
    "            hidden = self.dropout(torch.cat([hidden[-1], hidden[-2]], dim=-1))\n",
    "            # hidden = [batch size, hidden dim * 2]\n",
    "        else:\n",
    "            hidden = self.dropout(hidden[-1])\n",
    "            # hidden = [batch size, hidden dim]\n",
    "        prediction = self.fc(hidden)\n",
    "        # prediction = [batch size, output dim]\n",
    "        return prediction"
   ]
  },
  {
   "cell_type": "code",
   "execution_count": 119,
   "id": "11206188",
   "metadata": {
    "executionInfo": {
     "elapsed": 463,
     "status": "ok",
     "timestamp": 1734184629053,
     "user": {
      "displayName": "Pavel Efimov",
      "userId": "11310524505359177201"
     },
     "user_tz": -180
    },
    "id": "11206188"
   },
   "outputs": [],
   "source": [
    "vocab_size = len(tokens_vocab)\n",
    "embedding_dim = 100\n",
    "hidden_dim = 100\n",
    "output_dim = len(idx_to_label)\n",
    "n_layers = 2\n",
    "bidirectional = True\n",
    "dropout_rate = 0.5\n",
    "\n",
    "model = LSTM(vocab_size, embedding_dim, hidden_dim, output_dim, n_layers, bidirectional, dropout_rate,\n",
    "             pad_index)"
   ]
  },
  {
   "cell_type": "code",
   "execution_count": 120,
   "id": "5feb9512",
   "metadata": {
    "colab": {
     "base_uri": "https://localhost:8080/"
    },
    "executionInfo": {
     "elapsed": 477,
     "status": "ok",
     "timestamp": 1734184632243,
     "user": {
      "displayName": "Pavel Efimov",
      "userId": "11310524505359177201"
     },
     "user_tz": -180
    },
    "id": "5feb9512",
    "outputId": "7e89631c-234b-431d-a06a-e479d244d306"
   },
   "outputs": [
    {
     "name": "stdout",
     "output_type": "stream",
     "text": [
      "The model has 688,007 trainable parameters\n"
     ]
    }
   ],
   "source": [
    "def count_parameters(model):\n",
    "    return sum(p.numel() for p in model.parameters() if p.requires_grad)\n",
    "\n",
    "print(f'The model has {count_parameters(model):,} trainable parameters')"
   ]
  },
  {
   "cell_type": "code",
   "execution_count": 123,
   "id": "vzPrtuZ1d_gA",
   "metadata": {
    "colab": {
     "base_uri": "https://localhost:8080/"
    },
    "executionInfo": {
     "elapsed": 480,
     "status": "ok",
     "timestamp": 1734184828022,
     "user": {
      "displayName": "Pavel Efimov",
      "userId": "11310524505359177201"
     },
     "user_tz": -180
    },
    "id": "vzPrtuZ1d_gA",
    "outputId": "cc1a66e9-bd3d-4175-f524-0d0893d81112"
   },
   "outputs": [
    {
     "data": {
      "text/plain": [
       "2.6245384216308594"
      ]
     },
     "execution_count": 123,
     "metadata": {},
     "output_type": "execute_result"
    }
   ],
   "source": [
    "688007 * 32 / 8 / 1024 / 1024"
   ]
  },
  {
   "cell_type": "code",
   "execution_count": 124,
   "id": "e2d0b14e",
   "metadata": {
    "executionInfo": {
     "elapsed": 3280,
     "status": "ok",
     "timestamp": 1734185234127,
     "user": {
      "displayName": "Pavel Efimov",
      "userId": "11310524505359177201"
     },
     "user_tz": -180
    },
    "id": "e2d0b14e"
   },
   "outputs": [],
   "source": [
    "lr = 5e-4\n",
    "\n",
    "optimizer = optim.Adam(model.parameters(), lr=lr)"
   ]
  },
  {
   "cell_type": "code",
   "execution_count": 125,
   "id": "d798a6bd",
   "metadata": {
    "executionInfo": {
     "elapsed": 491,
     "status": "ok",
     "timestamp": 1734185238492,
     "user": {
      "displayName": "Pavel Efimov",
      "userId": "11310524505359177201"
     },
     "user_tz": -180
    },
    "id": "d798a6bd"
   },
   "outputs": [],
   "source": [
    "criterion = nn.CrossEntropyLoss() # loss function, функция ошибки"
   ]
  },
  {
   "cell_type": "code",
   "execution_count": 126,
   "id": "4a780705",
   "metadata": {
    "colab": {
     "base_uri": "https://localhost:8080/"
    },
    "executionInfo": {
     "elapsed": 10,
     "status": "ok",
     "timestamp": 1734185240176,
     "user": {
      "displayName": "Pavel Efimov",
      "userId": "11310524505359177201"
     },
     "user_tz": -180
    },
    "id": "4a780705",
    "outputId": "cb3fa0f5-b322-43a3-efb2-a5dbd0a93eb2"
   },
   "outputs": [
    {
     "data": {
      "text/plain": [
       "device(type='cuda')"
      ]
     },
     "execution_count": 126,
     "metadata": {},
     "output_type": "execute_result"
    }
   ],
   "source": [
    "device = torch.device('cuda' if torch.cuda.is_available() else 'cpu')\n",
    "device"
   ]
  },
  {
   "cell_type": "code",
   "execution_count": 127,
   "id": "8a1e9b07",
   "metadata": {
    "executionInfo": {
     "elapsed": 457,
     "status": "ok",
     "timestamp": 1734185410317,
     "user": {
      "displayName": "Pavel Efimov",
      "userId": "11310524505359177201"
     },
     "user_tz": -180
    },
    "id": "8a1e9b07"
   },
   "outputs": [],
   "source": [
    "def train(dataloader, model, criterion, optimizer, device):\n",
    "\n",
    "    model.train()\n",
    "    epoch_losses = []\n",
    "    epoch_accs = []\n",
    "\n",
    "    for batch in tqdm.tqdm(dataloader, desc='training...', file=sys.stdout):\n",
    "        ids = batch['words'].to(device)\n",
    "        label = batch['intent'].to(device)\n",
    "        prediction = model(ids)\n",
    "        loss = criterion(prediction, label)\n",
    "        accuracy = get_accuracy(prediction, label)\n",
    "        loss.backward()\n",
    "        optimizer.step()\n",
    "        epoch_losses.append(loss.item())\n",
    "        epoch_accs.append(accuracy.item())\n",
    "        optimizer.zero_grad()\n",
    "\n",
    "    return epoch_losses, epoch_accs"
   ]
  },
  {
   "cell_type": "code",
   "execution_count": 128,
   "id": "c7988786",
   "metadata": {
    "executionInfo": {
     "elapsed": 1026,
     "status": "ok",
     "timestamp": 1734185428343,
     "user": {
      "displayName": "Pavel Efimov",
      "userId": "11310524505359177201"
     },
     "user_tz": -180
    },
    "id": "c7988786"
   },
   "outputs": [],
   "source": [
    "def evaluate(dataloader, model, criterion, device):\n",
    "\n",
    "    model.eval()\n",
    "    epoch_losses = []\n",
    "    epoch_accs = []\n",
    "\n",
    "    with torch.no_grad():\n",
    "        for batch in tqdm.tqdm(dataloader, desc='evaluating...', file=sys.stdout):\n",
    "            ids = batch['words'].to(device)\n",
    "            label = batch['intent'].to(device)\n",
    "            prediction = model(ids)\n",
    "            loss = criterion(prediction, label)\n",
    "            accuracy = get_accuracy(prediction, label)\n",
    "            epoch_losses.append(loss.item())\n",
    "            epoch_accs.append(accuracy.item())\n",
    "\n",
    "    return epoch_losses, epoch_accs"
   ]
  },
  {
   "cell_type": "code",
   "execution_count": 129,
   "id": "d66535bd",
   "metadata": {
    "executionInfo": {
     "elapsed": 483,
     "status": "ok",
     "timestamp": 1734185433910,
     "user": {
      "displayName": "Pavel Efimov",
      "userId": "11310524505359177201"
     },
     "user_tz": -180
    },
    "id": "d66535bd"
   },
   "outputs": [],
   "source": [
    "def get_accuracy(prediction, label):\n",
    "    batch_size, _ = prediction.shape\n",
    "    predicted_classes = prediction.argmax(dim=-1)\n",
    "    correct_predictions = predicted_classes.eq(label).sum()\n",
    "    accuracy = correct_predictions / batch_size\n",
    "    return accuracy"
   ]
  },
  {
   "cell_type": "code",
   "execution_count": 130,
   "id": "5c8302f0",
   "metadata": {
    "executionInfo": {
     "elapsed": 464,
     "status": "ok",
     "timestamp": 1734185446724,
     "user": {
      "displayName": "Pavel Efimov",
      "userId": "11310524505359177201"
     },
     "user_tz": -180
    },
    "id": "5c8302f0"
   },
   "outputs": [],
   "source": [
    "model = model.to(device)\n",
    "criterion = criterion.to(device)"
   ]
  },
  {
   "cell_type": "code",
   "execution_count": 131,
   "id": "24c05b57",
   "metadata": {
    "colab": {
     "base_uri": "https://localhost:8080/"
    },
    "executionInfo": {
     "elapsed": 69257,
     "status": "ok",
     "timestamp": 1734185569473,
     "user": {
      "displayName": "Pavel Efimov",
      "userId": "11310524505359177201"
     },
     "user_tz": -180
    },
    "id": "24c05b57",
    "outputId": "738b9f7a-437b-4da8-a5e7-17ec10548773"
   },
   "outputs": [
    {
     "name": "stdout",
     "output_type": "stream",
     "text": [
      "training...: 100%|██████████| 1636/1636 [00:08<00:00, 202.56it/s]\n",
      "evaluating...: 100%|██████████| 88/88 [00:00<00:00, 427.37it/s]\n",
      "epoch: 1\n",
      "train_loss: 0.433, train_acc: 0.866\n",
      "valid_loss: 0.120, valid_acc: 0.959\n",
      "training...: 100%|██████████| 1636/1636 [00:06<00:00, 236.68it/s]\n",
      "evaluating...: 100%|██████████| 88/88 [00:00<00:00, 569.10it/s]\n",
      "epoch: 2\n",
      "train_loss: 0.152, train_acc: 0.953\n",
      "valid_loss: 0.086, valid_acc: 0.974\n",
      "training...: 100%|██████████| 1636/1636 [00:06<00:00, 235.73it/s]\n",
      "evaluating...: 100%|██████████| 88/88 [00:00<00:00, 600.18it/s]\n",
      "epoch: 3\n",
      "train_loss: 0.124, train_acc: 0.963\n",
      "valid_loss: 0.069, valid_acc: 0.983\n",
      "training...: 100%|██████████| 1636/1636 [00:06<00:00, 267.46it/s]\n",
      "evaluating...: 100%|██████████| 88/88 [00:00<00:00, 574.10it/s]\n",
      "epoch: 4\n",
      "train_loss: 0.090, train_acc: 0.972\n",
      "valid_loss: 0.077, valid_acc: 0.977\n",
      "training...: 100%|██████████| 1636/1636 [00:06<00:00, 235.87it/s]\n",
      "evaluating...: 100%|██████████| 88/88 [00:00<00:00, 617.37it/s]\n",
      "epoch: 5\n",
      "train_loss: 0.080, train_acc: 0.975\n",
      "valid_loss: 0.061, valid_acc: 0.984\n",
      "training...: 100%|██████████| 1636/1636 [00:06<00:00, 264.65it/s]\n",
      "evaluating...: 100%|██████████| 88/88 [00:00<00:00, 626.70it/s]\n",
      "epoch: 6\n",
      "train_loss: 0.072, train_acc: 0.977\n",
      "valid_loss: 0.065, valid_acc: 0.983\n",
      "training...: 100%|██████████| 1636/1636 [00:06<00:00, 238.84it/s]\n",
      "evaluating...: 100%|██████████| 88/88 [00:00<00:00, 623.53it/s]\n",
      "epoch: 7\n",
      "train_loss: 0.061, train_acc: 0.981\n",
      "valid_loss: 0.072, valid_acc: 0.983\n",
      "training...: 100%|██████████| 1636/1636 [00:06<00:00, 268.91it/s]\n",
      "evaluating...: 100%|██████████| 88/88 [00:00<00:00, 613.09it/s]\n",
      "epoch: 8\n",
      "train_loss: 0.061, train_acc: 0.980\n",
      "valid_loss: 0.046, valid_acc: 0.984\n",
      "training...: 100%|██████████| 1636/1636 [00:06<00:00, 236.56it/s]\n",
      "evaluating...: 100%|██████████| 88/88 [00:00<00:00, 613.49it/s]\n",
      "epoch: 9\n",
      "train_loss: 0.057, train_acc: 0.982\n",
      "valid_loss: 0.073, valid_acc: 0.983\n",
      "training...: 100%|██████████| 1636/1636 [00:06<00:00, 267.67it/s]\n",
      "evaluating...: 100%|██████████| 88/88 [00:00<00:00, 580.73it/s]\n",
      "epoch: 10\n",
      "train_loss: 0.048, train_acc: 0.986\n",
      "valid_loss: 0.079, valid_acc: 0.980\n"
     ]
    }
   ],
   "source": [
    "n_epochs = 10\n",
    "best_valid_loss = float('inf')\n",
    "\n",
    "train_losses = []\n",
    "train_accs = []\n",
    "valid_losses = []\n",
    "valid_accs = []\n",
    "\n",
    "for epoch in range(n_epochs):\n",
    "\n",
    "    train_loss, train_acc = train(train_dataloader, model, criterion, optimizer, device)\n",
    "    valid_loss, valid_acc = evaluate(validation_dataloader, model, criterion, device)\n",
    "\n",
    "    train_losses.extend(train_loss)\n",
    "    train_accs.extend(train_acc)\n",
    "    valid_losses.extend(valid_loss)\n",
    "    valid_accs.extend(valid_acc)\n",
    "\n",
    "    epoch_train_loss = np.mean(train_loss)\n",
    "    epoch_train_acc = np.mean(train_acc)\n",
    "    epoch_valid_loss = np.mean(valid_loss)\n",
    "    epoch_valid_acc = np.mean(valid_acc)\n",
    "\n",
    "    if epoch_valid_loss < best_valid_loss:\n",
    "        best_valid_loss = epoch_valid_loss\n",
    "        torch.save(model.state_dict(), 'lstm.pt')\n",
    "\n",
    "    print(f'epoch: {epoch+1}')\n",
    "    print(f'train_loss: {epoch_train_loss:.3f}, train_acc: {epoch_train_acc:.3f}')\n",
    "    print(f'valid_loss: {epoch_valid_loss:.3f}, valid_acc: {epoch_valid_acc:.3f}')"
   ]
  },
  {
   "cell_type": "code",
   "execution_count": 132,
   "id": "b360d0cd",
   "metadata": {
    "colab": {
     "base_uri": "https://localhost:8080/",
     "height": 542
    },
    "executionInfo": {
     "elapsed": 1211,
     "status": "ok",
     "timestamp": 1734185576063,
     "user": {
      "displayName": "Pavel Efimov",
      "userId": "11310524505359177201"
     },
     "user_tz": -180
    },
    "id": "b360d0cd",
    "outputId": "d3995f08-f009-4f19-f440-a707b5b0c8e0"
   },
   "outputs": [
    {
     "data": {
      "image/png": "[encoded data removed]",
      "text/plain": [
       "<Figure size 1000x600 with 1 Axes>"
      ]
     },
     "metadata": {},
     "output_type": "display_data"
    }
   ],
   "source": [
    "fig = plt.figure(figsize=(10,6))\n",
    "ax = fig.add_subplot(1,1,1)\n",
    "ax.plot(train_losses, label='train loss')\n",
    "ax.plot(valid_losses, label='valid loss')\n",
    "plt.legend()\n",
    "ax.set_xlabel('updates')\n",
    "ax.set_ylabel('loss');"
   ]
  },
  {
   "cell_type": "code",
   "execution_count": 133,
   "id": "742a6855",
   "metadata": {
    "colab": {
     "base_uri": "https://localhost:8080/",
     "height": 542
    },
    "executionInfo": {
     "elapsed": 1251,
     "status": "ok",
     "timestamp": 1734185581342,
     "user": {
      "displayName": "Pavel Efimov",
      "userId": "11310524505359177201"
     },
     "user_tz": -180
    },
    "id": "742a6855",
    "outputId": "30df97e5-22a1-4f82-e6a4-1ad155b4de9c"
   },
   "outputs": [
    {
     "data": {
      "image/png": "[encoded data removed]",
      "text/plain": [
       "<Figure size 1000x600 with 1 Axes>"
      ]
     },
     "metadata": {},
     "output_type": "display_data"
    }
   ],
   "source": [
    "fig = plt.figure(figsize=(10,6))\n",
    "ax = fig.add_subplot(1,1,1)\n",
    "ax.plot(train_accs, label='train accuracy')\n",
    "ax.plot(valid_accs, label='valid accuracy')\n",
    "plt.legend()\n",
    "ax.set_xlabel('updates')\n",
    "ax.set_ylabel('accuracy');"
   ]
  },
  {
   "cell_type": "code",
   "execution_count": 134,
   "id": "8b89f53f",
   "metadata": {
    "colab": {
     "base_uri": "https://localhost:8080/"
    },
    "executionInfo": {
     "elapsed": 459,
     "status": "ok",
     "timestamp": 1734185620095,
     "user": {
      "displayName": "Pavel Efimov",
      "userId": "11310524505359177201"
     },
     "user_tz": -180
    },
    "id": "8b89f53f",
    "outputId": "cd54a310-91f7-4909-e27d-618a61d0c403"
   },
   "outputs": [
    {
     "name": "stdout",
     "output_type": "stream",
     "text": [
      "evaluating...: 100%|██████████| 88/88 [00:00<00:00, 503.97it/s]\n",
      "test_loss: 0.077, test_acc: 0.970\n"
     ]
    }
   ],
   "source": [
    "model.load_state_dict(torch.load('lstm.pt'))\n",
    "\n",
    "test_loss, test_acc = evaluate(test_dataloader, model, criterion, device)\n",
    "\n",
    "epoch_test_loss = np.mean(test_loss)\n",
    "epoch_test_acc = np.mean(test_acc)\n",
    "\n",
    "print(f'test_loss: {epoch_test_loss:.3f}, test_acc: {epoch_test_acc:.3f}')"
   ]
  },
  {
   "cell_type": "code",
   "execution_count": 136,
   "id": "_dyVK4dohNXG",
   "metadata": {
    "colab": {
     "base_uri": "https://localhost:8080/"
    },
    "executionInfo": {
     "elapsed": 8,
     "status": "ok",
     "timestamp": 1734185707805,
     "user": {
      "displayName": "Pavel Efimov",
      "userId": "11310524505359177201"
     },
     "user_tz": -180
    },
    "id": "_dyVK4dohNXG",
    "outputId": "ab3d09fa-d5b9-4cc1-b287-87ec8d9c5d5b"
   },
   "outputs": [
    {
     "data": {
      "text/plain": [
       "['book', 'canteen', 'at', '16', 'o', 'clock']"
      ]
     },
     "execution_count": 136,
     "metadata": {},
     "output_type": "execute_result"
    }
   ],
   "source": [
    "text = 'book canteen at 16 o clock'\n",
    "\n",
    "words = word_tokenize(text, language='russian')\n",
    "words"
   ]
  },
  {
   "cell_type": "code",
   "execution_count": 138,
   "id": "6xrtnK8MhfXf",
   "metadata": {
    "colab": {
     "base_uri": "https://localhost:8080/"
    },
    "executionInfo": {
     "elapsed": 490,
     "status": "ok",
     "timestamp": 1734185731068,
     "user": {
      "displayName": "Pavel Efimov",
      "userId": "11310524505359177201"
     },
     "user_tz": -180
    },
    "id": "6xrtnK8MhfXf",
    "outputId": "d62c466a-ff41-4d13-9331-e46a4f2f46f6"
   },
   "outputs": [
    {
     "data": {
      "text/plain": [
       "[12, 0, 9, 501, 179, 184]"
      ]
     },
     "execution_count": 138,
     "metadata": {},
     "output_type": "execute_result"
    }
   ],
   "source": [
    "ids = tokens_vocab.forward(words)\n",
    "ids"
   ]
  },
  {
   "cell_type": "code",
   "execution_count": 139,
   "id": "7xnvjhgHhn4M",
   "metadata": {
    "colab": {
     "base_uri": "https://localhost:8080/"
    },
    "executionInfo": {
     "elapsed": 14,
     "status": "ok",
     "timestamp": 1734185751444,
     "user": {
      "displayName": "Pavel Efimov",
      "userId": "11310524505359177201"
     },
     "user_tz": -180
    },
    "id": "7xnvjhgHhn4M",
    "outputId": "e8f7f741-2aac-4f17-b5a8-b7b9e276f2d3"
   },
   "outputs": [
    {
     "data": {
      "text/plain": [
       "tensor([[ 12,   0,   9, 501, 179, 184]], device='cuda:0')"
      ]
     },
     "execution_count": 139,
     "metadata": {},
     "output_type": "execute_result"
    }
   ],
   "source": [
    "tensor = torch.LongTensor(ids).unsqueeze(dim=0).to(device)\n",
    "tensor"
   ]
  },
  {
   "cell_type": "code",
   "execution_count": 140,
   "id": "WpXRcdgvhsW3",
   "metadata": {
    "colab": {
     "base_uri": "https://localhost:8080/"
    },
    "executionInfo": {
     "elapsed": 473,
     "status": "ok",
     "timestamp": 1734185776722,
     "user": {
      "displayName": "Pavel Efimov",
      "userId": "11310524505359177201"
     },
     "user_tz": -180
    },
    "id": "WpXRcdgvhsW3",
    "outputId": "3400737e-e665-43ba-e832-69de92f6a71c"
   },
   "outputs": [
    {
     "name": "stdout",
     "output_type": "stream",
     "text": [
      "tensor([-0.1965, -1.9097,  8.0413,  0.0791, -2.2432, -2.4152, -1.3948],\n",
      "       device='cuda:0', grad_fn=<SqueezeBackward1>)\n"
     ]
    }
   ],
   "source": [
    "prediction = model(tensor).squeeze(dim=0)\n",
    "print(prediction)"
   ]
  },
  {
   "cell_type": "code",
   "execution_count": 141,
   "id": "zuS4Lp1ehwSU",
   "metadata": {
    "colab": {
     "base_uri": "https://localhost:8080/"
    },
    "executionInfo": {
     "elapsed": 496,
     "status": "ok",
     "timestamp": 1734185792578,
     "user": {
      "displayName": "Pavel Efimov",
      "userId": "11310524505359177201"
     },
     "user_tz": -180
    },
    "id": "zuS4Lp1ehwSU",
    "outputId": "a79ebdb2-8c9c-46bc-a2eb-f70637caf457"
   },
   "outputs": [
    {
     "data": {
      "text/plain": [
       "tensor([2.6426e-04, 4.7639e-05, 9.9920e-01, 3.4811e-04, 3.4130e-05, 2.8736e-05,\n",
       "        7.9724e-05], device='cuda:0', grad_fn=<SoftmaxBackward0>)"
      ]
     },
     "execution_count": 141,
     "metadata": {},
     "output_type": "execute_result"
    }
   ],
   "source": [
    "probability = torch.softmax(prediction, dim=-1)\n",
    "probability"
   ]
  },
  {
   "cell_type": "code",
   "execution_count": 142,
   "id": "ZlYIbfoQh3fM",
   "metadata": {
    "colab": {
     "base_uri": "https://localhost:8080/"
    },
    "executionInfo": {
     "elapsed": 482,
     "status": "ok",
     "timestamp": 1734185817235,
     "user": {
      "displayName": "Pavel Efimov",
      "userId": "11310524505359177201"
     },
     "user_tz": -180
    },
    "id": "ZlYIbfoQh3fM",
    "outputId": "3d7bb320-1f43-451f-a337-6349f330a909"
   },
   "outputs": [
    {
     "data": {
      "text/plain": [
       "2"
      ]
     },
     "execution_count": 142,
     "metadata": {},
     "output_type": "execute_result"
    }
   ],
   "source": [
    "predicted_idx = prediction.argmax(dim=-1).item()\n",
    "predicted_idx"
   ]
  },
  {
   "cell_type": "code",
   "execution_count": 143,
   "id": "l2HSnhEnh8MM",
   "metadata": {
    "colab": {
     "base_uri": "https://localhost:8080/",
     "height": 36
    },
    "executionInfo": {
     "elapsed": 542,
     "status": "ok",
     "timestamp": 1734185831978,
     "user": {
      "displayName": "Pavel Efimov",
      "userId": "11310524505359177201"
     },
     "user_tz": -180
    },
    "id": "l2HSnhEnh8MM",
    "outputId": "9462d009-ae2e-4734-ebf8-a39f64784fe1"
   },
   "outputs": [
    {
     "data": {
      "application/vnd.google.colaboratory.intrinsic+json": {
       "type": "string"
      },
      "text/plain": [
       "'BookRestaurant'"
      ]
     },
     "execution_count": 143,
     "metadata": {},
     "output_type": "execute_result"
    }
   ],
   "source": [
    "idx_to_label[predicted_idx]"
   ]
  },
  {
   "cell_type": "code",
   "execution_count": 144,
   "id": "c07df383",
   "metadata": {
    "executionInfo": {
     "elapsed": 514,
     "status": "ok",
     "timestamp": 1734185881563,
     "user": {
      "displayName": "Pavel Efimov",
      "userId": "11310524505359177201"
     },
     "user_tz": -180
    },
    "id": "c07df383"
   },
   "outputs": [],
   "source": [
    "def process_line(text, model, tokens_vocab, idx_to_label, device, lower=True):\n",
    "    tokens = word_tokenize(text, language='russian')\n",
    "    ids = tokens_vocab.forward(tokens)\n",
    "    tensor = torch.LongTensor(ids).unsqueeze(dim=0).to(device)\n",
    "    prediction = model(tensor).squeeze(dim=0)\n",
    "    probability = torch.softmax(prediction, dim=-1)\n",
    "    predicted_idx = prediction.argmax(dim=-1).item()\n",
    "    predicted_class = idx_to_label[predicted_idx]\n",
    "    predicted_probability = probability[predicted_idx].item()\n",
    "    return predicted_class, predicted_probability"
   ]
  },
  {
   "cell_type": "code",
   "execution_count": 145,
   "id": "8d9d591d",
   "metadata": {
    "colab": {
     "base_uri": "https://localhost:8080/"
    },
    "executionInfo": {
     "elapsed": 456,
     "status": "ok",
     "timestamp": 1734185886045,
     "user": {
      "displayName": "Pavel Efimov",
      "userId": "11310524505359177201"
     },
     "user_tz": -180
    },
    "id": "8d9d591d",
    "outputId": "55779479-4cbf-4482-dfbd-957123b1111d"
   },
   "outputs": [
    {
     "data": {
      "text/plain": [
       "('BookRestaurant', 0.9991974234580994)"
      ]
     },
     "execution_count": 145,
     "metadata": {},
     "output_type": "execute_result"
    }
   ],
   "source": [
    "text = 'book canteen at 16 o clock'\n",
    "\n",
    "process_line(text, model, tokens_vocab, idx_to_label, device, TEXT_LOWER)"
   ]
  },
  {
   "cell_type": "code",
   "execution_count": 146,
   "id": "f392b05a",
   "metadata": {
    "colab": {
     "base_uri": "https://localhost:8080/"
    },
    "executionInfo": {
     "elapsed": 5,
     "status": "ok",
     "timestamp": 1734185889399,
     "user": {
      "displayName": "Pavel Efimov",
      "userId": "11310524505359177201"
     },
     "user_tz": -180
    },
    "id": "f392b05a",
    "outputId": "57ba10ff-9be9-4930-f9d0-9bd043c1b2f1"
   },
   "outputs": [
    {
     "data": {
      "text/plain": [
       "('PlayMusic', 0.9444144368171692)"
      ]
     },
     "execution_count": 146,
     "metadata": {},
     "output_type": "execute_result"
    }
   ],
   "source": [
    "text = 'I want to listen something nice'\n",
    "\n",
    "process_line(text, model, tokens_vocab, idx_to_label, device, TEXT_LOWER)"
   ]
  },
  {
   "cell_type": "code",
   "execution_count": 147,
   "id": "3b029fff",
   "metadata": {
    "colab": {
     "base_uri": "https://localhost:8080/"
    },
    "executionInfo": {
     "elapsed": 3,
     "status": "ok",
     "timestamp": 1734185891668,
     "user": {
      "displayName": "Pavel Efimov",
      "userId": "11310524505359177201"
     },
     "user_tz": -180
    },
    "id": "3b029fff",
    "outputId": "b920e1f2-c28e-4ba6-af04-b340d3dcdd3e"
   },
   "outputs": [
    {
     "data": {
      "text/plain": [
       "('GetWeather', 0.9996844530105591)"
      ]
     },
     "execution_count": 147,
     "metadata": {},
     "output_type": "execute_result"
    }
   ],
   "source": [
    "text = 'How cold it will be tomorrow?'\n",
    "\n",
    "process_line(text, model, tokens_vocab, idx_to_label, device, TEXT_LOWER)"
   ]
  },
  {
   "cell_type": "markdown",
   "id": "a4DFp8HxTdGr",
   "metadata": {
    "id": "a4DFp8HxTdGr"
   },
   "source": [
    "![](https://karpathy.github.io/assets/rnn/diags.jpeg)"
   ]
  }
 ],
 "metadata": {
  "accelerator": "GPU",
  "colab": {
   "gpuType": "T4",
   "provenance": []
  },
  "kernelspec": {
   "display_name": "Python 3 (ipykernel)",
   "language": "python",
   "name": "python3"
  },
  "language_info": {
   "codemirror_mode": {
    "name": "ipython",
    "version": 3
   },
   "file_extension": ".py",
   "mimetype": "text/x-python",
   "name": "python",
   "nbconvert_exporter": "python",
   "pygments_lexer": "ipython3",
   "version": "3.11.3"
  },
  "widgets": {
   "application/vnd.jupyter.widget-state+json": {
    "057e1848ce164dc4932b3383dc8bd20e": {
     "model_module": "@jupyter-widgets/base",
     "model_module_version": "1.2.0",
     "model_name": "LayoutModel",
     "state": {
      "_model_module": "@jupyter-widgets/base",
      "_model_module_version": "1.2.0",
      "_model_name": "LayoutModel",
      "_view_count": null,
      "_view_module": "@jupyter-widgets/base",
      "_view_module_version": "1.2.0",
      "_view_name": "LayoutView",
      "align_content": null,
      "align_items": null,
      "align_self": null,
      "border": null,
      "bottom": null,
      "display": null,
      "flex": null,
      "flex_flow": null,
      "grid_area": null,
      "grid_auto_columns": null,
      "grid_auto_flow": null,
      "grid_auto_rows": null,
      "grid_column": null,
      "grid_gap": null,
      "grid_row": null,
      "grid_template_areas": null,
      "grid_template_columns": null,
      "grid_template_rows": null,
      "height": null,
      "justify_content": null,
      "justify_items": null,
      "left": null,
      "margin": null,
      "max_height": null,
      "max_width": null,
      "min_height": null,
      "min_width": null,
      "object_fit": null,
      "object_position": null,
      "order": null,
      "overflow": null,
      "overflow_x": null,
      "overflow_y": null,
      "padding": null,
      "right": null,
      "top": null,
      "visibility": null,
      "width": null
     }
    },
    "08e020b178f4464dbb92d9a19e9f2f55": {
     "model_module": "@jupyter-widgets/controls",
     "model_module_version": "1.5.0",
     "model_name": "DescriptionStyleModel",
     "state": {
      "_model_module": "@jupyter-widgets/controls",
      "_model_module_version": "1.5.0",
      "_model_name": "DescriptionStyleModel",
      "_view_count": null,
      "_view_module": "@jupyter-widgets/base",
      "_view_module_version": "1.2.0",
      "_view_name": "StyleView",
      "description_width": ""
     }
    },
    "118eceef14de443398afd2049d6ac5cf": {
     "model_module": "@jupyter-widgets/controls",
     "model_module_version": "1.5.0",
     "model_name": "HBoxModel",
     "state": {
      "_dom_classes": [],
      "_model_module": "@jupyter-widgets/controls",
      "_model_module_version": "1.5.0",
      "_model_name": "HBoxModel",
      "_view_count": null,
      "_view_module": "@jupyter-widgets/controls",
      "_view_module_version": "1.5.0",
      "_view_name": "HBoxView",
      "box_style": "",
      "children": [
       "IPY_MODEL_fc688b788aff4d259c9f824bdfe6899e",
       "IPY_MODEL_1facfcea293b4e9a83d2877d789ca508",
       "IPY_MODEL_5a25dc3aff4548c8ad2416435d2c5204"
      ],
      "layout": "IPY_MODEL_057e1848ce164dc4932b3383dc8bd20e"
     }
    },
    "1b486c32b14149feb775f7e9e3a5725c": {
     "model_module": "@jupyter-widgets/base",
     "model_module_version": "1.2.0",
     "model_name": "LayoutModel",
     "state": {
      "_model_module": "@jupyter-widgets/base",
      "_model_module_version": "1.2.0",
      "_model_name": "LayoutModel",
      "_view_count": null,
      "_view_module": "@jupyter-widgets/base",
      "_view_module_version": "1.2.0",
      "_view_name": "LayoutView",
      "align_content": null,
      "align_items": null,
      "align_self": null,
      "border": null,
      "bottom": null,
      "display": null,
      "flex": null,
      "flex_flow": null,
      "grid_area": null,
      "grid_auto_columns": null,
      "grid_auto_flow": null,
      "grid_auto_rows": null,
      "grid_column": null,
      "grid_gap": null,
      "grid_row": null,
      "grid_template_areas": null,
      "grid_template_columns": null,
      "grid_template_rows": null,
      "height": null,
      "justify_content": null,
      "justify_items": null,
      "left": null,
      "margin": null,
      "max_height": null,
      "max_width": null,
      "min_height": null,
      "min_width": null,
      "object_fit": null,
      "object_position": null,
      "order": null,
      "overflow": null,
      "overflow_x": null,
      "overflow_y": null,
      "padding": null,
      "right": null,
      "top": null,
      "visibility": null,
      "width": null
     }
    },
    "1facfcea293b4e9a83d2877d789ca508": {
     "model_module": "@jupyter-widgets/controls",
     "model_module_version": "1.5.0",
     "model_name": "FloatProgressModel",
     "state": {
      "_dom_classes": [],
      "_model_module": "@jupyter-widgets/controls",
      "_model_module_version": "1.5.0",
      "_model_name": "FloatProgressModel",
      "_view_count": null,
      "_view_module": "@jupyter-widgets/controls",
      "_view_module_version": "1.5.0",
      "_view_name": "ProgressView",
      "bar_style": "success",
      "description": "",
      "description_tooltip": null,
      "layout": "IPY_MODEL_9a771242f8154b05990c375c46465c9a",
      "max": 700,
      "min": 0,
      "orientation": "horizontal",
      "style": "IPY_MODEL_2dd55d11e5e3460ba2dc69898d5789bf",
      "value": 700
     }
    },
    "28fbfca12d604d129ed7477e89c65162": {
     "model_module": "@jupyter-widgets/base",
     "model_module_version": "1.2.0",
     "model_name": "LayoutModel",
     "state": {
      "_model_module": "@jupyter-widgets/base",
      "_model_module_version": "1.2.0",
      "_model_name": "LayoutModel",
      "_view_count": null,
      "_view_module": "@jupyter-widgets/base",
      "_view_module_version": "1.2.0",
      "_view_name": "LayoutView",
      "align_content": null,
      "align_items": null,
      "align_self": null,
      "border": null,
      "bottom": null,
      "display": null,
      "flex": null,
      "flex_flow": null,
      "grid_area": null,
      "grid_auto_columns": null,
      "grid_auto_flow": null,
      "grid_auto_rows": null,
      "grid_column": null,
      "grid_gap": null,
      "grid_row": null,
      "grid_template_areas": null,
      "grid_template_columns": null,
      "grid_template_rows": null,
      "height": null,
      "justify_content": null,
      "justify_items": null,
      "left": null,
      "margin": null,
      "max_height": null,
      "max_width": null,
      "min_height": null,
      "min_width": null,
      "object_fit": null,
      "object_position": null,
      "order": null,
      "overflow": null,
      "overflow_x": null,
      "overflow_y": null,
      "padding": null,
      "right": null,
      "top": null,
      "visibility": null,
      "width": null
     }
    },
    "2dd55d11e5e3460ba2dc69898d5789bf": {
     "model_module": "@jupyter-widgets/controls",
     "model_module_version": "1.5.0",
     "model_name": "ProgressStyleModel",
     "state": {
      "_model_module": "@jupyter-widgets/controls",
      "_model_module_version": "1.5.0",
      "_model_name": "ProgressStyleModel",
      "_view_count": null,
      "_view_module": "@jupyter-widgets/base",
      "_view_module_version": "1.2.0",
      "_view_name": "StyleView",
      "bar_color": null,
      "description_width": ""
     }
    },
    "39234ffbdfb74d52a6fa619ca9454971": {
     "model_module": "@jupyter-widgets/controls",
     "model_module_version": "1.5.0",
     "model_name": "HTMLModel",
     "state": {
      "_dom_classes": [],
      "_model_module": "@jupyter-widgets/controls",
      "_model_module_version": "1.5.0",
      "_model_name": "HTMLModel",
      "_view_count": null,
      "_view_module": "@jupyter-widgets/controls",
      "_view_module_version": "1.5.0",
      "_view_name": "HTMLView",
      "description": "",
      "description_tooltip": null,
      "layout": "IPY_MODEL_9e5eb54dc69941b389c3f5aa6b72186f",
      "placeholder": "​",
      "style": "IPY_MODEL_f0dd0857a6fe4b11ad43ad7eaab94fee",
      "value": "Map: 100%"
     }
    },
    "3937654dfe5841129784851ee42f9050": {
     "model_module": "@jupyter-widgets/controls",
     "model_module_version": "1.5.0",
     "model_name": "HTMLModel",
     "state": {
      "_dom_classes": [],
      "_model_module": "@jupyter-widgets/controls",
      "_model_module_version": "1.5.0",
      "_model_name": "HTMLModel",
      "_view_count": null,
      "_view_module": "@jupyter-widgets/controls",
      "_view_module_version": "1.5.0",
      "_view_name": "HTMLView",
      "description": "",
      "description_tooltip": null,
      "layout": "IPY_MODEL_7b3cb57df68c4b78836a1858c5f283f6",
      "placeholder": "​",
      "style": "IPY_MODEL_08e020b178f4464dbb92d9a19e9f2f55",
      "value": "Map: 100%"
     }
    },
    "468ea8a0309a45f2b8a3b779831071ec": {
     "model_module": "@jupyter-widgets/controls",
     "model_module_version": "1.5.0",
     "model_name": "FloatProgressModel",
     "state": {
      "_dom_classes": [],
      "_model_module": "@jupyter-widgets/controls",
      "_model_module_version": "1.5.0",
      "_model_name": "FloatProgressModel",
      "_view_count": null,
      "_view_module": "@jupyter-widgets/controls",
      "_view_module_version": "1.5.0",
      "_view_name": "ProgressView",
      "bar_style": "success",
      "description": "",
      "description_tooltip": null,
      "layout": "IPY_MODEL_982e547029d74ff4b363bb0e59cdde08",
      "max": 700,
      "min": 0,
      "orientation": "horizontal",
      "style": "IPY_MODEL_9c688d84fd2f45b3a2ded56b86934846",
      "value": 700
     }
    },
    "47a8f4478151418eb27480493cd9f4da": {
     "model_module": "@jupyter-widgets/base",
     "model_module_version": "1.2.0",
     "model_name": "LayoutModel",
     "state": {
      "_model_module": "@jupyter-widgets/base",
      "_model_module_version": "1.2.0",
      "_model_name": "LayoutModel",
      "_view_count": null,
      "_view_module": "@jupyter-widgets/base",
      "_view_module_version": "1.2.0",
      "_view_name": "LayoutView",
      "align_content": null,
      "align_items": null,
      "align_self": null,
      "border": null,
      "bottom": null,
      "display": null,
      "flex": null,
      "flex_flow": null,
      "grid_area": null,
      "grid_auto_columns": null,
      "grid_auto_flow": null,
      "grid_auto_rows": null,
      "grid_column": null,
      "grid_gap": null,
      "grid_row": null,
      "grid_template_areas": null,
      "grid_template_columns": null,
      "grid_template_rows": null,
      "height": null,
      "justify_content": null,
      "justify_items": null,
      "left": null,
      "margin": null,
      "max_height": null,
      "max_width": null,
      "min_height": null,
      "min_width": null,
      "object_fit": null,
      "object_position": null,
      "order": null,
      "overflow": null,
      "overflow_x": null,
      "overflow_y": null,
      "padding": null,
      "right": null,
      "top": null,
      "visibility": null,
      "width": null
     }
    },
    "5670bdb2bb9c4ab88119f1e1eb0b6c35": {
     "model_module": "@jupyter-widgets/controls",
     "model_module_version": "1.5.0",
     "model_name": "HTMLModel",
     "state": {
      "_dom_classes": [],
      "_model_module": "@jupyter-widgets/controls",
      "_model_module_version": "1.5.0",
      "_model_name": "HTMLModel",
      "_view_count": null,
      "_view_module": "@jupyter-widgets/controls",
      "_view_module_version": "1.5.0",
      "_view_name": "HTMLView",
      "description": "",
      "description_tooltip": null,
      "layout": "IPY_MODEL_e9e98ba4f5d14391a0c87814fd2a614b",
      "placeholder": "​",
      "style": "IPY_MODEL_627b75223f554dfaa1667c8c95bab581",
      "value": " 13084/13084 [00:00&lt;00:00, 15195.61 examples/s]"
     }
    },
    "5a25dc3aff4548c8ad2416435d2c5204": {
     "model_module": "@jupyter-widgets/controls",
     "model_module_version": "1.5.0",
     "model_name": "HTMLModel",
     "state": {
      "_dom_classes": [],
      "_model_module": "@jupyter-widgets/controls",
      "_model_module_version": "1.5.0",
      "_model_name": "HTMLModel",
      "_view_count": null,
      "_view_module": "@jupyter-widgets/controls",
      "_view_module_version": "1.5.0",
      "_view_name": "HTMLView",
      "description": "",
      "description_tooltip": null,
      "layout": "IPY_MODEL_eb230124e4b140008420cdbdce4fc512",
      "placeholder": "​",
      "style": "IPY_MODEL_88cea26e6e224036a9b7c3125b3e1bcf",
      "value": " 700/700 [00:00&lt;00:00, 9532.76 examples/s]"
     }
    },
    "627b75223f554dfaa1667c8c95bab581": {
     "model_module": "@jupyter-widgets/controls",
     "model_module_version": "1.5.0",
     "model_name": "DescriptionStyleModel",
     "state": {
      "_model_module": "@jupyter-widgets/controls",
      "_model_module_version": "1.5.0",
      "_model_name": "DescriptionStyleModel",
      "_view_count": null,
      "_view_module": "@jupyter-widgets/base",
      "_view_module_version": "1.2.0",
      "_view_name": "StyleView",
      "description_width": ""
     }
    },
    "6b9ad8e62ad54c44a6f1132048c3b10b": {
     "model_module": "@jupyter-widgets/controls",
     "model_module_version": "1.5.0",
     "model_name": "HTMLModel",
     "state": {
      "_dom_classes": [],
      "_model_module": "@jupyter-widgets/controls",
      "_model_module_version": "1.5.0",
      "_model_name": "HTMLModel",
      "_view_count": null,
      "_view_module": "@jupyter-widgets/controls",
      "_view_module_version": "1.5.0",
      "_view_name": "HTMLView",
      "description": "",
      "description_tooltip": null,
      "layout": "IPY_MODEL_f1684e97f56a4df686682252fa04e651",
      "placeholder": "​",
      "style": "IPY_MODEL_943c3f47cd0a4bee89fc9bcef31eb173",
      "value": " 700/700 [00:00&lt;00:00, 9473.33 examples/s]"
     }
    },
    "71219991109947e3a46f40c89beaa647": {
     "model_module": "@jupyter-widgets/controls",
     "model_module_version": "1.5.0",
     "model_name": "HBoxModel",
     "state": {
      "_dom_classes": [],
      "_model_module": "@jupyter-widgets/controls",
      "_model_module_version": "1.5.0",
      "_model_name": "HBoxModel",
      "_view_count": null,
      "_view_module": "@jupyter-widgets/controls",
      "_view_module_version": "1.5.0",
      "_view_name": "HBoxView",
      "box_style": "",
      "children": [
       "IPY_MODEL_3937654dfe5841129784851ee42f9050",
       "IPY_MODEL_f116aaa2f48740f889e7b04ddfa6362f",
       "IPY_MODEL_5670bdb2bb9c4ab88119f1e1eb0b6c35"
      ],
      "layout": "IPY_MODEL_1b486c32b14149feb775f7e9e3a5725c"
     }
    },
    "7b3cb57df68c4b78836a1858c5f283f6": {
     "model_module": "@jupyter-widgets/base",
     "model_module_version": "1.2.0",
     "model_name": "LayoutModel",
     "state": {
      "_model_module": "@jupyter-widgets/base",
      "_model_module_version": "1.2.0",
      "_model_name": "LayoutModel",
      "_view_count": null,
      "_view_module": "@jupyter-widgets/base",
      "_view_module_version": "1.2.0",
      "_view_name": "LayoutView",
      "align_content": null,
      "align_items": null,
      "align_self": null,
      "border": null,
      "bottom": null,
      "display": null,
      "flex": null,
      "flex_flow": null,
      "grid_area": null,
      "grid_auto_columns": null,
      "grid_auto_flow": null,
      "grid_auto_rows": null,
      "grid_column": null,
      "grid_gap": null,
      "grid_row": null,
      "grid_template_areas": null,
      "grid_template_columns": null,
      "grid_template_rows": null,
      "height": null,
      "justify_content": null,
      "justify_items": null,
      "left": null,
      "margin": null,
      "max_height": null,
      "max_width": null,
      "min_height": null,
      "min_width": null,
      "object_fit": null,
      "object_position": null,
      "order": null,
      "overflow": null,
      "overflow_x": null,
      "overflow_y": null,
      "padding": null,
      "right": null,
      "top": null,
      "visibility": null,
      "width": null
     }
    },
    "88cea26e6e224036a9b7c3125b3e1bcf": {
     "model_module": "@jupyter-widgets/controls",
     "model_module_version": "1.5.0",
     "model_name": "DescriptionStyleModel",
     "state": {
      "_model_module": "@jupyter-widgets/controls",
      "_model_module_version": "1.5.0",
      "_model_name": "DescriptionStyleModel",
      "_view_count": null,
      "_view_module": "@jupyter-widgets/base",
      "_view_module_version": "1.2.0",
      "_view_name": "StyleView",
      "description_width": ""
     }
    },
    "943c3f47cd0a4bee89fc9bcef31eb173": {
     "model_module": "@jupyter-widgets/controls",
     "model_module_version": "1.5.0",
     "model_name": "DescriptionStyleModel",
     "state": {
      "_model_module": "@jupyter-widgets/controls",
      "_model_module_version": "1.5.0",
      "_model_name": "DescriptionStyleModel",
      "_view_count": null,
      "_view_module": "@jupyter-widgets/base",
      "_view_module_version": "1.2.0",
      "_view_name": "StyleView",
      "description_width": ""
     }
    },
    "982e547029d74ff4b363bb0e59cdde08": {
     "model_module": "@jupyter-widgets/base",
     "model_module_version": "1.2.0",
     "model_name": "LayoutModel",
     "state": {
      "_model_module": "@jupyter-widgets/base",
      "_model_module_version": "1.2.0",
      "_model_name": "LayoutModel",
      "_view_count": null,
      "_view_module": "@jupyter-widgets/base",
      "_view_module_version": "1.2.0",
      "_view_name": "LayoutView",
      "align_content": null,
      "align_items": null,
      "align_self": null,
      "border": null,
      "bottom": null,
      "display": null,
      "flex": null,
      "flex_flow": null,
      "grid_area": null,
      "grid_auto_columns": null,
      "grid_auto_flow": null,
      "grid_auto_rows": null,
      "grid_column": null,
      "grid_gap": null,
      "grid_row": null,
      "grid_template_areas": null,
      "grid_template_columns": null,
      "grid_template_rows": null,
      "height": null,
      "justify_content": null,
      "justify_items": null,
      "left": null,
      "margin": null,
      "max_height": null,
      "max_width": null,
      "min_height": null,
      "min_width": null,
      "object_fit": null,
      "object_position": null,
      "order": null,
      "overflow": null,
      "overflow_x": null,
      "overflow_y": null,
      "padding": null,
      "right": null,
      "top": null,
      "visibility": null,
      "width": null
     }
    },
    "9a771242f8154b05990c375c46465c9a": {
     "model_module": "@jupyter-widgets/base",
     "model_module_version": "1.2.0",
     "model_name": "LayoutModel",
     "state": {
      "_model_module": "@jupyter-widgets/base",
      "_model_module_version": "1.2.0",
      "_model_name": "LayoutModel",
      "_view_count": null,
      "_view_module": "@jupyter-widgets/base",
      "_view_module_version": "1.2.0",
      "_view_name": "LayoutView",
      "align_content": null,
      "align_items": null,
      "align_self": null,
      "border": null,
      "bottom": null,
      "display": null,
      "flex": null,
      "flex_flow": null,
      "grid_area": null,
      "grid_auto_columns": null,
      "grid_auto_flow": null,
      "grid_auto_rows": null,
      "grid_column": null,
      "grid_gap": null,
      "grid_row": null,
      "grid_template_areas": null,
      "grid_template_columns": null,
      "grid_template_rows": null,
      "height": null,
      "justify_content": null,
      "justify_items": null,
      "left": null,
      "margin": null,
      "max_height": null,
      "max_width": null,
      "min_height": null,
      "min_width": null,
      "object_fit": null,
      "object_position": null,
      "order": null,
      "overflow": null,
      "overflow_x": null,
      "overflow_y": null,
      "padding": null,
      "right": null,
      "top": null,
      "visibility": null,
      "width": null
     }
    },
    "9c688d84fd2f45b3a2ded56b86934846": {
     "model_module": "@jupyter-widgets/controls",
     "model_module_version": "1.5.0",
     "model_name": "ProgressStyleModel",
     "state": {
      "_model_module": "@jupyter-widgets/controls",
      "_model_module_version": "1.5.0",
      "_model_name": "ProgressStyleModel",
      "_view_count": null,
      "_view_module": "@jupyter-widgets/base",
      "_view_module_version": "1.2.0",
      "_view_name": "StyleView",
      "bar_color": null,
      "description_width": ""
     }
    },
    "9e5eb54dc69941b389c3f5aa6b72186f": {
     "model_module": "@jupyter-widgets/base",
     "model_module_version": "1.2.0",
     "model_name": "LayoutModel",
     "state": {
      "_model_module": "@jupyter-widgets/base",
      "_model_module_version": "1.2.0",
      "_model_name": "LayoutModel",
      "_view_count": null,
      "_view_module": "@jupyter-widgets/base",
      "_view_module_version": "1.2.0",
      "_view_name": "LayoutView",
      "align_content": null,
      "align_items": null,
      "align_self": null,
      "border": null,
      "bottom": null,
      "display": null,
      "flex": null,
      "flex_flow": null,
      "grid_area": null,
      "grid_auto_columns": null,
      "grid_auto_flow": null,
      "grid_auto_rows": null,
      "grid_column": null,
      "grid_gap": null,
      "grid_row": null,
      "grid_template_areas": null,
      "grid_template_columns": null,
      "grid_template_rows": null,
      "height": null,
      "justify_content": null,
      "justify_items": null,
      "left": null,
      "margin": null,
      "max_height": null,
      "max_width": null,
      "min_height": null,
      "min_width": null,
      "object_fit": null,
      "object_position": null,
      "order": null,
      "overflow": null,
      "overflow_x": null,
      "overflow_y": null,
      "padding": null,
      "right": null,
      "top": null,
      "visibility": null,
      "width": null
     }
    },
    "ab5e298b9409485b807a06f6124dd97a": {
     "model_module": "@jupyter-widgets/base",
     "model_module_version": "1.2.0",
     "model_name": "LayoutModel",
     "state": {
      "_model_module": "@jupyter-widgets/base",
      "_model_module_version": "1.2.0",
      "_model_name": "LayoutModel",
      "_view_count": null,
      "_view_module": "@jupyter-widgets/base",
      "_view_module_version": "1.2.0",
      "_view_name": "LayoutView",
      "align_content": null,
      "align_items": null,
      "align_self": null,
      "border": null,
      "bottom": null,
      "display": null,
      "flex": null,
      "flex_flow": null,
      "grid_area": null,
      "grid_auto_columns": null,
      "grid_auto_flow": null,
      "grid_auto_rows": null,
      "grid_column": null,
      "grid_gap": null,
      "grid_row": null,
      "grid_template_areas": null,
      "grid_template_columns": null,
      "grid_template_rows": null,
      "height": null,
      "justify_content": null,
      "justify_items": null,
      "left": null,
      "margin": null,
      "max_height": null,
      "max_width": null,
      "min_height": null,
      "min_width": null,
      "object_fit": null,
      "object_position": null,
      "order": null,
      "overflow": null,
      "overflow_x": null,
      "overflow_y": null,
      "padding": null,
      "right": null,
      "top": null,
      "visibility": null,
      "width": null
     }
    },
    "ad64ad684c5e4892a7ff5a57c9ec91c3": {
     "model_module": "@jupyter-widgets/controls",
     "model_module_version": "1.5.0",
     "model_name": "DescriptionStyleModel",
     "state": {
      "_model_module": "@jupyter-widgets/controls",
      "_model_module_version": "1.5.0",
      "_model_name": "DescriptionStyleModel",
      "_view_count": null,
      "_view_module": "@jupyter-widgets/base",
      "_view_module_version": "1.2.0",
      "_view_name": "StyleView",
      "description_width": ""
     }
    },
    "b1cef406132d4b70b2bad23640718a05": {
     "model_module": "@jupyter-widgets/controls",
     "model_module_version": "1.5.0",
     "model_name": "HBoxModel",
     "state": {
      "_dom_classes": [],
      "_model_module": "@jupyter-widgets/controls",
      "_model_module_version": "1.5.0",
      "_model_name": "HBoxModel",
      "_view_count": null,
      "_view_module": "@jupyter-widgets/controls",
      "_view_module_version": "1.5.0",
      "_view_name": "HBoxView",
      "box_style": "",
      "children": [
       "IPY_MODEL_39234ffbdfb74d52a6fa619ca9454971",
       "IPY_MODEL_468ea8a0309a45f2b8a3b779831071ec",
       "IPY_MODEL_6b9ad8e62ad54c44a6f1132048c3b10b"
      ],
      "layout": "IPY_MODEL_ab5e298b9409485b807a06f6124dd97a"
     }
    },
    "c3bcc14682504c988caf16feb404ab4c": {
     "model_module": "@jupyter-widgets/controls",
     "model_module_version": "1.5.0",
     "model_name": "ProgressStyleModel",
     "state": {
      "_model_module": "@jupyter-widgets/controls",
      "_model_module_version": "1.5.0",
      "_model_name": "ProgressStyleModel",
      "_view_count": null,
      "_view_module": "@jupyter-widgets/base",
      "_view_module_version": "1.2.0",
      "_view_name": "StyleView",
      "bar_color": null,
      "description_width": ""
     }
    },
    "e9e98ba4f5d14391a0c87814fd2a614b": {
     "model_module": "@jupyter-widgets/base",
     "model_module_version": "1.2.0",
     "model_name": "LayoutModel",
     "state": {
      "_model_module": "@jupyter-widgets/base",
      "_model_module_version": "1.2.0",
      "_model_name": "LayoutModel",
      "_view_count": null,
      "_view_module": "@jupyter-widgets/base",
      "_view_module_version": "1.2.0",
      "_view_name": "LayoutView",
      "align_content": null,
      "align_items": null,
      "align_self": null,
      "border": null,
      "bottom": null,
      "display": null,
      "flex": null,
      "flex_flow": null,
      "grid_area": null,
      "grid_auto_columns": null,
      "grid_auto_flow": null,
      "grid_auto_rows": null,
      "grid_column": null,
      "grid_gap": null,
      "grid_row": null,
      "grid_template_areas": null,
      "grid_template_columns": null,
      "grid_template_rows": null,
      "height": null,
      "justify_content": null,
      "justify_items": null,
      "left": null,
      "margin": null,
      "max_height": null,
      "max_width": null,
      "min_height": null,
      "min_width": null,
      "object_fit": null,
      "object_position": null,
      "order": null,
      "overflow": null,
      "overflow_x": null,
      "overflow_y": null,
      "padding": null,
      "right": null,
      "top": null,
      "visibility": null,
      "width": null
     }
    },
    "eb230124e4b140008420cdbdce4fc512": {
     "model_module": "@jupyter-widgets/base",
     "model_module_version": "1.2.0",
     "model_name": "LayoutModel",
     "state": {
      "_model_module": "@jupyter-widgets/base",
      "_model_module_version": "1.2.0",
      "_model_name": "LayoutModel",
      "_view_count": null,
      "_view_module": "@jupyter-widgets/base",
      "_view_module_version": "1.2.0",
      "_view_name": "LayoutView",
      "align_content": null,
      "align_items": null,
      "align_self": null,
      "border": null,
      "bottom": null,
      "display": null,
      "flex": null,
      "flex_flow": null,
      "grid_area": null,
      "grid_auto_columns": null,
      "grid_auto_flow": null,
      "grid_auto_rows": null,
      "grid_column": null,
      "grid_gap": null,
      "grid_row": null,
      "grid_template_areas": null,
      "grid_template_columns": null,
      "grid_template_rows": null,
      "height": null,
      "justify_content": null,
      "justify_items": null,
      "left": null,
      "margin": null,
      "max_height": null,
      "max_width": null,
      "min_height": null,
      "min_width": null,
      "object_fit": null,
      "object_position": null,
      "order": null,
      "overflow": null,
      "overflow_x": null,
      "overflow_y": null,
      "padding": null,
      "right": null,
      "top": null,
      "visibility": null,
      "width": null
     }
    },
    "f0dd0857a6fe4b11ad43ad7eaab94fee": {
     "model_module": "@jupyter-widgets/controls",
     "model_module_version": "1.5.0",
     "model_name": "DescriptionStyleModel",
     "state": {
      "_model_module": "@jupyter-widgets/controls",
      "_model_module_version": "1.5.0",
      "_model_name": "DescriptionStyleModel",
      "_view_count": null,
      "_view_module": "@jupyter-widgets/base",
      "_view_module_version": "1.2.0",
      "_view_name": "StyleView",
      "description_width": ""
     }
    },
    "f116aaa2f48740f889e7b04ddfa6362f": {
     "model_module": "@jupyter-widgets/controls",
     "model_module_version": "1.5.0",
     "model_name": "FloatProgressModel",
     "state": {
      "_dom_classes": [],
      "_model_module": "@jupyter-widgets/controls",
      "_model_module_version": "1.5.0",
      "_model_name": "FloatProgressModel",
      "_view_count": null,
      "_view_module": "@jupyter-widgets/controls",
      "_view_module_version": "1.5.0",
      "_view_name": "ProgressView",
      "bar_style": "success",
      "description": "",
      "description_tooltip": null,
      "layout": "IPY_MODEL_28fbfca12d604d129ed7477e89c65162",
      "max": 13084,
      "min": 0,
      "orientation": "horizontal",
      "style": "IPY_MODEL_c3bcc14682504c988caf16feb404ab4c",
      "value": 13084
     }
    },
    "f1684e97f56a4df686682252fa04e651": {
     "model_module": "@jupyter-widgets/base",
     "model_module_version": "1.2.0",
     "model_name": "LayoutModel",
     "state": {
      "_model_module": "@jupyter-widgets/base",
      "_model_module_version": "1.2.0",
      "_model_name": "LayoutModel",
      "_view_count": null,
      "_view_module": "@jupyter-widgets/base",
      "_view_module_version": "1.2.0",
      "_view_name": "LayoutView",
      "align_content": null,
      "align_items": null,
      "align_self": null,
      "border": null,
      "bottom": null,
      "display": null,
      "flex": null,
      "flex_flow": null,
      "grid_area": null,
      "grid_auto_columns": null,
      "grid_auto_flow": null,
      "grid_auto_rows": null,
      "grid_column": null,
      "grid_gap": null,
      "grid_row": null,
      "grid_template_areas": null,
      "grid_template_columns": null,
      "grid_template_rows": null,
      "height": null,
      "justify_content": null,
      "justify_items": null,
      "left": null,
      "margin": null,
      "max_height": null,
      "max_width": null,
      "min_height": null,
      "min_width": null,
      "object_fit": null,
      "object_position": null,
      "order": null,
      "overflow": null,
      "overflow_x": null,
      "overflow_y": null,
      "padding": null,
      "right": null,
      "top": null,
      "visibility": null,
      "width": null
     }
    },
    "fc688b788aff4d259c9f824bdfe6899e": {
     "model_module": "@jupyter-widgets/controls",
     "model_module_version": "1.5.0",
     "model_name": "HTMLModel",
     "state": {
      "_dom_classes": [],
      "_model_module": "@jupyter-widgets/controls",
      "_model_module_version": "1.5.0",
      "_model_name": "HTMLModel",
      "_view_count": null,
      "_view_module": "@jupyter-widgets/controls",
      "_view_module_version": "1.5.0",
      "_view_name": "HTMLView",
      "description": "",
      "description_tooltip": null,
      "layout": "IPY_MODEL_47a8f4478151418eb27480493cd9f4da",
      "placeholder": "​",
      "style": "IPY_MODEL_ad64ad684c5e4892a7ff5a57c9ec91c3",
      "value": "Map: 100%"
     }
    }
   }
  }
 },
 "nbformat": 4,
 "nbformat_minor": 5
}
